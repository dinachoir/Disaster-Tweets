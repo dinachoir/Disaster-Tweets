{
  "nbformat": 4,
  "nbformat_minor": 0,
  "metadata": {
    "colab": {
      "name": "Natural Language Processing with Disaster Tweets.ipynb",
      "provenance": [],
      "collapsed_sections": [],
      "mount_file_id": "1udu8JdqUu-uJBuEMl9ec7nHlaIziPKy9",
      "authorship_tag": "ABX9TyPQcTAC1EIBUS+Rf0y7nrFO",
      "include_colab_link": true
    },
    "kernelspec": {
      "name": "python3",
      "display_name": "Python 3"
    },
    "language_info": {
      "name": "python"
    },
    "accelerator": "GPU",
    "gpuClass": "standard"
  },
  "cells": [
    {
      "cell_type": "markdown",
      "metadata": {
        "id": "view-in-github",
        "colab_type": "text"
      },
      "source": [
        "<a href=\"https://colab.research.google.com/github/dinachoir/Disaster-Tweets/blob/main/Natural_Language_Processing_with_Disaster_Tweets.ipynb\" target=\"_parent\"><img src=\"https://colab.research.google.com/assets/colab-badge.svg\" alt=\"Open In Colab\"/></a>"
      ]
    },
    {
      "cell_type": "markdown",
      "source": [
        "# **Natural Language Processing with Disaster Tweets**\n",
        "\n",
        "## **Objective**\n",
        "To predict which Tweets are about real disasters and which ones are not\n",
        "\n",
        "## **Dataset**\n",
        "The dataset is a [kaggle competition dataset](https://www.kaggle.com/competitions/nlp-getting-started/overview). This dataset was created by the company figure-eight and originally shared on their ‘Data For Everyone’ website [here](https://www.figure-eight.com/data-for-everyone/). It contains 10,000 tweets that were hand classified.\n",
        "\n",
        "**Columns**\n",
        "1. id - a unique identifier for each tweet\n",
        "2. text - the text of the tweet\n",
        "3. location - the location the tweet was sent from (may be blank)\n",
        "4. keyword - a particular keyword from the tweet (may be blank)\n",
        "5. target - in train.csv only, this denotes whether a tweet is about a real disaster (1) or not (0)\n"
      ],
      "metadata": {
        "id": "bOlx7LsmOSPJ"
      }
    },
    {
      "cell_type": "markdown",
      "source": [
        "## **Data**"
      ],
      "metadata": {
        "id": "wmXyeFnpZi9b"
      }
    },
    {
      "cell_type": "code",
      "execution_count": null,
      "metadata": {
        "colab": {
          "base_uri": "https://localhost:8080/",
          "height": 206
        },
        "id": "GASsMqToOFp_",
        "outputId": "18fe4a55-9cee-477b-df4d-d46e5e39c592"
      },
      "outputs": [
        {
          "output_type": "execute_result",
          "data": {
            "text/plain": [
              "   id keyword location                                               text  \\\n",
              "0   1     NaN      NaN  Our Deeds are the Reason of this #earthquake M...   \n",
              "1   4     NaN      NaN             Forest fire near La Ronge Sask. Canada   \n",
              "2   5     NaN      NaN  All residents asked to 'shelter in place' are ...   \n",
              "3   6     NaN      NaN  13,000 people receive #wildfires evacuation or...   \n",
              "4   7     NaN      NaN  Just got sent this photo from Ruby #Alaska as ...   \n",
              "\n",
              "   target  \n",
              "0       1  \n",
              "1       1  \n",
              "2       1  \n",
              "3       1  \n",
              "4       1  "
            ],
            "text/html": [
              "\n",
              "  <div id=\"df-52de0e38-4415-4733-a27e-c06e8e07f88e\">\n",
              "    <div class=\"colab-df-container\">\n",
              "      <div>\n",
              "<style scoped>\n",
              "    .dataframe tbody tr th:only-of-type {\n",
              "        vertical-align: middle;\n",
              "    }\n",
              "\n",
              "    .dataframe tbody tr th {\n",
              "        vertical-align: top;\n",
              "    }\n",
              "\n",
              "    .dataframe thead th {\n",
              "        text-align: right;\n",
              "    }\n",
              "</style>\n",
              "<table border=\"1\" class=\"dataframe\">\n",
              "  <thead>\n",
              "    <tr style=\"text-align: right;\">\n",
              "      <th></th>\n",
              "      <th>id</th>\n",
              "      <th>keyword</th>\n",
              "      <th>location</th>\n",
              "      <th>text</th>\n",
              "      <th>target</th>\n",
              "    </tr>\n",
              "  </thead>\n",
              "  <tbody>\n",
              "    <tr>\n",
              "      <th>0</th>\n",
              "      <td>1</td>\n",
              "      <td>NaN</td>\n",
              "      <td>NaN</td>\n",
              "      <td>Our Deeds are the Reason of this #earthquake M...</td>\n",
              "      <td>1</td>\n",
              "    </tr>\n",
              "    <tr>\n",
              "      <th>1</th>\n",
              "      <td>4</td>\n",
              "      <td>NaN</td>\n",
              "      <td>NaN</td>\n",
              "      <td>Forest fire near La Ronge Sask. Canada</td>\n",
              "      <td>1</td>\n",
              "    </tr>\n",
              "    <tr>\n",
              "      <th>2</th>\n",
              "      <td>5</td>\n",
              "      <td>NaN</td>\n",
              "      <td>NaN</td>\n",
              "      <td>All residents asked to 'shelter in place' are ...</td>\n",
              "      <td>1</td>\n",
              "    </tr>\n",
              "    <tr>\n",
              "      <th>3</th>\n",
              "      <td>6</td>\n",
              "      <td>NaN</td>\n",
              "      <td>NaN</td>\n",
              "      <td>13,000 people receive #wildfires evacuation or...</td>\n",
              "      <td>1</td>\n",
              "    </tr>\n",
              "    <tr>\n",
              "      <th>4</th>\n",
              "      <td>7</td>\n",
              "      <td>NaN</td>\n",
              "      <td>NaN</td>\n",
              "      <td>Just got sent this photo from Ruby #Alaska as ...</td>\n",
              "      <td>1</td>\n",
              "    </tr>\n",
              "  </tbody>\n",
              "</table>\n",
              "</div>\n",
              "      <button class=\"colab-df-convert\" onclick=\"convertToInteractive('df-52de0e38-4415-4733-a27e-c06e8e07f88e')\"\n",
              "              title=\"Convert this dataframe to an interactive table.\"\n",
              "              style=\"display:none;\">\n",
              "        \n",
              "  <svg xmlns=\"http://www.w3.org/2000/svg\" height=\"24px\"viewBox=\"0 0 24 24\"\n",
              "       width=\"24px\">\n",
              "    <path d=\"M0 0h24v24H0V0z\" fill=\"none\"/>\n",
              "    <path d=\"M18.56 5.44l.94 2.06.94-2.06 2.06-.94-2.06-.94-.94-2.06-.94 2.06-2.06.94zm-11 1L8.5 8.5l.94-2.06 2.06-.94-2.06-.94L8.5 2.5l-.94 2.06-2.06.94zm10 10l.94 2.06.94-2.06 2.06-.94-2.06-.94-.94-2.06-.94 2.06-2.06.94z\"/><path d=\"M17.41 7.96l-1.37-1.37c-.4-.4-.92-.59-1.43-.59-.52 0-1.04.2-1.43.59L10.3 9.45l-7.72 7.72c-.78.78-.78 2.05 0 2.83L4 21.41c.39.39.9.59 1.41.59.51 0 1.02-.2 1.41-.59l7.78-7.78 2.81-2.81c.8-.78.8-2.07 0-2.86zM5.41 20L4 18.59l7.72-7.72 1.47 1.35L5.41 20z\"/>\n",
              "  </svg>\n",
              "      </button>\n",
              "      \n",
              "  <style>\n",
              "    .colab-df-container {\n",
              "      display:flex;\n",
              "      flex-wrap:wrap;\n",
              "      gap: 12px;\n",
              "    }\n",
              "\n",
              "    .colab-df-convert {\n",
              "      background-color: #E8F0FE;\n",
              "      border: none;\n",
              "      border-radius: 50%;\n",
              "      cursor: pointer;\n",
              "      display: none;\n",
              "      fill: #1967D2;\n",
              "      height: 32px;\n",
              "      padding: 0 0 0 0;\n",
              "      width: 32px;\n",
              "    }\n",
              "\n",
              "    .colab-df-convert:hover {\n",
              "      background-color: #E2EBFA;\n",
              "      box-shadow: 0px 1px 2px rgba(60, 64, 67, 0.3), 0px 1px 3px 1px rgba(60, 64, 67, 0.15);\n",
              "      fill: #174EA6;\n",
              "    }\n",
              "\n",
              "    [theme=dark] .colab-df-convert {\n",
              "      background-color: #3B4455;\n",
              "      fill: #D2E3FC;\n",
              "    }\n",
              "\n",
              "    [theme=dark] .colab-df-convert:hover {\n",
              "      background-color: #434B5C;\n",
              "      box-shadow: 0px 1px 3px 1px rgba(0, 0, 0, 0.15);\n",
              "      filter: drop-shadow(0px 1px 2px rgba(0, 0, 0, 0.3));\n",
              "      fill: #FFFFFF;\n",
              "    }\n",
              "  </style>\n",
              "\n",
              "      <script>\n",
              "        const buttonEl =\n",
              "          document.querySelector('#df-52de0e38-4415-4733-a27e-c06e8e07f88e button.colab-df-convert');\n",
              "        buttonEl.style.display =\n",
              "          google.colab.kernel.accessAllowed ? 'block' : 'none';\n",
              "\n",
              "        async function convertToInteractive(key) {\n",
              "          const element = document.querySelector('#df-52de0e38-4415-4733-a27e-c06e8e07f88e');\n",
              "          const dataTable =\n",
              "            await google.colab.kernel.invokeFunction('convertToInteractive',\n",
              "                                                     [key], {});\n",
              "          if (!dataTable) return;\n",
              "\n",
              "          const docLinkHtml = 'Like what you see? Visit the ' +\n",
              "            '<a target=\"_blank\" href=https://colab.research.google.com/notebooks/data_table.ipynb>data table notebook</a>'\n",
              "            + ' to learn more about interactive tables.';\n",
              "          element.innerHTML = '';\n",
              "          dataTable['output_type'] = 'display_data';\n",
              "          await google.colab.output.renderOutput(dataTable, element);\n",
              "          const docLink = document.createElement('div');\n",
              "          docLink.innerHTML = docLinkHtml;\n",
              "          element.appendChild(docLink);\n",
              "        }\n",
              "      </script>\n",
              "    </div>\n",
              "  </div>\n",
              "  "
            ]
          },
          "metadata": {},
          "execution_count": 1
        }
      ],
      "source": [
        "# load the data\n",
        "import pandas as pd\n",
        "\n",
        "train = pd.read_csv(\"/content/drive/MyDrive/Google Colab/Disaster Tweets/train.csv\")\n",
        "test = pd.read_csv(\"/content/drive/MyDrive/Google Colab/Disaster Tweets/test.csv\")\n",
        "\n",
        "# Check out the training set\n",
        "train.head()"
      ]
    },
    {
      "cell_type": "code",
      "source": [
        "# Check out the testing set (doesn't have a target column)\n",
        "test.head()"
      ],
      "metadata": {
        "id": "P3S33fkJOh5L",
        "colab": {
          "base_uri": "https://localhost:8080/",
          "height": 206
        },
        "outputId": "f93b4627-3bba-472e-88bb-d874e472631e"
      },
      "execution_count": null,
      "outputs": [
        {
          "output_type": "execute_result",
          "data": {
            "text/plain": [
              "   id keyword location                                               text\n",
              "0   0     NaN      NaN                 Just happened a terrible car crash\n",
              "1   2     NaN      NaN  Heard about #earthquake is different cities, s...\n",
              "2   3     NaN      NaN  there is a forest fire at spot pond, geese are...\n",
              "3   9     NaN      NaN           Apocalypse lighting. #Spokane #wildfires\n",
              "4  11     NaN      NaN      Typhoon Soudelor kills 28 in China and Taiwan"
            ],
            "text/html": [
              "\n",
              "  <div id=\"df-1ebaf50e-cc4f-4083-965a-06521a5c6f9d\">\n",
              "    <div class=\"colab-df-container\">\n",
              "      <div>\n",
              "<style scoped>\n",
              "    .dataframe tbody tr th:only-of-type {\n",
              "        vertical-align: middle;\n",
              "    }\n",
              "\n",
              "    .dataframe tbody tr th {\n",
              "        vertical-align: top;\n",
              "    }\n",
              "\n",
              "    .dataframe thead th {\n",
              "        text-align: right;\n",
              "    }\n",
              "</style>\n",
              "<table border=\"1\" class=\"dataframe\">\n",
              "  <thead>\n",
              "    <tr style=\"text-align: right;\">\n",
              "      <th></th>\n",
              "      <th>id</th>\n",
              "      <th>keyword</th>\n",
              "      <th>location</th>\n",
              "      <th>text</th>\n",
              "    </tr>\n",
              "  </thead>\n",
              "  <tbody>\n",
              "    <tr>\n",
              "      <th>0</th>\n",
              "      <td>0</td>\n",
              "      <td>NaN</td>\n",
              "      <td>NaN</td>\n",
              "      <td>Just happened a terrible car crash</td>\n",
              "    </tr>\n",
              "    <tr>\n",
              "      <th>1</th>\n",
              "      <td>2</td>\n",
              "      <td>NaN</td>\n",
              "      <td>NaN</td>\n",
              "      <td>Heard about #earthquake is different cities, s...</td>\n",
              "    </tr>\n",
              "    <tr>\n",
              "      <th>2</th>\n",
              "      <td>3</td>\n",
              "      <td>NaN</td>\n",
              "      <td>NaN</td>\n",
              "      <td>there is a forest fire at spot pond, geese are...</td>\n",
              "    </tr>\n",
              "    <tr>\n",
              "      <th>3</th>\n",
              "      <td>9</td>\n",
              "      <td>NaN</td>\n",
              "      <td>NaN</td>\n",
              "      <td>Apocalypse lighting. #Spokane #wildfires</td>\n",
              "    </tr>\n",
              "    <tr>\n",
              "      <th>4</th>\n",
              "      <td>11</td>\n",
              "      <td>NaN</td>\n",
              "      <td>NaN</td>\n",
              "      <td>Typhoon Soudelor kills 28 in China and Taiwan</td>\n",
              "    </tr>\n",
              "  </tbody>\n",
              "</table>\n",
              "</div>\n",
              "      <button class=\"colab-df-convert\" onclick=\"convertToInteractive('df-1ebaf50e-cc4f-4083-965a-06521a5c6f9d')\"\n",
              "              title=\"Convert this dataframe to an interactive table.\"\n",
              "              style=\"display:none;\">\n",
              "        \n",
              "  <svg xmlns=\"http://www.w3.org/2000/svg\" height=\"24px\"viewBox=\"0 0 24 24\"\n",
              "       width=\"24px\">\n",
              "    <path d=\"M0 0h24v24H0V0z\" fill=\"none\"/>\n",
              "    <path d=\"M18.56 5.44l.94 2.06.94-2.06 2.06-.94-2.06-.94-.94-2.06-.94 2.06-2.06.94zm-11 1L8.5 8.5l.94-2.06 2.06-.94-2.06-.94L8.5 2.5l-.94 2.06-2.06.94zm10 10l.94 2.06.94-2.06 2.06-.94-2.06-.94-.94-2.06-.94 2.06-2.06.94z\"/><path d=\"M17.41 7.96l-1.37-1.37c-.4-.4-.92-.59-1.43-.59-.52 0-1.04.2-1.43.59L10.3 9.45l-7.72 7.72c-.78.78-.78 2.05 0 2.83L4 21.41c.39.39.9.59 1.41.59.51 0 1.02-.2 1.41-.59l7.78-7.78 2.81-2.81c.8-.78.8-2.07 0-2.86zM5.41 20L4 18.59l7.72-7.72 1.47 1.35L5.41 20z\"/>\n",
              "  </svg>\n",
              "      </button>\n",
              "      \n",
              "  <style>\n",
              "    .colab-df-container {\n",
              "      display:flex;\n",
              "      flex-wrap:wrap;\n",
              "      gap: 12px;\n",
              "    }\n",
              "\n",
              "    .colab-df-convert {\n",
              "      background-color: #E8F0FE;\n",
              "      border: none;\n",
              "      border-radius: 50%;\n",
              "      cursor: pointer;\n",
              "      display: none;\n",
              "      fill: #1967D2;\n",
              "      height: 32px;\n",
              "      padding: 0 0 0 0;\n",
              "      width: 32px;\n",
              "    }\n",
              "\n",
              "    .colab-df-convert:hover {\n",
              "      background-color: #E2EBFA;\n",
              "      box-shadow: 0px 1px 2px rgba(60, 64, 67, 0.3), 0px 1px 3px 1px rgba(60, 64, 67, 0.15);\n",
              "      fill: #174EA6;\n",
              "    }\n",
              "\n",
              "    [theme=dark] .colab-df-convert {\n",
              "      background-color: #3B4455;\n",
              "      fill: #D2E3FC;\n",
              "    }\n",
              "\n",
              "    [theme=dark] .colab-df-convert:hover {\n",
              "      background-color: #434B5C;\n",
              "      box-shadow: 0px 1px 3px 1px rgba(0, 0, 0, 0.15);\n",
              "      filter: drop-shadow(0px 1px 2px rgba(0, 0, 0, 0.3));\n",
              "      fill: #FFFFFF;\n",
              "    }\n",
              "  </style>\n",
              "\n",
              "      <script>\n",
              "        const buttonEl =\n",
              "          document.querySelector('#df-1ebaf50e-cc4f-4083-965a-06521a5c6f9d button.colab-df-convert');\n",
              "        buttonEl.style.display =\n",
              "          google.colab.kernel.accessAllowed ? 'block' : 'none';\n",
              "\n",
              "        async function convertToInteractive(key) {\n",
              "          const element = document.querySelector('#df-1ebaf50e-cc4f-4083-965a-06521a5c6f9d');\n",
              "          const dataTable =\n",
              "            await google.colab.kernel.invokeFunction('convertToInteractive',\n",
              "                                                     [key], {});\n",
              "          if (!dataTable) return;\n",
              "\n",
              "          const docLinkHtml = 'Like what you see? Visit the ' +\n",
              "            '<a target=\"_blank\" href=https://colab.research.google.com/notebooks/data_table.ipynb>data table notebook</a>'\n",
              "            + ' to learn more about interactive tables.';\n",
              "          element.innerHTML = '';\n",
              "          dataTable['output_type'] = 'display_data';\n",
              "          await google.colab.output.renderOutput(dataTable, element);\n",
              "          const docLink = document.createElement('div');\n",
              "          docLink.innerHTML = docLinkHtml;\n",
              "          element.appendChild(docLink);\n",
              "        }\n",
              "      </script>\n",
              "    </div>\n",
              "  </div>\n",
              "  "
            ]
          },
          "metadata": {},
          "execution_count": 2
        }
      ]
    },
    {
      "cell_type": "code",
      "source": [
        "# Shuffle the training set\n",
        "train_shuffled = train.sample(frac=1, random_state=42)\n",
        "train_shuffled.head()"
      ],
      "metadata": {
        "id": "n2YMaAKfOh7o",
        "colab": {
          "base_uri": "https://localhost:8080/",
          "height": 206
        },
        "outputId": "1e2ffd87-64e4-417f-d594-e705bde70fbe"
      },
      "execution_count": null,
      "outputs": [
        {
          "output_type": "execute_result",
          "data": {
            "text/plain": [
              "        id      keyword               location  \\\n",
              "2644  3796  destruction                    NaN   \n",
              "2227  3185       deluge                    NaN   \n",
              "5448  7769       police                     UK   \n",
              "132    191   aftershock                    NaN   \n",
              "6845  9810       trauma  Montgomery County, MD   \n",
              "\n",
              "                                                   text  target  \n",
              "2644  So you have a new weapon that can cause un-ima...       1  \n",
              "2227  The f$&amp;@ing things I do for #GISHWHES Just...       0  \n",
              "5448  DT @georgegalloway: RT @Galloway4Mayor: ÛÏThe...       1  \n",
              "132   Aftershock back to school kick off was great. ...       0  \n",
              "6845  in response to trauma Children of Addicts deve...       0  "
            ],
            "text/html": [
              "\n",
              "  <div id=\"df-be75c08f-59ca-481e-9b06-34d9d8b61be6\">\n",
              "    <div class=\"colab-df-container\">\n",
              "      <div>\n",
              "<style scoped>\n",
              "    .dataframe tbody tr th:only-of-type {\n",
              "        vertical-align: middle;\n",
              "    }\n",
              "\n",
              "    .dataframe tbody tr th {\n",
              "        vertical-align: top;\n",
              "    }\n",
              "\n",
              "    .dataframe thead th {\n",
              "        text-align: right;\n",
              "    }\n",
              "</style>\n",
              "<table border=\"1\" class=\"dataframe\">\n",
              "  <thead>\n",
              "    <tr style=\"text-align: right;\">\n",
              "      <th></th>\n",
              "      <th>id</th>\n",
              "      <th>keyword</th>\n",
              "      <th>location</th>\n",
              "      <th>text</th>\n",
              "      <th>target</th>\n",
              "    </tr>\n",
              "  </thead>\n",
              "  <tbody>\n",
              "    <tr>\n",
              "      <th>2644</th>\n",
              "      <td>3796</td>\n",
              "      <td>destruction</td>\n",
              "      <td>NaN</td>\n",
              "      <td>So you have a new weapon that can cause un-ima...</td>\n",
              "      <td>1</td>\n",
              "    </tr>\n",
              "    <tr>\n",
              "      <th>2227</th>\n",
              "      <td>3185</td>\n",
              "      <td>deluge</td>\n",
              "      <td>NaN</td>\n",
              "      <td>The f$&amp;amp;@ing things I do for #GISHWHES Just...</td>\n",
              "      <td>0</td>\n",
              "    </tr>\n",
              "    <tr>\n",
              "      <th>5448</th>\n",
              "      <td>7769</td>\n",
              "      <td>police</td>\n",
              "      <td>UK</td>\n",
              "      <td>DT @georgegalloway: RT @Galloway4Mayor: ÛÏThe...</td>\n",
              "      <td>1</td>\n",
              "    </tr>\n",
              "    <tr>\n",
              "      <th>132</th>\n",
              "      <td>191</td>\n",
              "      <td>aftershock</td>\n",
              "      <td>NaN</td>\n",
              "      <td>Aftershock back to school kick off was great. ...</td>\n",
              "      <td>0</td>\n",
              "    </tr>\n",
              "    <tr>\n",
              "      <th>6845</th>\n",
              "      <td>9810</td>\n",
              "      <td>trauma</td>\n",
              "      <td>Montgomery County, MD</td>\n",
              "      <td>in response to trauma Children of Addicts deve...</td>\n",
              "      <td>0</td>\n",
              "    </tr>\n",
              "  </tbody>\n",
              "</table>\n",
              "</div>\n",
              "      <button class=\"colab-df-convert\" onclick=\"convertToInteractive('df-be75c08f-59ca-481e-9b06-34d9d8b61be6')\"\n",
              "              title=\"Convert this dataframe to an interactive table.\"\n",
              "              style=\"display:none;\">\n",
              "        \n",
              "  <svg xmlns=\"http://www.w3.org/2000/svg\" height=\"24px\"viewBox=\"0 0 24 24\"\n",
              "       width=\"24px\">\n",
              "    <path d=\"M0 0h24v24H0V0z\" fill=\"none\"/>\n",
              "    <path d=\"M18.56 5.44l.94 2.06.94-2.06 2.06-.94-2.06-.94-.94-2.06-.94 2.06-2.06.94zm-11 1L8.5 8.5l.94-2.06 2.06-.94-2.06-.94L8.5 2.5l-.94 2.06-2.06.94zm10 10l.94 2.06.94-2.06 2.06-.94-2.06-.94-.94-2.06-.94 2.06-2.06.94z\"/><path d=\"M17.41 7.96l-1.37-1.37c-.4-.4-.92-.59-1.43-.59-.52 0-1.04.2-1.43.59L10.3 9.45l-7.72 7.72c-.78.78-.78 2.05 0 2.83L4 21.41c.39.39.9.59 1.41.59.51 0 1.02-.2 1.41-.59l7.78-7.78 2.81-2.81c.8-.78.8-2.07 0-2.86zM5.41 20L4 18.59l7.72-7.72 1.47 1.35L5.41 20z\"/>\n",
              "  </svg>\n",
              "      </button>\n",
              "      \n",
              "  <style>\n",
              "    .colab-df-container {\n",
              "      display:flex;\n",
              "      flex-wrap:wrap;\n",
              "      gap: 12px;\n",
              "    }\n",
              "\n",
              "    .colab-df-convert {\n",
              "      background-color: #E8F0FE;\n",
              "      border: none;\n",
              "      border-radius: 50%;\n",
              "      cursor: pointer;\n",
              "      display: none;\n",
              "      fill: #1967D2;\n",
              "      height: 32px;\n",
              "      padding: 0 0 0 0;\n",
              "      width: 32px;\n",
              "    }\n",
              "\n",
              "    .colab-df-convert:hover {\n",
              "      background-color: #E2EBFA;\n",
              "      box-shadow: 0px 1px 2px rgba(60, 64, 67, 0.3), 0px 1px 3px 1px rgba(60, 64, 67, 0.15);\n",
              "      fill: #174EA6;\n",
              "    }\n",
              "\n",
              "    [theme=dark] .colab-df-convert {\n",
              "      background-color: #3B4455;\n",
              "      fill: #D2E3FC;\n",
              "    }\n",
              "\n",
              "    [theme=dark] .colab-df-convert:hover {\n",
              "      background-color: #434B5C;\n",
              "      box-shadow: 0px 1px 3px 1px rgba(0, 0, 0, 0.15);\n",
              "      filter: drop-shadow(0px 1px 2px rgba(0, 0, 0, 0.3));\n",
              "      fill: #FFFFFF;\n",
              "    }\n",
              "  </style>\n",
              "\n",
              "      <script>\n",
              "        const buttonEl =\n",
              "          document.querySelector('#df-be75c08f-59ca-481e-9b06-34d9d8b61be6 button.colab-df-convert');\n",
              "        buttonEl.style.display =\n",
              "          google.colab.kernel.accessAllowed ? 'block' : 'none';\n",
              "\n",
              "        async function convertToInteractive(key) {\n",
              "          const element = document.querySelector('#df-be75c08f-59ca-481e-9b06-34d9d8b61be6');\n",
              "          const dataTable =\n",
              "            await google.colab.kernel.invokeFunction('convertToInteractive',\n",
              "                                                     [key], {});\n",
              "          if (!dataTable) return;\n",
              "\n",
              "          const docLinkHtml = 'Like what you see? Visit the ' +\n",
              "            '<a target=\"_blank\" href=https://colab.research.google.com/notebooks/data_table.ipynb>data table notebook</a>'\n",
              "            + ' to learn more about interactive tables.';\n",
              "          element.innerHTML = '';\n",
              "          dataTable['output_type'] = 'display_data';\n",
              "          await google.colab.output.renderOutput(dataTable, element);\n",
              "          const docLink = document.createElement('div');\n",
              "          docLink.innerHTML = docLinkHtml;\n",
              "          element.appendChild(docLink);\n",
              "        }\n",
              "      </script>\n",
              "    </div>\n",
              "  </div>\n",
              "  "
            ]
          },
          "metadata": {},
          "execution_count": 3
        }
      ]
    },
    {
      "cell_type": "code",
      "source": [
        "# Check out the nummber of sample in each class (binary classification -> 2 classes)\n",
        "train[\"target\"].value_counts()"
      ],
      "metadata": {
        "id": "oZh_JH21Oh-V",
        "colab": {
          "base_uri": "https://localhost:8080/"
        },
        "outputId": "221f1b1f-9a7a-4214-9a9b-241940c78954"
      },
      "execution_count": null,
      "outputs": [
        {
          "output_type": "execute_result",
          "data": {
            "text/plain": [
              "0    4342\n",
              "1    3271\n",
              "Name: target, dtype: int64"
            ]
          },
          "metadata": {},
          "execution_count": 4
        }
      ]
    },
    {
      "cell_type": "markdown",
      "source": [
        "Training set contains around 60% negative class samples (target = 0, indicates not a real disaster tweet), and 40% positive class sample (target = 1, indicates a real disaster tweet). I'd say this proportion is quite balanced."
      ],
      "metadata": {
        "id": "EhZCxc__OpQF"
      }
    },
    {
      "cell_type": "code",
      "source": [
        "# Check out the total samples of each set\n",
        "print(f\"Total training samples: {len(train)}\")\n",
        "print(f\"Total testing samples: {len(test)}\")\n",
        "print(f\"Total samples: {len(train) + len(test)}\")"
      ],
      "metadata": {
        "id": "esAiE_uOOiA6",
        "colab": {
          "base_uri": "https://localhost:8080/"
        },
        "outputId": "e7cf92e2-e522-4337-9b82-182189e17c05"
      },
      "execution_count": null,
      "outputs": [
        {
          "output_type": "stream",
          "name": "stdout",
          "text": [
            "Total training samples: 7613\n",
            "Total testing samples: 3263\n",
            "Total samples: 10876\n"
          ]
        }
      ]
    },
    {
      "cell_type": "code",
      "source": [
        "# Visualize some random training samples\n",
        "import random\n",
        "\n",
        "random_index = random.randint(0, len(train)-5)\n",
        "for row in train_shuffled[[\"text\",\"target\"]][random_index:random_index+5].itertuples():\n",
        "    _, text, target = row\n",
        "    print(f\"Target: {target}\", \"(real disaster tweet)\" if target > 0 else \"(not real disaster tweet)\")\n",
        "    print(f\"Text:\\n{text}\\n\")\n",
        "    print(\"---\\n\")"
      ],
      "metadata": {
        "id": "UtJPHbqWOiDc",
        "colab": {
          "base_uri": "https://localhost:8080/"
        },
        "outputId": "09cb85e9-c329-4315-fdcd-ec58b50a45af"
      },
      "execution_count": null,
      "outputs": [
        {
          "output_type": "stream",
          "name": "stdout",
          "text": [
            "Target: 1 (real disaster tweet)\n",
            "Text:\n",
            "11-Year-Old Boy Charged With Manslaughter of Toddler: Report: An 11-year-old boy has been charged with manslaughter over the fatal sh...\n",
            "\n",
            "---\n",
            "\n",
            "Target: 0 (not real disaster tweet)\n",
            "Text:\n",
            "Remember how Nora Jones crushed it in Two Weeks Notice?\n",
            "\n",
            "---\n",
            "\n",
            "Target: 0 (not real disaster tweet)\n",
            "Text:\n",
            "Coursing* '@WEYREY_gidi: Now they are causing Di Maria.. LOL'\n",
            "\n",
            "---\n",
            "\n",
            "Target: 1 (real disaster tweet)\n",
            "Text:\n",
            "#floods #ukfloods - British trekkers rescued amid flash floods in Himalayas: A group of British tr... http://t.co/nsfzkfgZnj - #flooding\n",
            "\n",
            "---\n",
            "\n",
            "Target: 0 (not real disaster tweet)\n",
            "Text:\n",
            "Detonation into the realistic assets entering india: koZ http://t.co/9ZRQMd8nGZ\n",
            "\n",
            "---\n",
            "\n"
          ]
        }
      ]
    },
    {
      "cell_type": "code",
      "source": [
        "# Split training set into training and validation sets\n",
        "\n",
        "from sklearn.model_selection import train_test_split\n",
        "\n",
        "train_sentences, val_sentences, train_labels, val_labels = train_test_split(train_shuffled[\"text\"],\n",
        "                                                                           train_shuffled[\"target\"],\n",
        "                                                                           test_size=0.1,\n",
        "                                                                           random_state=42)"
      ],
      "metadata": {
        "id": "b5qYx_AIOiF2"
      },
      "execution_count": null,
      "outputs": []
    },
    {
      "cell_type": "code",
      "source": [
        "# Check the number of sample after splitting\n",
        "len(train_sentences), len(train_labels), len(val_sentences), len(val_labels)"
      ],
      "metadata": {
        "id": "jz2iqDNTOiIe",
        "colab": {
          "base_uri": "https://localhost:8080/"
        },
        "outputId": "d39dd450-32a7-4d78-a46c-c1a3c1d0970c"
      },
      "execution_count": null,
      "outputs": [
        {
          "output_type": "execute_result",
          "data": {
            "text/plain": [
              "(6851, 6851, 762, 762)"
            ]
          },
          "metadata": {},
          "execution_count": 8
        }
      ]
    },
    {
      "cell_type": "code",
      "source": [
        "# View the first 10 training samples\n",
        "train_sentences[:10], train_labels[:10]"
      ],
      "metadata": {
        "id": "ARh3wUb_OiK3",
        "colab": {
          "base_uri": "https://localhost:8080/"
        },
        "outputId": "6b791e89-9a1d-41a2-917a-97268f3afdff"
      },
      "execution_count": null,
      "outputs": [
        {
          "output_type": "execute_result",
          "data": {
            "text/plain": [
              "(5921    @mogacola @zamtriossu i screamed after hitting...\n",
              " 3904              Imagine getting flattened by Kurt Zouma\n",
              " 2804    @Gurmeetramrahim #MSGDoing111WelfareWorks Gree...\n",
              " 3718    @shakjn @C7 @Magnums im shaking in fear he's g...\n",
              " 1667    Somehow find you and I collide http://t.co/Ee8...\n",
              " 4435    @EvaHanderek @MarleyKnysh great times until th...\n",
              " 2544                     destroy the free fandom honestly\n",
              " 7223    Weapons stolen from National Guard Armory in N...\n",
              " 4265    @wfaaweather Pete when will the heat wave pass...\n",
              " 6568    Patient-reported outcomes in long-term survivo...\n",
              " Name: text, dtype: object, 5921    0\n",
              " 3904    0\n",
              " 2804    1\n",
              " 3718    0\n",
              " 1667    0\n",
              " 4435    1\n",
              " 2544    1\n",
              " 7223    0\n",
              " 4265    1\n",
              " 6568    1\n",
              " Name: target, dtype: int64)"
            ]
          },
          "metadata": {},
          "execution_count": 9
        }
      ]
    },
    {
      "cell_type": "markdown",
      "source": [
        "## **Convert Text into Numbers**"
      ],
      "metadata": {
        "id": "qJ0-3IchO5bk"
      }
    },
    {
      "cell_type": "markdown",
      "source": [
        "### **Tokenization**\n",
        "\n",
        "A straight mapping from word or character or sub-word to a numerical value. "
      ],
      "metadata": {
        "id": "jPc_M_koasic"
      }
    },
    {
      "cell_type": "code",
      "source": [
        "# Find the average number of token (words) in the training set\n",
        "round(sum([len(i.split()) for i in train_sentences])/len(train_sentences))"
      ],
      "metadata": {
        "id": "Nxva-Kg_OiNd",
        "colab": {
          "base_uri": "https://localhost:8080/"
        },
        "outputId": "7923aab7-fc4d-4b37-9056-d1536c552ba4"
      },
      "execution_count": null,
      "outputs": [
        {
          "output_type": "execute_result",
          "data": {
            "text/plain": [
              "15"
            ]
          },
          "metadata": {},
          "execution_count": 10
        }
      ]
    },
    {
      "cell_type": "code",
      "source": [
        "# Text vectorization (Tokenization)\n",
        "import tensorflow as tf\n",
        "from tensorflow.keras.layers.experimental.preprocessing import TextVectorization\n",
        "\n",
        "max_vocab_length = 10000\n",
        "max_length = 15\n",
        "text_vectorizer = TextVectorization(max_tokens=max_vocab_length,\n",
        "                                   standardize=\"lower_and_strip_punctuation\",\n",
        "                                   split=\"whitespace\",\n",
        "                                   ngrams=None,\n",
        "                                   output_mode=\"int\",\n",
        "                                   output_sequence_length=max_length)"
      ],
      "metadata": {
        "id": "3SGjhZNfO8UO"
      },
      "execution_count": null,
      "outputs": []
    },
    {
      "cell_type": "code",
      "source": [
        "# Fit text_vectorizer to the training set (mapping TextVectorization to data)\n",
        "text_vectorizer.adapt(train_sentences)"
      ],
      "metadata": {
        "id": "Au7h6YjdO8P3"
      },
      "execution_count": null,
      "outputs": []
    },
    {
      "cell_type": "code",
      "source": [
        "# Try to tokenize a sample sentence \n",
        "sample_sentence = \"I can see a fire on the top of building!\"\n",
        "text_vectorizer([sample_sentence])"
      ],
      "metadata": {
        "id": "6Z4ijkSAO8Lu",
        "colab": {
          "base_uri": "https://localhost:8080/"
        },
        "outputId": "a2aa78f5-679e-4fae-de4d-71ffdd494c7d"
      },
      "execution_count": null,
      "outputs": [
        {
          "output_type": "execute_result",
          "data": {
            "text/plain": [
              "<tf.Tensor: shape=(1, 15), dtype=int64, numpy=\n",
              "array([[  8,  71,  99,   3,  42,  11,   2, 212,   6, 630,   0,   0,   0,\n",
              "          0,   0]])>"
            ]
          },
          "metadata": {},
          "execution_count": 13
        }
      ]
    },
    {
      "cell_type": "code",
      "source": [
        "# Try to tokenize a random sentence in training set\n",
        "random_sentence = random.choice(train_sentences)\n",
        "print(f\"Original text:\\n{random_sentence}\\\n",
        "      \\n\\nTokenized text:\")\n",
        "text_vectorizer([random_sentence])"
      ],
      "metadata": {
        "id": "7VMq1RsGW36b",
        "colab": {
          "base_uri": "https://localhost:8080/"
        },
        "outputId": "e0050982-2a95-4654-d18e-a2d4cf38b843"
      },
      "execution_count": null,
      "outputs": [
        {
          "output_type": "stream",
          "name": "stdout",
          "text": [
            "Original text:\n",
            "Men escape car engulfed in flames in Parley's Canyon crews investigating cause - http://t.co/CYzlshlQhG http://t.co/nDiS8f1vzt      \n",
            "\n",
            "Tokenized text:\n"
          ]
        },
        {
          "output_type": "execute_result",
          "data": {
            "text/plain": [
              "<tf.Tensor: shape=(1, 15), dtype=int64, numpy=\n",
              "array([[ 646, 1084,  127,  436,    4,  218,    4, 2025, 1704,  689, 1130,\n",
              "         257,    1,    1,    0]])>"
            ]
          },
          "metadata": {},
          "execution_count": 14
        }
      ]
    },
    {
      "cell_type": "code",
      "source": [
        "# Get the unique words in the vocabulary\n",
        "vocab = text_vectorizer.get_vocabulary()\n",
        "# most common words\n",
        "top5_words = vocab[:5]\n",
        "# least common words\n",
        "bottom5_words = vocab[-5:]\n",
        "\n",
        "print(f\"Number of words in vocabulary: {len(vocab)}\")\n",
        "print(f\"Top 5 most common words in vocabulary: {top5_words}\")\n",
        "print(f\"Top 5 least common words in vocabulary: {bottom5_words}\")"
      ],
      "metadata": {
        "id": "-qWzaHqjO8In",
        "colab": {
          "base_uri": "https://localhost:8080/"
        },
        "outputId": "1cc573cc-ce84-4231-d7a6-e4f035aa7dbd"
      },
      "execution_count": null,
      "outputs": [
        {
          "output_type": "stream",
          "name": "stdout",
          "text": [
            "Number of words in vocabulary: 10000\n",
            "Top 5 most common words in vocabulary: ['', '[UNK]', 'the', 'a', 'in']\n",
            "Top 5 least common words in vocabulary: ['pages', 'paeds', 'pads', 'padres', 'paddytomlinson1']\n"
          ]
        }
      ]
    },
    {
      "cell_type": "markdown",
      "source": [
        "### **Embedding**\n",
        "\n",
        "An embedding can be learned during training, means word's numeric representation can be improved as the model goes through training set. \n",
        "\n",
        "**Main parameters**\n",
        "\n",
        "1. **input_dim** - the size of the vocabulary\n",
        "2. **output_dim** - the size of the output embedding vector\n",
        "3. **embeddings_initializer** - how to initialize the embedding matrix.\n",
        "4. **input_length** - length of sequences being passed to embedding layer"
      ],
      "metadata": {
        "id": "HuHsQO-ba9qE"
      }
    },
    {
      "cell_type": "code",
      "source": [
        "from tensorflow.keras import layers\n",
        "\n",
        "# set random seed\n",
        "tf.random.set_seed(42)\n",
        "\n",
        "embedding = layers.Embedding(input_dim=max_vocab_length,\n",
        "                             output_dim=128,\n",
        "                             embeddings_initializer=\"uniform\", \n",
        "                             input_length=max_length,\n",
        "                             name=\"embedding_layer_1\")\n",
        "\n",
        "embedding"
      ],
      "metadata": {
        "id": "sA0VaR7ZOiQF",
        "colab": {
          "base_uri": "https://localhost:8080/"
        },
        "outputId": "bcb8cc89-4887-42c0-8311-07e8d060eeb4"
      },
      "execution_count": null,
      "outputs": [
        {
          "output_type": "execute_result",
          "data": {
            "text/plain": [
              "<keras.layers.embeddings.Embedding at 0x7f40b0340290>"
            ]
          },
          "metadata": {},
          "execution_count": 16
        }
      ]
    },
    {
      "cell_type": "code",
      "source": [
        "# Try to embed a random sentence in training set\n",
        "random_sentence = random.choice(train_sentences)\n",
        "print(f\"Original text:\\n{random_sentence}\\\n",
        "      \\n\\nTokenized text:\")\n",
        "embedded_sentence = embedding(text_vectorizer([random_sentence]))\n",
        "embedded_sentence"
      ],
      "metadata": {
        "id": "G_f3LVnbOiTf",
        "colab": {
          "base_uri": "https://localhost:8080/"
        },
        "outputId": "c982929d-7115-4254-84f8-3905dfb3cb57"
      },
      "execution_count": null,
      "outputs": [
        {
          "output_type": "stream",
          "name": "stdout",
          "text": [
            "Original text:\n",
            "Ford : Other Military VERY NICE M151A1 MUTT with matching M416 Trailer - Full read by eBay http://t.co/9rrYaYlgyY http://t.co/Nm83jOhLUu      \n",
            "\n",
            "Tokenized text:\n"
          ]
        },
        {
          "output_type": "execute_result",
          "data": {
            "text/plain": [
              "<tf.Tensor: shape=(1, 15, 128), dtype=float32, numpy=\n",
              "array([[[ 0.02191793, -0.03392842,  0.02733031, ...,  0.04151938,\n",
              "          0.01253768, -0.02994139],\n",
              "        [ 0.0049196 ,  0.02093172,  0.01630242, ...,  0.01699087,\n",
              "         -0.02467427, -0.02744926],\n",
              "        [-0.0329975 ,  0.00978688, -0.04553537, ...,  0.04971104,\n",
              "          0.0137558 ,  0.04985643],\n",
              "        ...,\n",
              "        [ 0.0152874 ,  0.00285798, -0.01921637, ..., -0.0020377 ,\n",
              "          0.00328779,  0.00735877],\n",
              "        [-0.01299536, -0.03285937,  0.02369577, ...,  0.01118424,\n",
              "         -0.04721683,  0.00531303],\n",
              "        [ 0.03177475, -0.00860753, -0.03964424, ...,  0.01106938,\n",
              "          0.01294775,  0.01531184]]], dtype=float32)>"
            ]
          },
          "metadata": {},
          "execution_count": 17
        }
      ]
    },
    {
      "cell_type": "code",
      "source": [
        "# View single token's embedding\n",
        "embedded_sentence[0][0]"
      ],
      "metadata": {
        "id": "pK0rHhJEghv7",
        "colab": {
          "base_uri": "https://localhost:8080/"
        },
        "outputId": "9c79c7dc-1dde-4f23-ba75-fc19c1888237"
      },
      "execution_count": null,
      "outputs": [
        {
          "output_type": "execute_result",
          "data": {
            "text/plain": [
              "<tf.Tensor: shape=(128,), dtype=float32, numpy=\n",
              "array([ 2.19179280e-02, -3.39284167e-02,  2.73303129e-02,  2.01102346e-03,\n",
              "       -1.15370266e-02, -2.54076719e-03,  2.95269378e-02,  1.57040469e-02,\n",
              "        2.28413679e-02,  1.79539993e-03,  1.86964907e-02,  2.91857831e-02,\n",
              "        2.74629258e-02,  4.14859317e-02,  4.14177030e-03,  2.73332857e-02,\n",
              "       -1.54885054e-02, -2.51211654e-02,  3.25003304e-02, -1.48203373e-02,\n",
              "       -2.29279883e-02,  9.79628414e-03,  4.58561219e-02, -7.80185312e-03,\n",
              "        9.03606415e-05,  5.55591658e-03,  1.74780823e-02,  6.65454939e-03,\n",
              "        2.02755816e-02,  4.24134023e-02, -1.21730790e-02, -2.91831139e-02,\n",
              "       -2.09597498e-03,  3.24255489e-02,  2.07848437e-02,  4.87247854e-03,\n",
              "       -2.73485109e-03,  2.09287666e-02, -4.74381223e-02, -9.48175043e-03,\n",
              "       -3.91733423e-02, -2.06283927e-02,  3.91446054e-04,  6.53488562e-03,\n",
              "        6.76950067e-03, -3.77741680e-02, -4.66855764e-02, -3.43727693e-02,\n",
              "        4.74652685e-02, -4.66058254e-02,  7.65633583e-03, -8.87561962e-03,\n",
              "       -3.82554047e-02, -4.72756997e-02,  3.42210196e-02,  4.24085744e-02,\n",
              "       -7.06530735e-03,  1.63496621e-02, -3.38320732e-02,  4.85010855e-02,\n",
              "        1.16900578e-02,  3.00725959e-02, -5.29225916e-03,  9.08150524e-03,\n",
              "        1.04248151e-02, -1.43414736e-02, -1.42433643e-02,  3.42134349e-02,\n",
              "        8.99300724e-03, -1.61696896e-02, -3.51421908e-03, -3.79696712e-02,\n",
              "       -3.39486003e-02, -1.44622475e-03,  2.10158341e-02, -6.38831407e-04,\n",
              "        1.44948699e-02, -2.28875633e-02,  2.65163295e-02, -3.01599260e-02,\n",
              "        1.21189356e-02,  2.54284255e-02, -4.93057147e-02,  5.79687208e-03,\n",
              "        5.15412539e-04,  2.88277008e-02,  2.31941678e-02, -4.90753055e-02,\n",
              "        1.62431337e-02, -1.43393651e-02, -1.95170287e-02,  4.10977118e-02,\n",
              "        9.88660008e-03, -6.26461580e-03, -2.03738455e-02, -3.01758535e-02,\n",
              "       -4.92086522e-02, -3.15750130e-02,  4.15586866e-02, -4.59968708e-02,\n",
              "        1.14093535e-02,  1.36136748e-02,  1.95948742e-02,  4.74079736e-02,\n",
              "       -2.34298594e-02, -4.21536677e-02,  3.22052725e-02,  3.77258770e-02,\n",
              "       -4.29745093e-02,  2.71113403e-02,  3.47125530e-03, -2.30444595e-03,\n",
              "        3.82692926e-02,  1.71403959e-03,  3.52647044e-02, -2.46714484e-02,\n",
              "       -1.06239095e-02, -4.26530838e-03,  1.84891336e-02,  3.09727080e-02,\n",
              "        4.41986583e-02,  4.54759859e-02, -3.10219172e-02,  1.80809833e-02,\n",
              "       -3.03619150e-02,  4.15193774e-02,  1.25376843e-02, -2.99413931e-02],\n",
              "      dtype=float32)>"
            ]
          },
          "metadata": {},
          "execution_count": 18
        }
      ]
    },
    {
      "cell_type": "markdown",
      "source": [
        "## **Modeling:**\n",
        "\n",
        "1. Construct model's architecture\n",
        "2. Train the model\n",
        "3. Make prediction with the model\n",
        "4. Evaluate the model and compare performances"
      ],
      "metadata": {
        "id": "NXNEZIFagv7E"
      }
    },
    {
      "cell_type": "markdown",
      "source": [
        "## **Model 0 (baseline) : Naive Bayes**\n",
        "\n",
        "**Modeling Setup:**\n",
        "1. Convert words into numbers using TfidfVectorizer\n",
        "2. Model with multinomial naive bayes algorithm"
      ],
      "metadata": {
        "id": "ONqnMTYNhZQC"
      }
    },
    {
      "cell_type": "code",
      "source": [
        "from sklearn.feature_extraction.text import TfidfVectorizer\n",
        "from sklearn.naive_bayes import MultinomialNB\n",
        "from sklearn.pipeline import Pipeline\n",
        "\n",
        "model_0 = Pipeline([(\"tfidf\", TfidfVectorizer()),\n",
        "                    (\"clf\", MultinomialNB())\n",
        "])\n",
        "\n",
        "# fit the pipeline to the training set\n",
        "model_0.fit(train_sentences, train_labels)"
      ],
      "metadata": {
        "colab": {
          "base_uri": "https://localhost:8080/"
        },
        "id": "ccdYVNe4lng2",
        "outputId": "cb451987-760c-4ea4-90f5-386894fd30b9"
      },
      "execution_count": null,
      "outputs": [
        {
          "output_type": "execute_result",
          "data": {
            "text/plain": [
              "Pipeline(steps=[('tfidf', TfidfVectorizer()), ('clf', MultinomialNB())])"
            ]
          },
          "metadata": {},
          "execution_count": 19
        }
      ]
    },
    {
      "cell_type": "code",
      "source": [
        "# Evaluate the model on validation set\n",
        "model_0_accuracy = model_0.score(val_sentences, val_labels)\n",
        "print(f\"Baseline model achieves an accuracy of {model_0_accuracy*100:.2f}%\")"
      ],
      "metadata": {
        "id": "pn8HI3irmjXx",
        "colab": {
          "base_uri": "https://localhost:8080/"
        },
        "outputId": "c7f27af5-f834-4443-952d-e7ffb2b78050"
      },
      "execution_count": null,
      "outputs": [
        {
          "output_type": "stream",
          "name": "stdout",
          "text": [
            "Baseline model achieves an accuracy of 79.27%\n"
          ]
        }
      ]
    },
    {
      "cell_type": "code",
      "source": [
        "# Make predictions\n",
        "model_0_preds = model_0.predict(val_sentences)\n",
        "model_0_preds[:10]"
      ],
      "metadata": {
        "id": "s_zshISsnJbt",
        "colab": {
          "base_uri": "https://localhost:8080/"
        },
        "outputId": "03dce95e-cac6-4f67-c92e-63f342700986"
      },
      "execution_count": null,
      "outputs": [
        {
          "output_type": "execute_result",
          "data": {
            "text/plain": [
              "array([1, 1, 1, 0, 0, 1, 1, 1, 1, 0])"
            ]
          },
          "metadata": {},
          "execution_count": 21
        }
      ]
    },
    {
      "cell_type": "code",
      "source": [
        "# Get prediction probability\n",
        "import numpy as np\n",
        "model_0_pred_probs = np.max(model_0.predict_proba(val_sentences), axis=1)\n",
        "model_0_pred_probs[:10]"
      ],
      "metadata": {
        "id": "E7AwCu0eMVXs",
        "colab": {
          "base_uri": "https://localhost:8080/"
        },
        "outputId": "689f5a1c-4384-40f8-809b-375343109cac"
      },
      "execution_count": null,
      "outputs": [
        {
          "output_type": "execute_result",
          "data": {
            "text/plain": [
              "array([0.55507546, 0.70165655, 0.86646023, 0.78011348, 0.63190603,\n",
              "       0.8216631 , 0.5759222 , 0.90335826, 0.73121414, 0.82175747])"
            ]
          },
          "metadata": {},
          "execution_count": 22
        }
      ]
    },
    {
      "cell_type": "code",
      "source": [
        "!wget https://raw.githubusercontent.com/dinachoir/Convolutional-Neural-Network/main/functions.py"
      ],
      "metadata": {
        "id": "RpyUwWExnJS-",
        "colab": {
          "base_uri": "https://localhost:8080/"
        },
        "outputId": "25fe3e41-fc18-44bf-acf5-1472888b9977"
      },
      "execution_count": null,
      "outputs": [
        {
          "output_type": "stream",
          "name": "stdout",
          "text": [
            "--2022-07-17 02:11:20--  https://raw.githubusercontent.com/dinachoir/Convolutional-Neural-Network/main/functions.py\n",
            "Resolving raw.githubusercontent.com (raw.githubusercontent.com)... 185.199.108.133, 185.199.109.133, 185.199.110.133, ...\n",
            "Connecting to raw.githubusercontent.com (raw.githubusercontent.com)|185.199.108.133|:443... connected.\n",
            "HTTP request sent, awaiting response... 200 OK\n",
            "Length: 9697 (9.5K) [text/plain]\n",
            "Saving to: ‘functions.py’\n",
            "\n",
            "functions.py        100%[===================>]   9.47K  --.-KB/s    in 0s      \n",
            "\n",
            "2022-07-17 02:11:20 (84.5 MB/s) - ‘functions.py’ saved [9697/9697]\n",
            "\n"
          ]
        }
      ]
    },
    {
      "cell_type": "code",
      "source": [
        "# Model evaluation\n",
        "from functions import evaluate_prediction\n",
        "\n",
        "model_0_evaluation = evaluate_prediction(y_true=val_labels, \n",
        "                              y_pred=model_0_preds)\n",
        "\n",
        "model_0_evaluation"
      ],
      "metadata": {
        "id": "T_Y-KzMwnJVd",
        "colab": {
          "base_uri": "https://localhost:8080/"
        },
        "outputId": "01ce8f65-f000-44d3-b0a0-d6e3ffe14b15"
      },
      "execution_count": null,
      "outputs": [
        {
          "output_type": "execute_result",
          "data": {
            "text/plain": [
              "{'accuracy': 79.26509186351706,\n",
              " 'f1': 0.7862189758049549,\n",
              " 'precision': 0.8111390004213173,\n",
              " 'recall': 0.7926509186351706}"
            ]
          },
          "metadata": {},
          "execution_count": 24
        }
      ]
    },
    {
      "cell_type": "markdown",
      "source": [
        "## **Model 1 (Dense model) : Feed-forward Neural Network**"
      ],
      "metadata": {
        "id": "cqZNYK0BrFgQ"
      }
    },
    {
      "cell_type": "code",
      "source": [
        "# Create Tensorboard Callback \n",
        "from functions import create_tensorboard_callback\n",
        "\n",
        "checkpoint_path = \"dense_model_checkpoints\" \n",
        "model_checkpoint = tf.keras.callbacks.ModelCheckpoint(checkpoint_path,\n",
        "                                                      monitor=\"val_acc\",\n",
        "                                                      save_best_only=True,\n",
        "                                                      save_weights_only=True,\n",
        "                                                      verbose=0)"
      ],
      "metadata": {
        "id": "dPbeAIWCnJQg"
      },
      "execution_count": null,
      "outputs": []
    },
    {
      "cell_type": "code",
      "source": [
        "# Build model's architecture with funtional API\n",
        "from tensorflow.keras import layers\n",
        "\n",
        "inputs = layers.Input(shape=(1,), dtype=tf.string)\n",
        "x = text_vectorizer(inputs)\n",
        "x = embedding(x)\n",
        "x = layers.GlobalAveragePooling1D()(x) # condense the dimension of the tensor\n",
        "outputs = layers.Dense(1, activation=\"sigmoid\")(x)\n",
        "\n",
        "model_1 = tf.keras.Model(inputs, outputs, name=\"model_1_Dense\")\n",
        "\n",
        "# Compile the model\n",
        "model_1.compile(loss=\"binary_crossentropy\",\n",
        "                optimizer=tf.keras.optimizers.Adam(),\n",
        "                metrics=[\"accuracy\"])\n"
      ],
      "metadata": {
        "id": "DIpdlPI8nJOL"
      },
      "execution_count": null,
      "outputs": []
    },
    {
      "cell_type": "code",
      "source": [
        "# Check model summary\n",
        "model_1.summary()"
      ],
      "metadata": {
        "id": "SmspIDasnJLy",
        "colab": {
          "base_uri": "https://localhost:8080/"
        },
        "outputId": "739c0206-48e5-4657-a941-75c94baf556b"
      },
      "execution_count": null,
      "outputs": [
        {
          "output_type": "stream",
          "name": "stdout",
          "text": [
            "Model: \"model_1_Dense\"\n",
            "_________________________________________________________________\n",
            " Layer (type)                Output Shape              Param #   \n",
            "=================================================================\n",
            " input_1 (InputLayer)        [(None, 1)]               0         \n",
            "                                                                 \n",
            " text_vectorization (TextVec  (None, 15)               0         \n",
            " torization)                                                     \n",
            "                                                                 \n",
            " embedding_layer_1 (Embeddin  (None, 15, 128)          1280000   \n",
            " g)                                                              \n",
            "                                                                 \n",
            " global_average_pooling1d (G  (None, 128)              0         \n",
            " lobalAveragePooling1D)                                          \n",
            "                                                                 \n",
            " dense (Dense)               (None, 1)                 129       \n",
            "                                                                 \n",
            "=================================================================\n",
            "Total params: 1,280,129\n",
            "Trainable params: 1,280,129\n",
            "Non-trainable params: 0\n",
            "_________________________________________________________________\n"
          ]
        }
      ]
    },
    {
      "cell_type": "code",
      "source": [
        "# Fit the model\n",
        "history_model_1 = model_1.fit(train_sentences,\n",
        "                              train_labels,\n",
        "                              epochs=5,\n",
        "                              validation_data=(val_sentences, val_labels),\n",
        "                              callbacks=[create_tensorboard_callback(\"model_logs\",\n",
        "                                                                     \"dense_model\")])"
      ],
      "metadata": {
        "id": "lSABkxVXnJI7",
        "colab": {
          "base_uri": "https://localhost:8080/"
        },
        "outputId": "923fdcd9-c45a-469a-bda9-a88f4815b1b8"
      },
      "execution_count": null,
      "outputs": [
        {
          "output_type": "stream",
          "name": "stdout",
          "text": [
            "Saving Tensorboard log files to model_logs/dense_model/20220717-021120\n",
            "Epoch 1/5\n",
            "215/215 [==============================] - 5s 5ms/step - loss: 0.6094 - accuracy: 0.6916 - val_loss: 0.5357 - val_accuracy: 0.7572\n",
            "Epoch 2/5\n",
            "215/215 [==============================] - 1s 4ms/step - loss: 0.4410 - accuracy: 0.8189 - val_loss: 0.4691 - val_accuracy: 0.7848\n",
            "Epoch 3/5\n",
            "215/215 [==============================] - 1s 4ms/step - loss: 0.3463 - accuracy: 0.8605 - val_loss: 0.4590 - val_accuracy: 0.7900\n",
            "Epoch 4/5\n",
            "215/215 [==============================] - 1s 4ms/step - loss: 0.2848 - accuracy: 0.8923 - val_loss: 0.4641 - val_accuracy: 0.7927\n",
            "Epoch 5/5\n",
            "215/215 [==============================] - 1s 4ms/step - loss: 0.2380 - accuracy: 0.9118 - val_loss: 0.4767 - val_accuracy: 0.7874\n"
          ]
        }
      ]
    },
    {
      "cell_type": "code",
      "source": [
        "# Evaluate model in validation set\n",
        "model_1.evaluate(val_sentences, val_labels)"
      ],
      "metadata": {
        "id": "BW1cKe-anIpN",
        "colab": {
          "base_uri": "https://localhost:8080/"
        },
        "outputId": "e34b3afd-ab7b-458a-d963-a393e0ef82bd"
      },
      "execution_count": null,
      "outputs": [
        {
          "output_type": "stream",
          "name": "stdout",
          "text": [
            "24/24 [==============================] - 0s 3ms/step - loss: 0.4767 - accuracy: 0.7874\n"
          ]
        },
        {
          "output_type": "execute_result",
          "data": {
            "text/plain": [
              "[0.47668465971946716, 0.787401556968689]"
            ]
          },
          "metadata": {},
          "execution_count": 29
        }
      ]
    },
    {
      "cell_type": "code",
      "source": [
        "# Check out embedding weights\n",
        "embedding.weights"
      ],
      "metadata": {
        "id": "r8OqLuZUGERV",
        "colab": {
          "base_uri": "https://localhost:8080/"
        },
        "outputId": "f5d001fa-632c-4a70-9899-c1d460289059"
      },
      "execution_count": null,
      "outputs": [
        {
          "output_type": "execute_result",
          "data": {
            "text/plain": [
              "[<tf.Variable 'embedding_layer_1/embeddings:0' shape=(10000, 128) dtype=float32, numpy=\n",
              " array([[ 0.00073165,  0.01504801, -0.03425453, ..., -0.04403539,\n",
              "         -0.0104228 ,  0.01876437],\n",
              "        [ 0.0413586 , -0.03945086, -0.03811941, ...,  0.00464736,\n",
              "          0.03163553,  0.029283  ],\n",
              "        [ 0.00684031,  0.05363133, -0.00241554, ..., -0.07082175,\n",
              "         -0.04750704,  0.01448254],\n",
              "        ...,\n",
              "        [-0.03301444, -0.0052493 , -0.04209725, ...,  0.02028764,\n",
              "          0.00308807,  0.02215792],\n",
              "        [ 0.00692343,  0.05942352, -0.01975194, ..., -0.06199061,\n",
              "         -0.01018393,  0.03510419],\n",
              "        [-0.0372346 ,  0.06267187, -0.07451146, ..., -0.02367218,\n",
              "         -0.08643329,  0.01742156]], dtype=float32)>]"
            ]
          },
          "metadata": {},
          "execution_count": 30
        }
      ]
    },
    {
      "cell_type": "code",
      "source": [
        "# The weights matrix of embedding layer\n",
        "embedding_weights = model_1.get_layer(\"embedding_layer_1\").get_weights()[0]\n",
        "embedding_weights.shape"
      ],
      "metadata": {
        "id": "1FfCvOUvGEN7",
        "colab": {
          "base_uri": "https://localhost:8080/"
        },
        "outputId": "a610621f-dde4-4b91-bca2-d18dc4c29a73"
      },
      "execution_count": null,
      "outputs": [
        {
          "output_type": "execute_result",
          "data": {
            "text/plain": [
              "(10000, 128)"
            ]
          },
          "metadata": {},
          "execution_count": 31
        }
      ]
    },
    {
      "cell_type": "code",
      "source": [
        "# Make predictions\n",
        "model_1_preds_probs = model_1.predict(val_sentences)\n",
        "model_1_preds_probs[:10] # result prediction probability"
      ],
      "metadata": {
        "id": "iAV4Gc0dGEK-",
        "colab": {
          "base_uri": "https://localhost:8080/"
        },
        "outputId": "f42c3a7e-ca03-4715-95cd-dcec902d8140"
      },
      "execution_count": null,
      "outputs": [
        {
          "output_type": "execute_result",
          "data": {
            "text/plain": [
              "array([[0.4048821 ],\n",
              "       [0.7443312 ],\n",
              "       [0.997895  ],\n",
              "       [0.10890001],\n",
              "       [0.11143532],\n",
              "       [0.93556094],\n",
              "       [0.9134595 ],\n",
              "       [0.9925345 ],\n",
              "       [0.97156817],\n",
              "       [0.26570344]], dtype=float32)"
            ]
          },
          "metadata": {},
          "execution_count": 32
        }
      ]
    },
    {
      "cell_type": "code",
      "source": [
        "# Convert prediction probability to prediction class\n",
        "model_1_preds = tf.squeeze(tf.round(model_1_preds_probs)) # tf.squeeze removes single dimension\n",
        "model_1_preds[:10]"
      ],
      "metadata": {
        "id": "KPLiEg3dGEIC",
        "colab": {
          "base_uri": "https://localhost:8080/"
        },
        "outputId": "f73c54f4-1902-4918-d888-64b324d1f53a"
      },
      "execution_count": null,
      "outputs": [
        {
          "output_type": "execute_result",
          "data": {
            "text/plain": [
              "<tf.Tensor: shape=(10,), dtype=float32, numpy=array([0., 1., 1., 0., 0., 1., 1., 1., 1., 0.], dtype=float32)>"
            ]
          },
          "metadata": {},
          "execution_count": 33
        }
      ]
    },
    {
      "cell_type": "code",
      "source": [
        "# Model Evaluation\n",
        "model_1_evaluation = evaluate_prediction(y_true=val_labels, \n",
        "                              y_pred=model_1_preds)\n",
        "\n",
        "model_1_evaluation"
      ],
      "metadata": {
        "id": "3s6dRCOhGEFd",
        "colab": {
          "base_uri": "https://localhost:8080/"
        },
        "outputId": "96db19df-616a-4240-8f99-d45d213f0008"
      },
      "execution_count": null,
      "outputs": [
        {
          "output_type": "execute_result",
          "data": {
            "text/plain": [
              "{'accuracy': 78.74015748031496,\n",
              " 'f1': 0.7846966492209201,\n",
              " 'precision': 0.7914920592553047,\n",
              " 'recall': 0.7874015748031497}"
            ]
          },
          "metadata": {},
          "execution_count": 34
        }
      ]
    },
    {
      "cell_type": "code",
      "source": [
        "# Model Comparison (Did model_1 perform better than model_0 (baseline)?)\n",
        "import numpy as np\n",
        "np.array(list(model_1_evaluation.values())) > np.array(list(model_0_evaluation.values()))"
      ],
      "metadata": {
        "id": "il38wShwGECn",
        "colab": {
          "base_uri": "https://localhost:8080/"
        },
        "outputId": "7dd5c7f9-fcdc-41e0-b66e-83b5122faa8e"
      },
      "execution_count": null,
      "outputs": [
        {
          "output_type": "execute_result",
          "data": {
            "text/plain": [
              "array([False, False, False, False])"
            ]
          },
          "metadata": {},
          "execution_count": 35
        }
      ]
    },
    {
      "cell_type": "code",
      "source": [
        "# Create function to compare model's performances\n",
        "\n",
        "def compare_baseline_to_new_model(baseline_evaluation, new_model_evaluation):\n",
        "  for key, value in baseline_evaluation.items():\n",
        "    print(f\"Baseline {key}: {value:.2f}, New_model {key}: {new_model_evaluation[key]:.2f}, Difference: {new_model_evaluation[key]-value:.2f}\")\n",
        "\n",
        "compare_baseline_to_new_model(baseline_evaluation=model_0_evaluation,\n",
        "                              new_model_evaluation=model_1_evaluation)"
      ],
      "metadata": {
        "id": "hCK3bzYVGD_4",
        "colab": {
          "base_uri": "https://localhost:8080/"
        },
        "outputId": "989551ec-d50d-4823-ac27-b12c313afbbc"
      },
      "execution_count": null,
      "outputs": [
        {
          "output_type": "stream",
          "name": "stdout",
          "text": [
            "Baseline accuracy: 79.27, New_model accuracy: 78.74, Difference: -0.52\n",
            "Baseline precision: 0.81, New_model precision: 0.79, Difference: -0.02\n",
            "Baseline recall: 0.79, New_model recall: 0.79, Difference: -0.01\n",
            "Baseline f1: 0.79, New_model f1: 0.78, Difference: -0.00\n"
          ]
        }
      ]
    },
    {
      "cell_type": "markdown",
      "source": [
        "## **Model 2 (RNN model) : LSTM Model**\n",
        "\n",
        "Adding a LSTM layer between embedding layer and output layer in model_1."
      ],
      "metadata": {
        "id": "WB82ko-vO9_Z"
      }
    },
    {
      "cell_type": "code",
      "source": [
        "# Create Tensorboard Callback \n",
        "from functions import create_tensorboard_callback\n",
        "\n",
        "checkpoint_path = \"lstm_model_checkpoints\" \n",
        "model_checkpoint = tf.keras.callbacks.ModelCheckpoint(checkpoint_path,\n",
        "                                                      monitor=\"val_acc\",\n",
        "                                                      save_best_only=True,\n",
        "                                                      save_weights_only=True,\n",
        "                                                      verbose=0)"
      ],
      "metadata": {
        "id": "WTtwrvcGOjlf"
      },
      "execution_count": null,
      "outputs": []
    },
    {
      "cell_type": "code",
      "source": [
        "# Create embedding layer for model_2 \n",
        "## because embedding weights get updated during training, do not reuse trained embedding in another models\n",
        "## else, it would be mixing what one model learned with the next. it results uneven comparison between models.\n",
        "from tensorflow.keras import layers\n",
        "\n",
        "# set random seed\n",
        "tf.random.set_seed(42)\n",
        "\n",
        "model_2_embedding = layers.Embedding(input_dim=max_vocab_length,\n",
        "                             output_dim=128,\n",
        "                             embeddings_initializer=\"uniform\", \n",
        "                             input_length=max_length,\n",
        "                             name=\"embedding_layer_2\")\n",
        "model_2_embedding"
      ],
      "metadata": {
        "id": "fpTZ6wndMkjD",
        "colab": {
          "base_uri": "https://localhost:8080/"
        },
        "outputId": "11ce2e29-2e3a-47f9-cd77-ce1c301469d7"
      },
      "execution_count": null,
      "outputs": [
        {
          "output_type": "execute_result",
          "data": {
            "text/plain": [
              "<keras.layers.embeddings.Embedding at 0x7f40298ffed0>"
            ]
          },
          "metadata": {},
          "execution_count": 38
        }
      ]
    },
    {
      "cell_type": "code",
      "source": [
        "# Create LSTM model\n",
        "inputs = layers.Input(shape=(1,), dtype=tf.string)\n",
        "x = text_vectorizer(inputs)\n",
        "x = model_2_embedding(x)\n",
        "print(x.shape)\n",
        "x = layers.LSTM(64)(x)\n",
        "print(x.shape)\n",
        "outputs = layers.Dense(1, activation=\"sigmoid\")(x)\n",
        "\n",
        "model_2 = tf.keras.Model(inputs, outputs, name=\"model_2_LSTM\")\n",
        "\n",
        "# Compile the model\n",
        "model_2.compile(loss=\"binary_crossentropy\",\n",
        "                optimizer=tf.keras.optimizers.Adam(),\n",
        "                metrics=[\"accuracy\"])\n"
      ],
      "metadata": {
        "id": "1Vw7BU8-Mkfp",
        "colab": {
          "base_uri": "https://localhost:8080/"
        },
        "outputId": "e854515c-88fb-4e38-a46a-f33b9cd3e67f"
      },
      "execution_count": null,
      "outputs": [
        {
          "output_type": "stream",
          "name": "stdout",
          "text": [
            "(None, 15, 128)\n",
            "(None, 64)\n"
          ]
        }
      ]
    },
    {
      "cell_type": "code",
      "source": [
        "# Check model summary\n",
        "model_2.summary()"
      ],
      "metadata": {
        "id": "xJVzFB6jMkc8",
        "colab": {
          "base_uri": "https://localhost:8080/"
        },
        "outputId": "1ac5779b-760a-4583-992b-8b3d153223a3"
      },
      "execution_count": null,
      "outputs": [
        {
          "output_type": "stream",
          "name": "stdout",
          "text": [
            "Model: \"model_2_LSTM\"\n",
            "_________________________________________________________________\n",
            " Layer (type)                Output Shape              Param #   \n",
            "=================================================================\n",
            " input_2 (InputLayer)        [(None, 1)]               0         \n",
            "                                                                 \n",
            " text_vectorization (TextVec  (None, 15)               0         \n",
            " torization)                                                     \n",
            "                                                                 \n",
            " embedding_layer_2 (Embeddin  (None, 15, 128)          1280000   \n",
            " g)                                                              \n",
            "                                                                 \n",
            " lstm (LSTM)                 (None, 64)                49408     \n",
            "                                                                 \n",
            " dense_1 (Dense)             (None, 1)                 65        \n",
            "                                                                 \n",
            "=================================================================\n",
            "Total params: 1,329,473\n",
            "Trainable params: 1,329,473\n",
            "Non-trainable params: 0\n",
            "_________________________________________________________________\n"
          ]
        }
      ]
    },
    {
      "cell_type": "code",
      "source": [
        "# Fit the model\n",
        "history_model_2 = model_2.fit(train_sentences,\n",
        "                              train_labels,\n",
        "                              epochs=5,\n",
        "                              validation_data=(val_sentences, val_labels),\n",
        "                              callbacks=[create_tensorboard_callback(\"model_logs\",\n",
        "                                                                     \"lstm_model\")])"
      ],
      "metadata": {
        "id": "NKQ_W4qFMkaA",
        "colab": {
          "base_uri": "https://localhost:8080/"
        },
        "outputId": "dcf79ce6-31bd-404c-e378-cc8ca01b725b"
      },
      "execution_count": null,
      "outputs": [
        {
          "output_type": "stream",
          "name": "stdout",
          "text": [
            "Saving Tensorboard log files to model_logs/lstm_model/20220717-021132\n",
            "Epoch 1/5\n",
            "215/215 [==============================] - 6s 8ms/step - loss: 0.5100 - accuracy: 0.7416 - val_loss: 0.4566 - val_accuracy: 0.7822\n",
            "Epoch 2/5\n",
            "215/215 [==============================] - 1s 6ms/step - loss: 0.3176 - accuracy: 0.8717 - val_loss: 0.5138 - val_accuracy: 0.7756\n",
            "Epoch 3/5\n",
            "215/215 [==============================] - 1s 6ms/step - loss: 0.2201 - accuracy: 0.9152 - val_loss: 0.5858 - val_accuracy: 0.7677\n",
            "Epoch 4/5\n",
            "215/215 [==============================] - 1s 6ms/step - loss: 0.1556 - accuracy: 0.9428 - val_loss: 0.6041 - val_accuracy: 0.7743\n",
            "Epoch 5/5\n",
            "215/215 [==============================] - 1s 6ms/step - loss: 0.1076 - accuracy: 0.9594 - val_loss: 0.8746 - val_accuracy: 0.7507\n"
          ]
        }
      ]
    },
    {
      "cell_type": "code",
      "source": [
        "# Make predictions\n",
        "model_2_preds_probs = model_2.predict(val_sentences)\n",
        "model_2_preds_probs.shape, model_2_preds_probs[:10] # result prediction probability"
      ],
      "metadata": {
        "id": "Lj72MRsdMkXj",
        "colab": {
          "base_uri": "https://localhost:8080/"
        },
        "outputId": "06d07423-2c71-46b9-d1df-709c7b3f17e1"
      },
      "execution_count": null,
      "outputs": [
        {
          "output_type": "execute_result",
          "data": {
            "text/plain": [
              "((762, 1), array([[0.007126  ],\n",
              "        [0.7873678 ],\n",
              "        [0.9996376 ],\n",
              "        [0.05679176],\n",
              "        [0.0025822 ],\n",
              "        [0.9996238 ],\n",
              "        [0.92170197],\n",
              "        [0.9997993 ],\n",
              "        [0.9994954 ],\n",
              "        [0.6645739 ]], dtype=float32))"
            ]
          },
          "metadata": {},
          "execution_count": 42
        }
      ]
    },
    {
      "cell_type": "code",
      "source": [
        "# Convert prediction probability to prediction class\n",
        "model_2_preds = tf.squeeze(tf.round(model_2_preds_probs)) # tf.squeeze removes single dimension\n",
        "model_2_preds[:10]"
      ],
      "metadata": {
        "id": "kzM07XLQMkU9",
        "colab": {
          "base_uri": "https://localhost:8080/"
        },
        "outputId": "5168cbfa-5cb0-49e0-b475-2117dcec2db9"
      },
      "execution_count": null,
      "outputs": [
        {
          "output_type": "execute_result",
          "data": {
            "text/plain": [
              "<tf.Tensor: shape=(10,), dtype=float32, numpy=array([0., 1., 1., 0., 0., 1., 1., 1., 1., 1.], dtype=float32)>"
            ]
          },
          "metadata": {},
          "execution_count": 43
        }
      ]
    },
    {
      "cell_type": "code",
      "source": [
        "# Model Evaluation\n",
        "model_2_evaluation = evaluate_prediction(y_true=val_labels, \n",
        "                              y_pred=model_2_preds)\n",
        "\n",
        "model_2_evaluation"
      ],
      "metadata": {
        "id": "RoYuynczMkR4",
        "colab": {
          "base_uri": "https://localhost:8080/"
        },
        "outputId": "4161c189-5065-4790-b9af-a24569a39bbc"
      },
      "execution_count": null,
      "outputs": [
        {
          "output_type": "execute_result",
          "data": {
            "text/plain": [
              "{'accuracy': 75.06561679790026,\n",
              " 'f1': 0.7489268622514025,\n",
              " 'precision': 0.7510077975908164,\n",
              " 'recall': 0.7506561679790026}"
            ]
          },
          "metadata": {},
          "execution_count": 44
        }
      ]
    },
    {
      "cell_type": "code",
      "source": [
        "# Compare model_2 to model_0 (baseline)\n",
        "compare_baseline_to_new_model(baseline_evaluation=model_0_evaluation,\n",
        "                              new_model_evaluation=model_2_evaluation)"
      ],
      "metadata": {
        "id": "JE8AEzxDMkPB",
        "colab": {
          "base_uri": "https://localhost:8080/"
        },
        "outputId": "499f8b21-154b-44e2-d580-df2b69ad7a70"
      },
      "execution_count": null,
      "outputs": [
        {
          "output_type": "stream",
          "name": "stdout",
          "text": [
            "Baseline accuracy: 79.27, New_model accuracy: 75.07, Difference: -4.20\n",
            "Baseline precision: 0.81, New_model precision: 0.75, Difference: -0.06\n",
            "Baseline recall: 0.79, New_model recall: 0.75, Difference: -0.04\n",
            "Baseline f1: 0.79, New_model f1: 0.75, Difference: -0.04\n"
          ]
        }
      ]
    },
    {
      "cell_type": "markdown",
      "source": [
        "## **Model 3 (RNN model) : GRU Model**\n",
        "\n",
        "Gated Recurrent Unit (GRU) similar to LSTM with less parameters."
      ],
      "metadata": {
        "id": "Bm0HE2OhUfpT"
      }
    },
    {
      "cell_type": "code",
      "source": [
        "# Create Tensorboard Callback \n",
        "from functions import create_tensorboard_callback\n",
        "\n",
        "checkpoint_path = \"gru_model_checkpoints\" \n",
        "model_checkpoint = tf.keras.callbacks.ModelCheckpoint(checkpoint_path,\n",
        "                                                      monitor=\"val_acc\",\n",
        "                                                      save_best_only=True,\n",
        "                                                      save_weights_only=True,\n",
        "                                                      verbose=0)"
      ],
      "metadata": {
        "id": "dDwzHTWSOn1i"
      },
      "execution_count": null,
      "outputs": []
    },
    {
      "cell_type": "code",
      "source": [
        "# Create embedding layer for model_3\n",
        "## because embedding weights get updated during training, do not reuse trained embedding in another models\n",
        "## else, it would be mixing what one model learned with the next. it results uneven comparison between models.\n",
        "from tensorflow.keras import layers\n",
        "\n",
        "# set random seed\n",
        "tf.random.set_seed(42)\n",
        "\n",
        "model_3_embedding = layers.Embedding(input_dim=max_vocab_length,\n",
        "                             output_dim=128,\n",
        "                             embeddings_initializer=\"uniform\", \n",
        "                             input_length=max_length,\n",
        "                             name=\"embedding_layer_3\")\n",
        "model_3_embedding"
      ],
      "metadata": {
        "id": "5WsAWAXAU8OC",
        "colab": {
          "base_uri": "https://localhost:8080/"
        },
        "outputId": "b8a57f5d-59e8-4fc7-cb5f-b7060a8f652a"
      },
      "execution_count": null,
      "outputs": [
        {
          "output_type": "execute_result",
          "data": {
            "text/plain": [
              "<keras.layers.embeddings.Embedding at 0x7f4039e4eb50>"
            ]
          },
          "metadata": {},
          "execution_count": 47
        }
      ]
    },
    {
      "cell_type": "code",
      "source": [
        "# Create GRU model\n",
        "inputs = layers.Input(shape=(1,), dtype=tf.string)\n",
        "x = text_vectorizer(inputs)\n",
        "x = model_3_embedding(x)\n",
        "x = layers.GRU(64)(x)\n",
        "outputs = layers.Dense(1, activation=\"sigmoid\")(x)\n",
        "\n",
        "model_3 = tf.keras.Model(inputs, outputs, name=\"model_3_GRU\")\n",
        "\n",
        "# Compile the model\n",
        "model_3.compile(loss=\"binary_crossentropy\",\n",
        "                optimizer=tf.keras.optimizers.Adam(),\n",
        "                metrics=[\"accuracy\"])\n"
      ],
      "metadata": {
        "id": "hNtM6KoPU8Kr"
      },
      "execution_count": null,
      "outputs": []
    },
    {
      "cell_type": "code",
      "source": [
        "# Check model summary\n",
        "model_3.summary()"
      ],
      "metadata": {
        "id": "s9M6x9oMU8Gu",
        "colab": {
          "base_uri": "https://localhost:8080/"
        },
        "outputId": "af310313-3214-4049-b4fb-e295052f74bc"
      },
      "execution_count": null,
      "outputs": [
        {
          "output_type": "stream",
          "name": "stdout",
          "text": [
            "Model: \"model_3_GRU\"\n",
            "_________________________________________________________________\n",
            " Layer (type)                Output Shape              Param #   \n",
            "=================================================================\n",
            " input_3 (InputLayer)        [(None, 1)]               0         \n",
            "                                                                 \n",
            " text_vectorization (TextVec  (None, 15)               0         \n",
            " torization)                                                     \n",
            "                                                                 \n",
            " embedding_layer_3 (Embeddin  (None, 15, 128)          1280000   \n",
            " g)                                                              \n",
            "                                                                 \n",
            " gru (GRU)                   (None, 64)                37248     \n",
            "                                                                 \n",
            " dense_2 (Dense)             (None, 1)                 65        \n",
            "                                                                 \n",
            "=================================================================\n",
            "Total params: 1,317,313\n",
            "Trainable params: 1,317,313\n",
            "Non-trainable params: 0\n",
            "_________________________________________________________________\n"
          ]
        }
      ]
    },
    {
      "cell_type": "code",
      "source": [
        "# Fit the model\n",
        "history_model_3 = model_3.fit(train_sentences,\n",
        "                              train_labels,\n",
        "                              epochs=5,\n",
        "                              validation_data=(val_sentences, val_labels),\n",
        "                              callbacks=[create_tensorboard_callback(\"model_logs\",\n",
        "                                                                     \"gru_model\")])"
      ],
      "metadata": {
        "id": "Kya_lF3hU8Cb",
        "colab": {
          "base_uri": "https://localhost:8080/"
        },
        "outputId": "291f54a2-cf41-4e99-b53b-540f796a5592"
      },
      "execution_count": null,
      "outputs": [
        {
          "output_type": "stream",
          "name": "stdout",
          "text": [
            "Saving Tensorboard log files to model_logs/gru_model/20220717-021145\n",
            "Epoch 1/5\n",
            "215/215 [==============================] - 3s 8ms/step - loss: 0.5242 - accuracy: 0.7314 - val_loss: 0.4553 - val_accuracy: 0.7769\n",
            "Epoch 2/5\n",
            "215/215 [==============================] - 1s 6ms/step - loss: 0.3195 - accuracy: 0.8694 - val_loss: 0.4937 - val_accuracy: 0.7808\n",
            "Epoch 3/5\n",
            "215/215 [==============================] - 1s 6ms/step - loss: 0.2197 - accuracy: 0.9181 - val_loss: 0.5607 - val_accuracy: 0.7743\n",
            "Epoch 4/5\n",
            "215/215 [==============================] - 1s 6ms/step - loss: 0.1599 - accuracy: 0.9441 - val_loss: 0.6220 - val_accuracy: 0.7782\n",
            "Epoch 5/5\n",
            "215/215 [==============================] - 1s 6ms/step - loss: 0.1221 - accuracy: 0.9584 - val_loss: 0.6205 - val_accuracy: 0.7677\n"
          ]
        }
      ]
    },
    {
      "cell_type": "code",
      "source": [
        "# Make predictions\n",
        "model_3_preds_probs = model_3.predict(val_sentences)\n",
        "model_3_preds_probs.shape, model_3_preds_probs[:10] # result prediction probability"
      ],
      "metadata": {
        "id": "zsYyCp5WU7_X",
        "colab": {
          "base_uri": "https://localhost:8080/"
        },
        "outputId": "39a64eba-1cf2-4988-d4e0-e424c068350b"
      },
      "execution_count": null,
      "outputs": [
        {
          "output_type": "execute_result",
          "data": {
            "text/plain": [
              "((762, 1), array([[0.33325273],\n",
              "        [0.87741184],\n",
              "        [0.9980252 ],\n",
              "        [0.11561756],\n",
              "        [0.01235959],\n",
              "        [0.9925639 ],\n",
              "        [0.6214262 ],\n",
              "        [0.99813336],\n",
              "        [0.9982377 ],\n",
              "        [0.5018107 ]], dtype=float32))"
            ]
          },
          "metadata": {},
          "execution_count": 51
        }
      ]
    },
    {
      "cell_type": "code",
      "source": [
        "# Convert prediction probability to prediction class\n",
        "model_3_preds = tf.squeeze(tf.round(model_3_preds_probs)) # tf.squeeze removes single dimension\n",
        "model_3_preds[:10]"
      ],
      "metadata": {
        "id": "-i5BTV5WU74t",
        "colab": {
          "base_uri": "https://localhost:8080/"
        },
        "outputId": "817d5236-3ede-4025-e8e1-645db0078018"
      },
      "execution_count": null,
      "outputs": [
        {
          "output_type": "execute_result",
          "data": {
            "text/plain": [
              "<tf.Tensor: shape=(10,), dtype=float32, numpy=array([0., 1., 1., 0., 0., 1., 1., 1., 1., 1.], dtype=float32)>"
            ]
          },
          "metadata": {},
          "execution_count": 52
        }
      ]
    },
    {
      "cell_type": "code",
      "source": [
        "# Model Evaluation\n",
        "model_3_evaluation = evaluate_prediction(y_true=val_labels, \n",
        "                              y_pred=model_3_preds)\n",
        "\n",
        "model_3_evaluation"
      ],
      "metadata": {
        "id": "eBUZnLwPU71Q",
        "colab": {
          "base_uri": "https://localhost:8080/"
        },
        "outputId": "8e63631d-d240-4a01-86f4-b99d64ace11e"
      },
      "execution_count": null,
      "outputs": [
        {
          "output_type": "execute_result",
          "data": {
            "text/plain": [
              "{'accuracy': 76.77165354330708,\n",
              " 'f1': 0.7667932666650168,\n",
              " 'precision': 0.7675450859410361,\n",
              " 'recall': 0.7677165354330708}"
            ]
          },
          "metadata": {},
          "execution_count": 53
        }
      ]
    },
    {
      "cell_type": "code",
      "source": [
        "# Compare model_3 to model_0 (baseline)\n",
        "compare_baseline_to_new_model(baseline_evaluation=model_0_evaluation,\n",
        "                              new_model_evaluation=model_3_evaluation)"
      ],
      "metadata": {
        "id": "RVwofPphU7xH",
        "colab": {
          "base_uri": "https://localhost:8080/"
        },
        "outputId": "c114ebad-641a-4738-ea2b-92279935c0e3"
      },
      "execution_count": null,
      "outputs": [
        {
          "output_type": "stream",
          "name": "stdout",
          "text": [
            "Baseline accuracy: 79.27, New_model accuracy: 76.77, Difference: -2.49\n",
            "Baseline precision: 0.81, New_model precision: 0.77, Difference: -0.04\n",
            "Baseline recall: 0.79, New_model recall: 0.77, Difference: -0.02\n",
            "Baseline f1: 0.79, New_model f1: 0.77, Difference: -0.02\n"
          ]
        }
      ]
    },
    {
      "cell_type": "markdown",
      "source": [
        "## **Model 4 : Bidirectional RNN Model**\n",
        "\n",
        "Bidirectional RNN will process the sequences from left to right and then again from right to left. This algorithm costs longer training time and increased model parameters."
      ],
      "metadata": {
        "id": "joEmGmC_dHEj"
      }
    },
    {
      "cell_type": "code",
      "source": [
        "# Create Tensorboard Callback \n",
        "from functions import create_tensorboard_callback\n",
        "\n",
        "checkpoint_path = \"bidirectional_model_checkpoints\" \n",
        "model_checkpoint = tf.keras.callbacks.ModelCheckpoint(checkpoint_path,\n",
        "                                                      monitor=\"val_acc\",\n",
        "                                                      save_best_only=True,\n",
        "                                                      save_weights_only=True,\n",
        "                                                      verbose=0)"
      ],
      "metadata": {
        "id": "_4HMuDfAOrgT"
      },
      "execution_count": null,
      "outputs": []
    },
    {
      "cell_type": "code",
      "source": [
        "# Create embedding layer for model_4\n",
        "## because embedding weights get updated during training, do not reuse trained embedding in another models\n",
        "## else, it would be mixing what one model learned with the next. it results uneven comparison between models.\n",
        "from tensorflow.keras import layers\n",
        "\n",
        "# set random seed\n",
        "tf.random.set_seed(42)\n",
        "\n",
        "model_4_embedding = layers.Embedding(input_dim=max_vocab_length,\n",
        "                             output_dim=128,\n",
        "                             embeddings_initializer=\"uniform\", \n",
        "                             input_length=max_length,\n",
        "                             name=\"embedding_layer_4\")\n",
        "model_4_embedding"
      ],
      "metadata": {
        "id": "_mqWYuLhU7th",
        "colab": {
          "base_uri": "https://localhost:8080/"
        },
        "outputId": "29403ecf-63e4-4a16-ea16-c7d73edb7de2"
      },
      "execution_count": null,
      "outputs": [
        {
          "output_type": "execute_result",
          "data": {
            "text/plain": [
              "<keras.layers.embeddings.Embedding at 0x7f40376366d0>"
            ]
          },
          "metadata": {},
          "execution_count": 56
        }
      ]
    },
    {
      "cell_type": "code",
      "source": [
        "# Create the model\n",
        "inputs = layers.Input(shape=(1,), dtype=tf.string)\n",
        "x = text_vectorizer(inputs)\n",
        "x = model_4_embedding(x)\n",
        "x = layers.Bidirectional(layers.LSTM(64))(x)\n",
        "outputs = layers.Dense(1, activation=\"sigmoid\")(x)\n",
        "\n",
        "model_4 = tf.keras.Model(inputs, outputs, name=\"model_4_Bidirectional\")\n",
        "\n",
        "# Compile the model\n",
        "model_4.compile(loss=\"binary_crossentropy\",\n",
        "                optimizer=tf.keras.optimizers.Adam(),\n",
        "                metrics=[\"accuracy\"])"
      ],
      "metadata": {
        "id": "uPs9RL6LeFiG"
      },
      "execution_count": null,
      "outputs": []
    },
    {
      "cell_type": "code",
      "source": [
        "# Check model summary\n",
        "model_4.summary()"
      ],
      "metadata": {
        "id": "zsO58mTdeFeZ",
        "colab": {
          "base_uri": "https://localhost:8080/"
        },
        "outputId": "b268e3b0-935c-41cf-814f-23d16809aaf0"
      },
      "execution_count": null,
      "outputs": [
        {
          "output_type": "stream",
          "name": "stdout",
          "text": [
            "Model: \"model_4_Bidirectional\"\n",
            "_________________________________________________________________\n",
            " Layer (type)                Output Shape              Param #   \n",
            "=================================================================\n",
            " input_4 (InputLayer)        [(None, 1)]               0         \n",
            "                                                                 \n",
            " text_vectorization (TextVec  (None, 15)               0         \n",
            " torization)                                                     \n",
            "                                                                 \n",
            " embedding_layer_4 (Embeddin  (None, 15, 128)          1280000   \n",
            " g)                                                              \n",
            "                                                                 \n",
            " bidirectional (Bidirectiona  (None, 128)              98816     \n",
            " l)                                                              \n",
            "                                                                 \n",
            " dense_3 (Dense)             (None, 1)                 129       \n",
            "                                                                 \n",
            "=================================================================\n",
            "Total params: 1,378,945\n",
            "Trainable params: 1,378,945\n",
            "Non-trainable params: 0\n",
            "_________________________________________________________________\n"
          ]
        }
      ]
    },
    {
      "cell_type": "code",
      "source": [
        "# Fit the model\n",
        "history_model_4 = model_4.fit(train_sentences,\n",
        "                              train_labels,\n",
        "                              epochs=5,\n",
        "                              validation_data=(val_sentences, val_labels),\n",
        "                              callbacks=[create_tensorboard_callback(\"model_logs\",\n",
        "                                                                     \"bidirectional_model\")])"
      ],
      "metadata": {
        "id": "I3fboX-2eFYp",
        "colab": {
          "base_uri": "https://localhost:8080/"
        },
        "outputId": "b1f18a07-783e-41c0-dc1d-2a8a53184652"
      },
      "execution_count": null,
      "outputs": [
        {
          "output_type": "stream",
          "name": "stdout",
          "text": [
            "Saving Tensorboard log files to model_logs/bidirectional_model/20220717-021155\n",
            "Epoch 1/5\n",
            "215/215 [==============================] - 6s 11ms/step - loss: 0.5093 - accuracy: 0.7481 - val_loss: 0.4606 - val_accuracy: 0.7795\n",
            "Epoch 2/5\n",
            "215/215 [==============================] - 2s 8ms/step - loss: 0.3135 - accuracy: 0.8708 - val_loss: 0.5144 - val_accuracy: 0.7690\n",
            "Epoch 3/5\n",
            "215/215 [==============================] - 2s 8ms/step - loss: 0.2150 - accuracy: 0.9178 - val_loss: 0.5626 - val_accuracy: 0.7677\n",
            "Epoch 4/5\n",
            "215/215 [==============================] - 2s 8ms/step - loss: 0.1523 - accuracy: 0.9469 - val_loss: 0.6365 - val_accuracy: 0.7769\n",
            "Epoch 5/5\n",
            "215/215 [==============================] - 2s 11ms/step - loss: 0.1083 - accuracy: 0.9639 - val_loss: 0.6509 - val_accuracy: 0.7664\n"
          ]
        }
      ]
    },
    {
      "cell_type": "code",
      "source": [
        "# Make predictions\n",
        "model_4_preds_probs = model_4.predict(val_sentences)\n",
        "model_4_preds_probs.shape, model_4_preds_probs[:10] # result prediction probability"
      ],
      "metadata": {
        "id": "dk4dRHPoeFWT",
        "colab": {
          "base_uri": "https://localhost:8080/"
        },
        "outputId": "a4415a38-042a-4496-f254-039d75daed64"
      },
      "execution_count": null,
      "outputs": [
        {
          "output_type": "execute_result",
          "data": {
            "text/plain": [
              "((762, 1), array([[0.04000055],\n",
              "        [0.8279291 ],\n",
              "        [0.99842227],\n",
              "        [0.13531098],\n",
              "        [0.00311338],\n",
              "        [0.99220747],\n",
              "        [0.95528346],\n",
              "        [0.99945647],\n",
              "        [0.99898285],\n",
              "        [0.28141677]], dtype=float32))"
            ]
          },
          "metadata": {},
          "execution_count": 60
        }
      ]
    },
    {
      "cell_type": "code",
      "source": [
        "# Convert prediction probability to prediction class\n",
        "model_4_preds = tf.squeeze(tf.round(model_4_preds_probs)) # tf.squeeze removes single dimension\n",
        "model_4_preds[:10]"
      ],
      "metadata": {
        "id": "ZvafFWeXeFTf",
        "colab": {
          "base_uri": "https://localhost:8080/"
        },
        "outputId": "5438c087-e533-459c-c858-a765d69d950d"
      },
      "execution_count": null,
      "outputs": [
        {
          "output_type": "execute_result",
          "data": {
            "text/plain": [
              "<tf.Tensor: shape=(10,), dtype=float32, numpy=array([0., 1., 1., 0., 0., 1., 1., 1., 1., 0.], dtype=float32)>"
            ]
          },
          "metadata": {},
          "execution_count": 61
        }
      ]
    },
    {
      "cell_type": "code",
      "source": [
        "# Model Evaluation\n",
        "model_4_evaluation = evaluate_prediction(y_true=val_labels, \n",
        "                              y_pred=model_4_preds)\n",
        "\n",
        "model_4_evaluation"
      ],
      "metadata": {
        "id": "1LFmGz7Ze-Dn",
        "colab": {
          "base_uri": "https://localhost:8080/"
        },
        "outputId": "5ae74f93-2cc2-481d-e641-26caa57132dd"
      },
      "execution_count": null,
      "outputs": [
        {
          "output_type": "execute_result",
          "data": {
            "text/plain": [
              "{'accuracy': 76.64041994750657,\n",
              " 'f1': 0.7651213533864446,\n",
              " 'precision': 0.7665895370389821,\n",
              " 'recall': 0.7664041994750657}"
            ]
          },
          "metadata": {},
          "execution_count": 62
        }
      ]
    },
    {
      "cell_type": "code",
      "source": [
        "# Compare model_4 to model_0 (baseline)\n",
        "compare_baseline_to_new_model(baseline_evaluation=model_0_evaluation,\n",
        "                              new_model_evaluation=model_4_evaluation)"
      ],
      "metadata": {
        "id": "WkE4XAi-fFoL",
        "colab": {
          "base_uri": "https://localhost:8080/"
        },
        "outputId": "9d68902e-3808-4231-8888-877c9e37c0d6"
      },
      "execution_count": null,
      "outputs": [
        {
          "output_type": "stream",
          "name": "stdout",
          "text": [
            "Baseline accuracy: 79.27, New_model accuracy: 76.64, Difference: -2.62\n",
            "Baseline precision: 0.81, New_model precision: 0.77, Difference: -0.04\n",
            "Baseline recall: 0.79, New_model recall: 0.77, Difference: -0.03\n",
            "Baseline f1: 0.79, New_model f1: 0.77, Difference: -0.02\n"
          ]
        }
      ]
    },
    {
      "cell_type": "markdown",
      "source": [
        "## **Model 5 (CNN model) : 1D-CNN Model**"
      ],
      "metadata": {
        "id": "cm1xoClYfwkL"
      }
    },
    {
      "cell_type": "code",
      "source": [
        "# Create Tensorboard Callback \n",
        "from functions import create_tensorboard_callback\n",
        "\n",
        "checkpoint_path = \"1dcnn_model_checkpoints\" \n",
        "model_checkpoint = tf.keras.callbacks.ModelCheckpoint(checkpoint_path,\n",
        "                                                      monitor=\"val_acc\",\n",
        "                                                      save_best_only=True,\n",
        "                                                      save_weights_only=True,\n",
        "                                                      verbose=0)"
      ],
      "metadata": {
        "id": "l33Y15VEOwb4"
      },
      "execution_count": null,
      "outputs": []
    },
    {
      "cell_type": "code",
      "source": [
        "# Testing out the embedding, Conv1D, and max pooling\n",
        "embedding_test = embedding(text_vectorizer([\"Testing out the embedding\"]))\n",
        "\n",
        "conv_1d_output = layers.Conv1D(filters=32, kernel_size=5, activation=\"relu\")(embedding_test) # pass embedding to convolutional 1D layer\n",
        "max_pool_output = layers.GlobalMaxPool1D()(conv_1d_output)\n",
        "\n",
        "# Check the tensor shape\n",
        "embedding_test.shape, conv_1d_output.shape, max_pool_output.shape"
      ],
      "metadata": {
        "id": "ZAmuc4iPfPtz",
        "colab": {
          "base_uri": "https://localhost:8080/"
        },
        "outputId": "039c8d76-7c0b-4883-fea7-6f9c3dca8894"
      },
      "execution_count": null,
      "outputs": [
        {
          "output_type": "execute_result",
          "data": {
            "text/plain": [
              "(TensorShape([1, 15, 128]), TensorShape([1, 11, 32]), TensorShape([1, 32]))"
            ]
          },
          "metadata": {},
          "execution_count": 65
        }
      ]
    },
    {
      "cell_type": "code",
      "source": [
        "# View the output of each layer\n",
        "embedding_test[:1], conv_1d_output[:1], max_pool_output[:1]"
      ],
      "metadata": {
        "id": "vl0txD6uiLCw",
        "colab": {
          "base_uri": "https://localhost:8080/"
        },
        "outputId": "cb663710-d061-4965-9565-92fcac750a73"
      },
      "execution_count": null,
      "outputs": [
        {
          "output_type": "execute_result",
          "data": {
            "text/plain": [
              "(<tf.Tensor: shape=(1, 15, 128), dtype=float32, numpy=\n",
              " array([[[ 0.06301616,  0.0237228 , -0.01208254, ...,  0.00464593,\n",
              "           0.06175403, -0.05745464],\n",
              "         [-0.05126509,  0.09102038, -0.04912858, ..., -0.03403544,\n",
              "          -0.07990677,  0.05699109],\n",
              "         [ 0.00684031,  0.05363133, -0.00241554, ..., -0.07082175,\n",
              "          -0.04750704,  0.01448254],\n",
              "         ...,\n",
              "         [ 0.00073165,  0.01504801, -0.03425453, ..., -0.04403539,\n",
              "          -0.0104228 ,  0.01876437],\n",
              "         [ 0.00073165,  0.01504801, -0.03425453, ..., -0.04403539,\n",
              "          -0.0104228 ,  0.01876437],\n",
              "         [ 0.00073165,  0.01504801, -0.03425453, ..., -0.04403539,\n",
              "          -0.0104228 ,  0.01876437]]], dtype=float32)>,\n",
              " <tf.Tensor: shape=(1, 11, 32), dtype=float32, numpy=\n",
              " array([[[0.0209246 , 0.0432021 , 0.        , 0.05410302, 0.        ,\n",
              "          0.        , 0.        , 0.        , 0.        , 0.        ,\n",
              "          0.04170065, 0.        , 0.02664686, 0.        , 0.03347984,\n",
              "          0.00081568, 0.        , 0.        , 0.08213854, 0.        ,\n",
              "          0.        , 0.03279709, 0.05369112, 0.02525335, 0.06914867,\n",
              "          0.        , 0.08920839, 0.00284569, 0.01257588, 0.        ,\n",
              "          0.01424729, 0.        ],\n",
              "         [0.00351981, 0.09309668, 0.        , 0.03877293, 0.03519855,\n",
              "          0.        , 0.        , 0.        , 0.0057607 , 0.        ,\n",
              "          0.11531562, 0.        , 0.        , 0.07805078, 0.01843356,\n",
              "          0.        , 0.        , 0.        , 0.01228741, 0.        ,\n",
              "          0.0031869 , 0.        , 0.08244039, 0.        , 0.03705313,\n",
              "          0.        , 0.        , 0.        , 0.        , 0.04104312,\n",
              "          0.        , 0.        ],\n",
              "         [0.00253647, 0.01176643, 0.        , 0.05464606, 0.        ,\n",
              "          0.        , 0.01019674, 0.        , 0.        , 0.0321348 ,\n",
              "          0.        , 0.02155232, 0.        , 0.04143959, 0.01950982,\n",
              "          0.00782122, 0.        , 0.        , 0.06055817, 0.        ,\n",
              "          0.02367398, 0.03353225, 0.05211252, 0.03294054, 0.        ,\n",
              "          0.        , 0.        , 0.        , 0.        , 0.00627133,\n",
              "          0.0892288 , 0.        ],\n",
              "         [0.        , 0.02369069, 0.        , 0.05827616, 0.05297647,\n",
              "          0.        , 0.        , 0.        , 0.        , 0.        ,\n",
              "          0.01719719, 0.02936819, 0.00466103, 0.06879884, 0.01944805,\n",
              "          0.01585535, 0.01294548, 0.        , 0.06866528, 0.        ,\n",
              "          0.00623768, 0.0351405 , 0.02407531, 0.        , 0.05979817,\n",
              "          0.        , 0.01170142, 0.        , 0.        , 0.        ,\n",
              "          0.0444493 , 0.        ],\n",
              "         [0.03544863, 0.        , 0.        , 0.05054976, 0.0610544 ,\n",
              "          0.        , 0.00997429, 0.01403009, 0.        , 0.01680728,\n",
              "          0.03148506, 0.03889385, 0.        , 0.07710676, 0.00590967,\n",
              "          0.        , 0.00263035, 0.        , 0.08935824, 0.        ,\n",
              "          0.        , 0.0533115 , 0.05227951, 0.        , 0.06658385,\n",
              "          0.01881707, 0.02448696, 0.        , 0.        , 0.        ,\n",
              "          0.0200846 , 0.        ],\n",
              "         [0.03544864, 0.        , 0.        , 0.05054975, 0.06105441,\n",
              "          0.        , 0.00997428, 0.01403009, 0.        , 0.01680726,\n",
              "          0.03148506, 0.03889384, 0.        , 0.07710677, 0.00590967,\n",
              "          0.        , 0.00263034, 0.        , 0.08935821, 0.        ,\n",
              "          0.        , 0.0533115 , 0.05227951, 0.        , 0.06658386,\n",
              "          0.01881706, 0.02448697, 0.        , 0.        , 0.        ,\n",
              "          0.02008459, 0.        ],\n",
              "         [0.03544863, 0.        , 0.        , 0.05054976, 0.06105442,\n",
              "          0.        , 0.00997429, 0.01403009, 0.        , 0.01680727,\n",
              "          0.03148506, 0.03889385, 0.        , 0.07710677, 0.00590968,\n",
              "          0.        , 0.00263036, 0.        , 0.08935823, 0.        ,\n",
              "          0.        , 0.05331151, 0.05227951, 0.        , 0.06658387,\n",
              "          0.01881707, 0.02448696, 0.        , 0.        , 0.        ,\n",
              "          0.02008459, 0.        ],\n",
              "         [0.03544864, 0.        , 0.        , 0.05054976, 0.06105439,\n",
              "          0.        , 0.00997429, 0.01403009, 0.        , 0.01680727,\n",
              "          0.03148506, 0.03889384, 0.        , 0.07710677, 0.00590968,\n",
              "          0.        , 0.00263035, 0.        , 0.08935823, 0.        ,\n",
              "          0.        , 0.05331152, 0.05227951, 0.        , 0.06658386,\n",
              "          0.01881706, 0.02448696, 0.        , 0.        , 0.        ,\n",
              "          0.02008459, 0.        ],\n",
              "         [0.03544864, 0.        , 0.        , 0.05054975, 0.06105442,\n",
              "          0.        , 0.00997429, 0.01403009, 0.        , 0.01680727,\n",
              "          0.03148507, 0.03889385, 0.        , 0.07710677, 0.00590967,\n",
              "          0.        , 0.00263034, 0.        , 0.08935823, 0.        ,\n",
              "          0.        , 0.0533115 , 0.05227952, 0.        , 0.06658388,\n",
              "          0.01881706, 0.02448697, 0.        , 0.        , 0.        ,\n",
              "          0.02008458, 0.        ],\n",
              "         [0.03544866, 0.        , 0.        , 0.05054975, 0.06105441,\n",
              "          0.        , 0.00997428, 0.01403009, 0.        , 0.01680726,\n",
              "          0.03148507, 0.03889385, 0.        , 0.07710677, 0.00590967,\n",
              "          0.        , 0.00263035, 0.        , 0.08935823, 0.        ,\n",
              "          0.        , 0.05331151, 0.05227952, 0.        , 0.06658387,\n",
              "          0.01881706, 0.02448697, 0.        , 0.        , 0.        ,\n",
              "          0.02008459, 0.        ],\n",
              "         [0.03544864, 0.        , 0.        , 0.05054975, 0.06105439,\n",
              "          0.        , 0.00997428, 0.01403009, 0.        , 0.01680726,\n",
              "          0.03148507, 0.03889385, 0.        , 0.07710677, 0.00590968,\n",
              "          0.        , 0.00263035, 0.        , 0.08935823, 0.        ,\n",
              "          0.        , 0.05331151, 0.05227952, 0.        , 0.06658386,\n",
              "          0.01881706, 0.02448696, 0.        , 0.        , 0.        ,\n",
              "          0.02008459, 0.        ]]], dtype=float32)>,\n",
              " <tf.Tensor: shape=(1, 32), dtype=float32, numpy=\n",
              " array([[0.03544866, 0.09309668, 0.        , 0.05827616, 0.06105442,\n",
              "         0.        , 0.01019674, 0.01403009, 0.0057607 , 0.0321348 ,\n",
              "         0.11531562, 0.03889385, 0.02664686, 0.07805078, 0.03347984,\n",
              "         0.01585535, 0.01294548, 0.        , 0.08935824, 0.        ,\n",
              "         0.02367398, 0.05331152, 0.08244039, 0.03294054, 0.06914867,\n",
              "         0.01881707, 0.08920839, 0.00284569, 0.01257588, 0.04104312,\n",
              "         0.0892288 , 0.        ]], dtype=float32)>)"
            ]
          },
          "metadata": {},
          "execution_count": 66
        }
      ]
    },
    {
      "cell_type": "code",
      "source": [
        "# Create embedding layer for model_4\n",
        "## because embedding weights get updated during training, do not reuse trained embedding in another models\n",
        "## else, it would be mixing what one model learned with the next. it results uneven comparison between models.\n",
        "from tensorflow.keras import layers\n",
        "\n",
        "# set random seed\n",
        "tf.random.set_seed(42)\n",
        "\n",
        "model_5_embedding = layers.Embedding(input_dim=max_vocab_length,\n",
        "                             output_dim=128,\n",
        "                             embeddings_initializer=\"uniform\", \n",
        "                             input_length=max_length,\n",
        "                             name=\"embedding_layer_5\")\n",
        "model_5_embedding"
      ],
      "metadata": {
        "id": "ZpYM5apxidTV",
        "colab": {
          "base_uri": "https://localhost:8080/"
        },
        "outputId": "880083a3-e6d6-48d7-a2a6-81f3248fd0d9"
      },
      "execution_count": null,
      "outputs": [
        {
          "output_type": "execute_result",
          "data": {
            "text/plain": [
              "<keras.layers.embeddings.Embedding at 0x7f4037549350>"
            ]
          },
          "metadata": {},
          "execution_count": 67
        }
      ]
    },
    {
      "cell_type": "code",
      "source": [
        "# Create the model\n",
        "inputs = layers.Input(shape=(1,), dtype=tf.string)\n",
        "x = text_vectorizer(inputs)\n",
        "x = model_5_embedding(x)\n",
        "x = layers.Conv1D(filters=32, kernel_size=5, activation=\"relu\")(x)\n",
        "x = layers.GlobalMaxPool1D()(x)\n",
        "outputs = layers.Dense(1, activation=\"sigmoid\")(x)\n",
        "\n",
        "model_5 = tf.keras.Model(inputs, outputs, name=\"model_5_Conv1D\")\n",
        "\n",
        "# Compile the model\n",
        "model_5.compile(loss=\"binary_crossentropy\",\n",
        "                optimizer=tf.keras.optimizers.Adam(),\n",
        "                metrics=[\"accuracy\"])"
      ],
      "metadata": {
        "id": "D4b9LwAAidDr"
      },
      "execution_count": null,
      "outputs": []
    },
    {
      "cell_type": "code",
      "source": [
        "# Check model summary\n",
        "model_5.summary()"
      ],
      "metadata": {
        "id": "WEpaDN-Ii2wC",
        "colab": {
          "base_uri": "https://localhost:8080/"
        },
        "outputId": "89ccaac4-6de0-452c-954c-5364e714b1ec"
      },
      "execution_count": null,
      "outputs": [
        {
          "output_type": "stream",
          "name": "stdout",
          "text": [
            "Model: \"model_5_Conv1D\"\n",
            "_________________________________________________________________\n",
            " Layer (type)                Output Shape              Param #   \n",
            "=================================================================\n",
            " input_5 (InputLayer)        [(None, 1)]               0         \n",
            "                                                                 \n",
            " text_vectorization (TextVec  (None, 15)               0         \n",
            " torization)                                                     \n",
            "                                                                 \n",
            " embedding_layer_5 (Embeddin  (None, 15, 128)          1280000   \n",
            " g)                                                              \n",
            "                                                                 \n",
            " conv1d_1 (Conv1D)           (None, 11, 32)            20512     \n",
            "                                                                 \n",
            " global_max_pooling1d_1 (Glo  (None, 32)               0         \n",
            " balMaxPooling1D)                                                \n",
            "                                                                 \n",
            " dense_4 (Dense)             (None, 1)                 33        \n",
            "                                                                 \n",
            "=================================================================\n",
            "Total params: 1,300,545\n",
            "Trainable params: 1,300,545\n",
            "Non-trainable params: 0\n",
            "_________________________________________________________________\n"
          ]
        }
      ]
    },
    {
      "cell_type": "code",
      "source": [
        "# Fit the model\n",
        "history_model_5 = model_5.fit(train_sentences,\n",
        "                              train_labels,\n",
        "                              epochs=5,\n",
        "                              validation_data=(val_sentences, val_labels),\n",
        "                              callbacks=[create_tensorboard_callback(\"model_logs\",\n",
        "                                                                     \"conv1d_model\")])"
      ],
      "metadata": {
        "id": "IpaFl1NWi2st",
        "colab": {
          "base_uri": "https://localhost:8080/"
        },
        "outputId": "b30a63a2-eca0-4f55-a3d9-07dec33cec17"
      },
      "execution_count": null,
      "outputs": [
        {
          "output_type": "stream",
          "name": "stdout",
          "text": [
            "Saving Tensorboard log files to model_logs/conv1d_model/20220717-021215\n",
            "Epoch 1/5\n",
            "215/215 [==============================] - 3s 6ms/step - loss: 0.5652 - accuracy: 0.7141 - val_loss: 0.4733 - val_accuracy: 0.7795\n",
            "Epoch 2/5\n",
            "215/215 [==============================] - 1s 5ms/step - loss: 0.3380 - accuracy: 0.8615 - val_loss: 0.4758 - val_accuracy: 0.7730\n",
            "Epoch 3/5\n",
            "215/215 [==============================] - 1s 5ms/step - loss: 0.2070 - accuracy: 0.9234 - val_loss: 0.5457 - val_accuracy: 0.7730\n",
            "Epoch 4/5\n",
            "215/215 [==============================] - 1s 5ms/step - loss: 0.1314 - accuracy: 0.9578 - val_loss: 0.6163 - val_accuracy: 0.7730\n",
            "Epoch 5/5\n",
            "215/215 [==============================] - 1s 5ms/step - loss: 0.0933 - accuracy: 0.9691 - val_loss: 0.6779 - val_accuracy: 0.7782\n"
          ]
        }
      ]
    },
    {
      "cell_type": "code",
      "source": [
        "# Make predictions\n",
        "model_5_preds_probs = model_5.predict(val_sentences)\n",
        "model_5_preds_probs.shape, model_5_preds_probs[:10] # result prediction probability"
      ],
      "metadata": {
        "id": "TLy_zNdneFRK",
        "colab": {
          "base_uri": "https://localhost:8080/"
        },
        "outputId": "ffe756cd-ff83-47df-c98d-ba808778cc72"
      },
      "execution_count": null,
      "outputs": [
        {
          "output_type": "execute_result",
          "data": {
            "text/plain": [
              "((762, 1), array([[0.22534493],\n",
              "        [0.7534112 ],\n",
              "        [0.9995602 ],\n",
              "        [0.05562789],\n",
              "        [0.01449848],\n",
              "        [0.9858518 ],\n",
              "        [0.98418933],\n",
              "        [0.99758804],\n",
              "        [0.99862623],\n",
              "        [0.26914376]], dtype=float32))"
            ]
          },
          "metadata": {},
          "execution_count": 71
        }
      ]
    },
    {
      "cell_type": "code",
      "source": [
        "# Convert prediction probability to prediction class\n",
        "model_5_preds = tf.squeeze(tf.round(model_5_preds_probs)) # tf.squeeze removes single dimension\n",
        "model_5_preds[:10]"
      ],
      "metadata": {
        "id": "eBH7AcLqe_Pl",
        "colab": {
          "base_uri": "https://localhost:8080/"
        },
        "outputId": "2e26d9fb-de2d-4d6c-bcdf-354bbd06dcff"
      },
      "execution_count": null,
      "outputs": [
        {
          "output_type": "execute_result",
          "data": {
            "text/plain": [
              "<tf.Tensor: shape=(10,), dtype=float32, numpy=array([0., 1., 1., 0., 0., 1., 1., 1., 1., 0.], dtype=float32)>"
            ]
          },
          "metadata": {},
          "execution_count": 72
        }
      ]
    },
    {
      "cell_type": "code",
      "source": [
        "# Model Evaluation\n",
        "model_5_evaluation = evaluate_prediction(y_true=val_labels, \n",
        "                              y_pred=model_5_preds)\n",
        "\n",
        "model_5_evaluation"
      ],
      "metadata": {
        "id": "R0OnojNifGC8",
        "colab": {
          "base_uri": "https://localhost:8080/"
        },
        "outputId": "6383cbf8-70c0-45bc-dc2a-f8c383336d34"
      },
      "execution_count": null,
      "outputs": [
        {
          "output_type": "execute_result",
          "data": {
            "text/plain": [
              "{'accuracy': 77.82152230971128,\n",
              " 'f1': 0.7758810170952618,\n",
              " 'precision': 0.7807522349051432,\n",
              " 'recall': 0.7782152230971129}"
            ]
          },
          "metadata": {},
          "execution_count": 73
        }
      ]
    },
    {
      "cell_type": "code",
      "source": [
        "# Compare model_5 to model_0 (baseline)\n",
        "compare_baseline_to_new_model(baseline_evaluation=model_0_evaluation,\n",
        "                              new_model_evaluation=model_5_evaluation)"
      ],
      "metadata": {
        "id": "Q4a-p_HTfHUL",
        "colab": {
          "base_uri": "https://localhost:8080/"
        },
        "outputId": "03efe385-004f-40c6-9374-688126d2df65"
      },
      "execution_count": null,
      "outputs": [
        {
          "output_type": "stream",
          "name": "stdout",
          "text": [
            "Baseline accuracy: 79.27, New_model accuracy: 77.82, Difference: -1.44\n",
            "Baseline precision: 0.81, New_model precision: 0.78, Difference: -0.03\n",
            "Baseline recall: 0.79, New_model recall: 0.78, Difference: -0.01\n",
            "Baseline f1: 0.79, New_model f1: 0.78, Difference: -0.01\n"
          ]
        }
      ]
    },
    {
      "cell_type": "markdown",
      "source": [
        "## **Model 6 : TF Hub Universal Sentence Encoder (USE) Model**\n",
        "\n",
        "**Modeling Setup:**\n",
        "1. Use **pretrained embedding layer** - Leverage pretrained embeddings through transfer learning **[Universal Sentence Encoder](https://tfhub.dev/google/universal-sentence-encoder/4)** from TensorFlow Hub.\n",
        "2. USE creates sentence-level embedding, with 512 dimensional vector for each sentence.\n",
        "\n"
      ],
      "metadata": {
        "id": "sbYAjOkojd9l"
      }
    },
    {
      "cell_type": "code",
      "source": [
        "# Create Tensorboard Callback \n",
        "from functions import create_tensorboard_callback\n",
        "\n",
        "checkpoint_path = \"use_model_checkpoints\" \n",
        "model_checkpoint = tf.keras.callbacks.ModelCheckpoint(checkpoint_path,\n",
        "                                                      monitor=\"val_acc\",\n",
        "                                                      save_best_only=True,\n",
        "                                                      save_weights_only=True,\n",
        "                                                      verbose=0)"
      ],
      "metadata": {
        "id": "z9kGmYPfNhzT"
      },
      "execution_count": null,
      "outputs": []
    },
    {
      "cell_type": "code",
      "source": [
        "# Try embedding on sample sentence\n",
        "import tensorflow_hub as hub\n",
        "embed = hub.load(\"https://tfhub.dev/google/universal-sentence-encoder/4\")\n",
        "embedded_sample = embed([\"Leverage pretrained embeddings through transfer learning Universal Sentence Encoder from TensorFlow Hub\"])\n",
        "\n",
        "embedded_sample.shape, embedded_sample[0][:50]"
      ],
      "metadata": {
        "colab": {
          "base_uri": "https://localhost:8080/"
        },
        "id": "lBD1ffg_0MVd",
        "outputId": "7c6db667-d712-40e7-aa1a-6b6cd178ffd3"
      },
      "execution_count": null,
      "outputs": [
        {
          "output_type": "execute_result",
          "data": {
            "text/plain": [
              "(TensorShape([1, 512]), <tf.Tensor: shape=(50,), dtype=float32, numpy=\n",
              " array([ 0.05183939, -0.05630863, -0.05098361, -0.05038035, -0.0333874 ,\n",
              "        -0.03652784, -0.06668501,  0.00393423,  0.04186932,  0.07515606,\n",
              "        -0.06331664,  0.00167252, -0.03469058,  0.0166088 ,  0.0223103 ,\n",
              "         0.07729687,  0.01231526, -0.0766845 , -0.02100839,  0.00406426,\n",
              "        -0.06208332,  0.01743289,  0.05428905,  0.06555093, -0.03291016,\n",
              "         0.07515696, -0.00673543,  0.02754039, -0.03062279,  0.06635933,\n",
              "        -0.00116341, -0.0071486 , -0.04512313, -0.03236174, -0.05880126,\n",
              "        -0.02919874, -0.02099698,  0.0644082 , -0.01964104,  0.04266381,\n",
              "         0.00758912,  0.06071785, -0.02042151, -0.04102063,  0.05751958,\n",
              "         0.00718579,  0.01312581, -0.0400274 , -0.00173667,  0.0601721 ],\n",
              "       dtype=float32)>)"
            ]
          },
          "metadata": {},
          "execution_count": 76
        }
      ]
    },
    {
      "cell_type": "code",
      "source": [
        "# Create encoder layer (text vectorization and embedding)\n",
        "sentence_encoder_layer = hub.KerasLayer(\"https://tfhub.dev/google/universal-sentence-encoder/4\",\n",
        "                                        input_shape=[],\n",
        "                                        dtype=tf.string,\n",
        "                                        trainable=False,\n",
        "                                        name=\"USE\")"
      ],
      "metadata": {
        "id": "ycaFixiI1iyN"
      },
      "execution_count": null,
      "outputs": []
    },
    {
      "cell_type": "code",
      "source": [
        "# Create model using sequential API\n",
        "model_6 = tf.keras.Sequential([\n",
        "              sentence_encoder_layer,\n",
        "              layers.Dense(64, activation=\"relu\"),\n",
        "              layers.Dense(1, activation=\"sigmoid\")\n",
        "], name=\"model_5_USE\")\n",
        "\n",
        "# Compile the model\n",
        "model_6.compile(loss=\"binary_crossentropy\",\n",
        "                optimizer=tf.keras.optimizers.Adam(),\n",
        "                metrics=[\"accuracy\"])"
      ],
      "metadata": {
        "id": "6QbaOP_E2PIZ"
      },
      "execution_count": null,
      "outputs": []
    },
    {
      "cell_type": "code",
      "source": [
        "# Check model summary\n",
        "model_6.summary()"
      ],
      "metadata": {
        "id": "mOUdvbuakjo1",
        "colab": {
          "base_uri": "https://localhost:8080/"
        },
        "outputId": "f8de408c-bbaf-4e32-d19e-58607acf79cf"
      },
      "execution_count": null,
      "outputs": [
        {
          "output_type": "stream",
          "name": "stdout",
          "text": [
            "Model: \"model_5_USE\"\n",
            "_________________________________________________________________\n",
            " Layer (type)                Output Shape              Param #   \n",
            "=================================================================\n",
            " USE (KerasLayer)            (None, 512)               256797824 \n",
            "                                                                 \n",
            " dense_5 (Dense)             (None, 64)                32832     \n",
            "                                                                 \n",
            " dense_6 (Dense)             (None, 1)                 65        \n",
            "                                                                 \n",
            "=================================================================\n",
            "Total params: 256,830,721\n",
            "Trainable params: 32,897\n",
            "Non-trainable params: 256,797,824\n",
            "_________________________________________________________________\n"
          ]
        }
      ]
    },
    {
      "cell_type": "code",
      "source": [
        "# Fit the model\n",
        "history_model_6 = model_6.fit(train_sentences,\n",
        "                              train_labels,\n",
        "                              epochs=5,\n",
        "                              validation_data=(val_sentences, val_labels),\n",
        "                              callbacks=[create_tensorboard_callback(\"model_logs\",\n",
        "                                                                     \"transfer_learning_use_model\")])"
      ],
      "metadata": {
        "id": "t4qqS9yoijO7",
        "colab": {
          "base_uri": "https://localhost:8080/"
        },
        "outputId": "c5ef4c3d-1778-407e-e63a-6061cd4b4939"
      },
      "execution_count": null,
      "outputs": [
        {
          "output_type": "stream",
          "name": "stdout",
          "text": [
            "Saving Tensorboard log files to model_logs/transfer_learning_use_model/20220717-021242\n",
            "Epoch 1/5\n",
            "215/215 [==============================] - 5s 13ms/step - loss: 0.5008 - accuracy: 0.7892 - val_loss: 0.4478 - val_accuracy: 0.7966\n",
            "Epoch 2/5\n",
            "215/215 [==============================] - 2s 11ms/step - loss: 0.4144 - accuracy: 0.8133 - val_loss: 0.4369 - val_accuracy: 0.8058\n",
            "Epoch 3/5\n",
            "215/215 [==============================] - 2s 11ms/step - loss: 0.3998 - accuracy: 0.8212 - val_loss: 0.4329 - val_accuracy: 0.8110\n",
            "Epoch 4/5\n",
            "215/215 [==============================] - 2s 11ms/step - loss: 0.3925 - accuracy: 0.8266 - val_loss: 0.4288 - val_accuracy: 0.8110\n",
            "Epoch 5/5\n",
            "215/215 [==============================] - 2s 12ms/step - loss: 0.3860 - accuracy: 0.8276 - val_loss: 0.4309 - val_accuracy: 0.8123\n"
          ]
        }
      ]
    },
    {
      "cell_type": "code",
      "source": [
        "# Make predictions\n",
        "model_6_preds_probs = model_6.predict(val_sentences)\n",
        "model_6_preds_probs.shape, model_6_preds_probs[:10] # result prediction probability"
      ],
      "metadata": {
        "id": "IX1Z9RSUeFLF",
        "colab": {
          "base_uri": "https://localhost:8080/"
        },
        "outputId": "958c5a8f-d29a-48a9-f823-00d5749ede13"
      },
      "execution_count": null,
      "outputs": [
        {
          "output_type": "execute_result",
          "data": {
            "text/plain": [
              "((762, 1), array([[0.14443198],\n",
              "        [0.72715044],\n",
              "        [0.9856655 ],\n",
              "        [0.19740932],\n",
              "        [0.7341703 ],\n",
              "        [0.6859662 ],\n",
              "        [0.9808888 ],\n",
              "        [0.97411025],\n",
              "        [0.9157322 ],\n",
              "        [0.08070081]], dtype=float32))"
            ]
          },
          "metadata": {},
          "execution_count": 81
        }
      ]
    },
    {
      "cell_type": "code",
      "source": [
        "# Convert prediction probability to prediction class\n",
        "model_6_preds = tf.squeeze(tf.round(model_6_preds_probs)) # tf.squeeze removes single dimension\n",
        "model_6_preds[:10]"
      ],
      "metadata": {
        "id": "KzyZdu8teFIQ",
        "colab": {
          "base_uri": "https://localhost:8080/"
        },
        "outputId": "3abecfce-8e02-4421-a31a-6c066570c9fe"
      },
      "execution_count": null,
      "outputs": [
        {
          "output_type": "execute_result",
          "data": {
            "text/plain": [
              "<tf.Tensor: shape=(10,), dtype=float32, numpy=array([0., 1., 1., 0., 1., 1., 1., 1., 1., 0.], dtype=float32)>"
            ]
          },
          "metadata": {},
          "execution_count": 82
        }
      ]
    },
    {
      "cell_type": "code",
      "source": [
        "# Model Evaluation\n",
        "model_6_evaluation = evaluate_prediction(y_true=val_labels, \n",
        "                              y_pred=model_6_preds)\n",
        "\n",
        "model_6_evaluation"
      ],
      "metadata": {
        "id": "soowFyvWeFFW",
        "colab": {
          "base_uri": "https://localhost:8080/"
        },
        "outputId": "b233df73-4382-47fe-8bc0-ee4494904860"
      },
      "execution_count": null,
      "outputs": [
        {
          "output_type": "execute_result",
          "data": {
            "text/plain": [
              "{'accuracy': 81.23359580052494,\n",
              " 'f1': 0.810686575717776,\n",
              " 'precision': 0.8148798668657973,\n",
              " 'recall': 0.8123359580052494}"
            ]
          },
          "metadata": {},
          "execution_count": 83
        }
      ]
    },
    {
      "cell_type": "code",
      "source": [
        "# Compare model_6 to model_0 (baseline)\n",
        "compare_baseline_to_new_model(baseline_evaluation=model_0_evaluation,\n",
        "                              new_model_evaluation=model_6_evaluation)"
      ],
      "metadata": {
        "id": "WG8K5efnfKaG",
        "colab": {
          "base_uri": "https://localhost:8080/"
        },
        "outputId": "6a16eeac-8343-429f-9ded-efe092cf3afd"
      },
      "execution_count": null,
      "outputs": [
        {
          "output_type": "stream",
          "name": "stdout",
          "text": [
            "Baseline accuracy: 79.27, New_model accuracy: 81.23, Difference: 1.97\n",
            "Baseline precision: 0.81, New_model precision: 0.81, Difference: 0.00\n",
            "Baseline recall: 0.79, New_model recall: 0.81, Difference: 0.02\n",
            "Baseline f1: 0.79, New_model f1: 0.81, Difference: 0.02\n"
          ]
        }
      ]
    },
    {
      "cell_type": "markdown",
      "source": [
        "## **Model 6 (a) : Fine Tuning TF Hub USE Model**"
      ],
      "metadata": {
        "id": "KH47eawaBTs0"
      }
    },
    {
      "cell_type": "code",
      "source": [
        "# Create Tensorboard Callback \n",
        "from functions import create_tensorboard_callback\n",
        "\n",
        "checkpoint_path = \"fine_tuned_use_model_checkpoints\" \n",
        "model_checkpoint = tf.keras.callbacks.ModelCheckpoint(checkpoint_path,\n",
        "                                                      monitor=\"val_acc\",\n",
        "                                                      save_best_only=True,\n",
        "                                                      save_weights_only=True,\n",
        "                                                      verbose=0)"
      ],
      "metadata": {
        "id": "FT7hX7aZOOIz"
      },
      "execution_count": null,
      "outputs": []
    },
    {
      "cell_type": "code",
      "source": [
        "# Create EarlyStopping Callback\n",
        "## This callback stops training when a monitored metric has stopped improving.\n",
        "\n",
        "early_stopping = tf.keras.callbacks.EarlyStopping(monitor=\"val_loss\",\n",
        "                                                  patience=5) # if val_loss increases for 3 epochs, then training will be stopped"
      ],
      "metadata": {
        "id": "zDX_o09zP21f"
      },
      "execution_count": null,
      "outputs": []
    },
    {
      "cell_type": "code",
      "source": [
        "# Create learning rate reduction callback\n",
        "reduce_lr = tf.keras.callbacks.ReduceLROnPlateau(monitor=\"val_loss\",\n",
        "                                                 factor=0.2,\n",
        "                                                 patience=3,\n",
        "                                                 verbose=1,\n",
        "                                                 min_lr=1e-7)"
      ],
      "metadata": {
        "id": "kKVcf7_1RciS"
      },
      "execution_count": null,
      "outputs": []
    },
    {
      "cell_type": "code",
      "source": [
        "# Create encoder layer (text vectorization and embedding)\n",
        "sentence_encoder_layer = hub.KerasLayer(\"https://tfhub.dev/google/universal-sentence-encoder/4\",\n",
        "                                        input_shape=[],\n",
        "                                        dtype=tf.string,\n",
        "                                        trainable=True,\n",
        "                                        name=\"USE\")"
      ],
      "metadata": {
        "id": "Yi3VBX0bPr6r"
      },
      "execution_count": null,
      "outputs": []
    },
    {
      "cell_type": "code",
      "source": [
        "# Re-Compile model_6\n",
        "model_6.compile(loss=\"binary_crossentropy\",\n",
        "                optimizer=tf.keras.optimizers.Adam(learning_rate=0.0001),\n",
        "                metrics=[\"accuracy\"])"
      ],
      "metadata": {
        "id": "bvmn0GRlQdqn"
      },
      "execution_count": null,
      "outputs": []
    },
    {
      "cell_type": "code",
      "source": [
        "# Re-Fit the model\n",
        "history_model_6_fine_tuned = model_6.fit(train_sentences,\n",
        "                              train_labels,\n",
        "                              epochs=100,\n",
        "                              validation_data=(val_sentences, val_labels),\n",
        "                              callbacks=[create_tensorboard_callback(\"model_logs\",\n",
        "                                                                     \"fine_tuned_transfer_learning_use_model\"),\n",
        "                                         early_stopping,\n",
        "                                         reduce_lr])"
      ],
      "metadata": {
        "id": "hSgK4ISoRP9P",
        "colab": {
          "base_uri": "https://localhost:8080/"
        },
        "outputId": "82f1e719-93df-405b-fb80-ad1b747debfe"
      },
      "execution_count": null,
      "outputs": [
        {
          "output_type": "stream",
          "name": "stdout",
          "text": [
            "Saving Tensorboard log files to model_logs/fine_tuned_transfer_learning_use_model/20220717-021309\n",
            "Epoch 1/100\n",
            "215/215 [==============================] - 4s 13ms/step - loss: 0.3722 - accuracy: 0.8374 - val_loss: 0.4280 - val_accuracy: 0.8123 - lr: 1.0000e-04\n",
            "Epoch 2/100\n",
            "215/215 [==============================] - 2s 11ms/step - loss: 0.3709 - accuracy: 0.8378 - val_loss: 0.4272 - val_accuracy: 0.8150 - lr: 1.0000e-04\n",
            "Epoch 3/100\n",
            "215/215 [==============================] - 2s 12ms/step - loss: 0.3701 - accuracy: 0.8374 - val_loss: 0.4274 - val_accuracy: 0.8150 - lr: 1.0000e-04\n",
            "Epoch 4/100\n",
            "215/215 [==============================] - 2s 11ms/step - loss: 0.3693 - accuracy: 0.8383 - val_loss: 0.4275 - val_accuracy: 0.8163 - lr: 1.0000e-04\n",
            "Epoch 5/100\n",
            "214/215 [============================>.] - ETA: 0s - loss: 0.3686 - accuracy: 0.8379\n",
            "Epoch 5: ReduceLROnPlateau reducing learning rate to 1.9999999494757503e-05.\n",
            "215/215 [==============================] - 2s 11ms/step - loss: 0.3686 - accuracy: 0.8380 - val_loss: 0.4281 - val_accuracy: 0.8176 - lr: 1.0000e-04\n",
            "Epoch 6/100\n",
            "215/215 [==============================] - 2s 11ms/step - loss: 0.3672 - accuracy: 0.8402 - val_loss: 0.4277 - val_accuracy: 0.8189 - lr: 2.0000e-05\n",
            "Epoch 7/100\n",
            "215/215 [==============================] - 3s 16ms/step - loss: 0.3670 - accuracy: 0.8402 - val_loss: 0.4276 - val_accuracy: 0.8189 - lr: 2.0000e-05\n"
          ]
        }
      ]
    },
    {
      "cell_type": "code",
      "source": [
        "# Make predictions\n",
        "model_6_fine_tuned_preds_probs = model_6.predict(val_sentences)\n",
        "model_6_fine_tuned_preds_probs.shape, model_6_fine_tuned_preds_probs[:10] # result prediction probability"
      ],
      "metadata": {
        "id": "h0lwSsVWSYfR",
        "colab": {
          "base_uri": "https://localhost:8080/"
        },
        "outputId": "9f18cf7e-c385-4b5d-bcee-d834b6d0a45a"
      },
      "execution_count": null,
      "outputs": [
        {
          "output_type": "execute_result",
          "data": {
            "text/plain": [
              "((762, 1), array([[0.15805504],\n",
              "        [0.7748591 ],\n",
              "        [0.9902291 ],\n",
              "        [0.2002298 ],\n",
              "        [0.74567914],\n",
              "        [0.7375521 ],\n",
              "        [0.985321  ],\n",
              "        [0.9805116 ],\n",
              "        [0.9398242 ],\n",
              "        [0.08052875]], dtype=float32))"
            ]
          },
          "metadata": {},
          "execution_count": 91
        }
      ]
    },
    {
      "cell_type": "code",
      "source": [
        "# Convert prediction probability to prediction class\n",
        "model_6_fine_tuned_preds = tf.squeeze(tf.round(model_6_fine_tuned_preds_probs)) # tf.squeeze removes single dimension\n",
        "model_6_fine_tuned_preds[:10]"
      ],
      "metadata": {
        "id": "CcxWjGDiSzZ9",
        "colab": {
          "base_uri": "https://localhost:8080/"
        },
        "outputId": "422018c2-ff61-4b3a-b91e-2113e5d1a6c8"
      },
      "execution_count": null,
      "outputs": [
        {
          "output_type": "execute_result",
          "data": {
            "text/plain": [
              "<tf.Tensor: shape=(10,), dtype=float32, numpy=array([0., 1., 1., 0., 1., 1., 1., 1., 1., 0.], dtype=float32)>"
            ]
          },
          "metadata": {},
          "execution_count": 92
        }
      ]
    },
    {
      "cell_type": "code",
      "source": [
        "# Model Evaluation\n",
        "model_6_fine_tuned_evaluation = evaluate_prediction(y_true=val_labels, \n",
        "                              y_pred=model_6_fine_tuned_preds)\n",
        "\n",
        "model_6_fine_tuned_evaluation"
      ],
      "metadata": {
        "id": "R7NXO0Z7SzT4",
        "colab": {
          "base_uri": "https://localhost:8080/"
        },
        "outputId": "de513b3c-c333-4920-d29f-765393f8af31"
      },
      "execution_count": null,
      "outputs": [
        {
          "output_type": "execute_result",
          "data": {
            "text/plain": [
              "{'accuracy': 81.88976377952756,\n",
              " 'f1': 0.8176416157404923,\n",
              " 'precision': 0.8205632517459724,\n",
              " 'recall': 0.8188976377952756}"
            ]
          },
          "metadata": {},
          "execution_count": 93
        }
      ]
    },
    {
      "cell_type": "code",
      "source": [
        "# Compare performance model before and after fine tuning\n",
        "from functions import compare_historys\n",
        "compare_historys(original_history=history_model_6,\n",
        "                 new_history=history_model_6_fine_tuned,\n",
        "                 initial_epochs=5)"
      ],
      "metadata": {
        "id": "G2jarLJHSzP-",
        "colab": {
          "base_uri": "https://localhost:8080/",
          "height": 513
        },
        "outputId": "f9babe04-d9e0-476d-cf08-c12155bf1268"
      },
      "execution_count": null,
      "outputs": [
        {
          "output_type": "display_data",
          "data": {
            "text/plain": [
              "<Figure size 576x576 with 2 Axes>"
            ],
            "image/png": "[encoded data removed]"
          },
          "metadata": {
            "needs_background": "light"
          }
        }
      ]
    },
    {
      "cell_type": "markdown",
      "source": [
        "## **Model 7 : Tensorflow Hub Pretrained Feature Extractor with 10% of training set**"
      ],
      "metadata": {
        "id": "nZ4AJ2GdjXkf"
      }
    },
    {
      "cell_type": "code",
      "source": [
        "# Create Tensorboard Callback \n",
        "from functions import create_tensorboard_callback\n",
        "\n",
        "checkpoint_path = \"10%_use_model_checkpoints\" \n",
        "model_checkpoint = tf.keras.callbacks.ModelCheckpoint(checkpoint_path,\n",
        "                                                      monitor=\"val_acc\",\n",
        "                                                      save_best_only=True,\n",
        "                                                      save_weights_only=True,\n",
        "                                                      verbose=0)"
      ],
      "metadata": {
        "id": "xqxlOe3bPBta"
      },
      "execution_count": null,
      "outputs": []
    },
    {
      "cell_type": "code",
      "source": [
        "# Create subset of 10% training set \n",
        "train_sentences_90_percent, train_sentences_10_percent, train_labels_90_percent, train_labels_10_percent = train_test_split(np.array(train_sentences),\n",
        "                                                                                                                            train_labels,\n",
        "                                                                                                                            test_size=0.1,\n",
        "                                                                                                                            random_state=42)"
      ],
      "metadata": {
        "id": "VV1bPg5S4SOX"
      },
      "execution_count": null,
      "outputs": []
    },
    {
      "cell_type": "code",
      "source": [
        "# Check number of samples in 10% traning set \n",
        "print(f\"Total training samples: {len(train_sentences)}\")\n",
        "print(f\"Total subset samples: {len(train_sentences_10_percent)}\")"
      ],
      "metadata": {
        "colab": {
          "base_uri": "https://localhost:8080/"
        },
        "id": "IsdxJQZN5ESe",
        "outputId": "b013c57d-bf1c-4abb-a067-a8b0f6d54940"
      },
      "execution_count": null,
      "outputs": [
        {
          "output_type": "stream",
          "name": "stdout",
          "text": [
            "Total training samples: 6851\n",
            "Total subset samples: 686\n"
          ]
        }
      ]
    },
    {
      "cell_type": "code",
      "source": [
        "# Check the distribution of label/class in subset data (10% training set)\n",
        "pd.Series(train_labels_10_percent).value_counts()"
      ],
      "metadata": {
        "colab": {
          "base_uri": "https://localhost:8080/"
        },
        "id": "s-k14QJS5yQx",
        "outputId": "6b36b788-9948-45f5-bef0-0d4f3958cbb9"
      },
      "execution_count": null,
      "outputs": [
        {
          "output_type": "execute_result",
          "data": {
            "text/plain": [
              "0    415\n",
              "1    271\n",
              "Name: target, dtype: int64"
            ]
          },
          "metadata": {},
          "execution_count": 98
        }
      ]
    },
    {
      "cell_type": "code",
      "source": [
        "# Check the distribution of label/class in training set\n",
        "pd.Series(train_labels).value_counts()"
      ],
      "metadata": {
        "colab": {
          "base_uri": "https://localhost:8080/"
        },
        "id": "Z2acD-iA6MC1",
        "outputId": "1300f9ca-ab4f-4260-fe04-6d35a0f02e54"
      },
      "execution_count": null,
      "outputs": [
        {
          "output_type": "execute_result",
          "data": {
            "text/plain": [
              "0    3928\n",
              "1    2923\n",
              "Name: target, dtype: int64"
            ]
          },
          "metadata": {},
          "execution_count": 99
        }
      ]
    },
    {
      "cell_type": "code",
      "source": [
        "# Create model_7 by clonning model_6 architecture\n",
        "model_7 = tf.keras.models.clone_model(model_6)\n",
        "\n",
        "# Compile the model\n",
        "model_7.compile(loss=\"binary_crossentropy\",\n",
        "                optimizer=tf.keras.optimizers.Adam(),\n",
        "                metrics=[\"accuracy\"])"
      ],
      "metadata": {
        "id": "RuXxmxnq6WFh"
      },
      "execution_count": null,
      "outputs": []
    },
    {
      "cell_type": "code",
      "source": [
        "# Check model summary\n",
        "model_7.summary()"
      ],
      "metadata": {
        "id": "mO0hO7rRkhyH",
        "colab": {
          "base_uri": "https://localhost:8080/"
        },
        "outputId": "90aedba2-6775-4278-d526-d93ddeb8359e"
      },
      "execution_count": null,
      "outputs": [
        {
          "output_type": "stream",
          "name": "stdout",
          "text": [
            "Model: \"model_5_USE\"\n",
            "_________________________________________________________________\n",
            " Layer (type)                Output Shape              Param #   \n",
            "=================================================================\n",
            " USE (KerasLayer)            (None, 512)               256797824 \n",
            "                                                                 \n",
            " dense_5 (Dense)             (None, 64)                32832     \n",
            "                                                                 \n",
            " dense_6 (Dense)             (None, 1)                 65        \n",
            "                                                                 \n",
            "=================================================================\n",
            "Total params: 256,830,721\n",
            "Trainable params: 32,897\n",
            "Non-trainable params: 256,797,824\n",
            "_________________________________________________________________\n"
          ]
        }
      ]
    },
    {
      "cell_type": "code",
      "source": [
        "# Fit the model\n",
        "history_model_7 = model_7.fit(train_sentences_10_percent,\n",
        "                              train_labels_10_percent,\n",
        "                              epochs=5,\n",
        "                              validation_data=(val_sentences, val_labels),\n",
        "                              callbacks=[create_tensorboard_callback(\"model_logs\",\n",
        "                                                                     \"10%_transfer_learning_use_model\")])"
      ],
      "metadata": {
        "id": "e8nBIp84ig6h",
        "colab": {
          "base_uri": "https://localhost:8080/"
        },
        "outputId": "5ba555ad-3292-4844-a8ca-9340c98ad1ab"
      },
      "execution_count": null,
      "outputs": [
        {
          "output_type": "stream",
          "name": "stdout",
          "text": [
            "Saving Tensorboard log files to model_logs/10%_transfer_learning_use_model/20220717-021337\n",
            "Epoch 1/5\n",
            "22/22 [==============================] - 8s 104ms/step - loss: 0.6716 - accuracy: 0.6574 - val_loss: 0.6526 - val_accuracy: 0.6903\n",
            "Epoch 2/5\n",
            "22/22 [==============================] - 1s 52ms/step - loss: 0.5972 - accuracy: 0.8032 - val_loss: 0.5944 - val_accuracy: 0.7362\n",
            "Epoch 3/5\n",
            "22/22 [==============================] - 1s 51ms/step - loss: 0.5178 - accuracy: 0.8149 - val_loss: 0.5398 - val_accuracy: 0.7625\n",
            "Epoch 4/5\n",
            "22/22 [==============================] - 1s 41ms/step - loss: 0.4526 - accuracy: 0.8265 - val_loss: 0.5084 - val_accuracy: 0.7677\n",
            "Epoch 5/5\n",
            "22/22 [==============================] - 1s 51ms/step - loss: 0.4094 - accuracy: 0.8382 - val_loss: 0.4915 - val_accuracy: 0.7703\n"
          ]
        }
      ]
    },
    {
      "cell_type": "code",
      "source": [
        "# Make predictions\n",
        "model_7_preds_probs = model_7.predict(val_sentences)\n",
        "model_7_preds_probs.shape, model_7_preds_probs[:10] # result prediction probability"
      ],
      "metadata": {
        "id": "7B7ijn0keFN-",
        "colab": {
          "base_uri": "https://localhost:8080/"
        },
        "outputId": "c89ba349-792f-42bf-dd27-17205508519e"
      },
      "execution_count": null,
      "outputs": [
        {
          "output_type": "execute_result",
          "data": {
            "text/plain": [
              "((762, 1), array([[0.24043238],\n",
              "        [0.7683785 ],\n",
              "        [0.90137184],\n",
              "        [0.29067948],\n",
              "        [0.5714999 ],\n",
              "        [0.83565134],\n",
              "        [0.8062944 ],\n",
              "        [0.83358175],\n",
              "        [0.8554568 ],\n",
              "        [0.11749922]], dtype=float32))"
            ]
          },
          "metadata": {},
          "execution_count": 103
        }
      ]
    },
    {
      "cell_type": "code",
      "source": [
        "# Convert prediction probability to prediction class\n",
        "model_7_preds = tf.squeeze(tf.round(model_7_preds_probs)) # tf.squeeze removes single dimension\n",
        "model_7_preds[:10]"
      ],
      "metadata": {
        "id": "lEOSwYOWfAIJ",
        "colab": {
          "base_uri": "https://localhost:8080/"
        },
        "outputId": "90da57e7-d9f2-483e-d18f-34bd7b68682c"
      },
      "execution_count": null,
      "outputs": [
        {
          "output_type": "execute_result",
          "data": {
            "text/plain": [
              "<tf.Tensor: shape=(10,), dtype=float32, numpy=array([0., 1., 1., 0., 1., 1., 1., 1., 1., 0.], dtype=float32)>"
            ]
          },
          "metadata": {},
          "execution_count": 104
        }
      ]
    },
    {
      "cell_type": "code",
      "source": [
        "# Model Evaluation\n",
        "model_7_evaluation = evaluate_prediction(y_true=val_labels, \n",
        "                              y_pred=model_7_preds)\n",
        "\n",
        "model_7_evaluation"
      ],
      "metadata": {
        "id": "fP33fmbhfH9P",
        "colab": {
          "base_uri": "https://localhost:8080/"
        },
        "outputId": "e72eaaf4-5c36-4cc0-c646-046a3dbd7aec"
      },
      "execution_count": null,
      "outputs": [
        {
          "output_type": "execute_result",
          "data": {
            "text/plain": [
              "{'accuracy': 77.03412073490814,\n",
              " 'f1': 0.7667059443150692,\n",
              " 'precision': 0.7755630249535594,\n",
              " 'recall': 0.7703412073490814}"
            ]
          },
          "metadata": {},
          "execution_count": 105
        }
      ]
    },
    {
      "cell_type": "code",
      "source": [
        "# Compare model_7 to model_0 (baseline)\n",
        "compare_baseline_to_new_model(baseline_evaluation=model_0_evaluation,\n",
        "                              new_model_evaluation=model_7_evaluation)"
      ],
      "metadata": {
        "id": "v7G3_T3-fH3v",
        "colab": {
          "base_uri": "https://localhost:8080/"
        },
        "outputId": "4c390fd9-6983-421a-e925-a91c96f1ece3"
      },
      "execution_count": null,
      "outputs": [
        {
          "output_type": "stream",
          "name": "stdout",
          "text": [
            "Baseline accuracy: 79.27, New_model accuracy: 77.03, Difference: -2.23\n",
            "Baseline precision: 0.81, New_model precision: 0.78, Difference: -0.04\n",
            "Baseline recall: 0.79, New_model recall: 0.77, Difference: -0.02\n",
            "Baseline f1: 0.79, New_model f1: 0.77, Difference: -0.02\n"
          ]
        }
      ]
    },
    {
      "cell_type": "markdown",
      "source": [
        "## **Model 0 (a) : Naive Bayes with 10% training set**"
      ],
      "metadata": {
        "id": "bnJ1YGDLA28k"
      }
    },
    {
      "cell_type": "code",
      "source": [
        "from sklearn.feature_extraction.text import TfidfVectorizer\n",
        "from sklearn.naive_bayes import MultinomialNB\n",
        "from sklearn.pipeline import Pipeline\n",
        "\n",
        "model_0_a = Pipeline([(\"tfidf\", TfidfVectorizer()),\n",
        "                    (\"clf\", MultinomialNB())\n",
        "])\n",
        "\n",
        "# fit the pipeline to the training set\n",
        "model_0_a.fit(train_sentences_10_percent, train_labels_10_percent)"
      ],
      "metadata": {
        "colab": {
          "base_uri": "https://localhost:8080/"
        },
        "id": "tFZVgXBVCdWJ",
        "outputId": "f8b3cb1c-01b1-420d-e70d-9a264e281005"
      },
      "execution_count": null,
      "outputs": [
        {
          "output_type": "execute_result",
          "data": {
            "text/plain": [
              "Pipeline(steps=[('tfidf', TfidfVectorizer()), ('clf', MultinomialNB())])"
            ]
          },
          "metadata": {},
          "execution_count": 107
        }
      ]
    },
    {
      "cell_type": "code",
      "source": [
        "# Evaluate the model on validation set\n",
        "model_0_a_accuracy = model_0_a.score(val_sentences, val_labels)\n",
        "print(f\"Baseline model (a) achieves an accuracy of {model_0_a_accuracy*100:.2f}%\")"
      ],
      "metadata": {
        "colab": {
          "base_uri": "https://localhost:8080/"
        },
        "id": "pbxLu8bzDI3A",
        "outputId": "3d89cd68-e5d2-4016-c03b-9ff6fe8496c7"
      },
      "execution_count": null,
      "outputs": [
        {
          "output_type": "stream",
          "name": "stdout",
          "text": [
            "Baseline model (a) achieves an accuracy of 70.60%\n"
          ]
        }
      ]
    },
    {
      "cell_type": "code",
      "source": [
        "# Make predictions\n",
        "model_0_a_preds = model_0_a.predict(val_sentences)\n",
        "model_0_a_preds[:10]"
      ],
      "metadata": {
        "colab": {
          "base_uri": "https://localhost:8080/"
        },
        "id": "8jaP5Wh1Da5w",
        "outputId": "2bc55850-715f-49ad-80be-898bd27caa3f"
      },
      "execution_count": null,
      "outputs": [
        {
          "output_type": "execute_result",
          "data": {
            "text/plain": [
              "array([0, 0, 1, 0, 0, 1, 1, 1, 0, 0])"
            ]
          },
          "metadata": {},
          "execution_count": 109
        }
      ]
    },
    {
      "cell_type": "code",
      "source": [
        "# Model evaluation\n",
        "model_0_a_evaluation = evaluate_prediction(y_true=val_labels, \n",
        "                              y_pred=model_0_a_preds)\n",
        "\n",
        "model_0_a_evaluation"
      ],
      "metadata": {
        "colab": {
          "base_uri": "https://localhost:8080/"
        },
        "id": "Gu6ckro2DjCu",
        "outputId": "8da0eeec-aa02-4e84-b9ba-3946a1f26862"
      },
      "execution_count": null,
      "outputs": [
        {
          "output_type": "execute_result",
          "data": {
            "text/plain": [
              "{'accuracy': 70.60367454068242,\n",
              " 'f1': 0.6747604694140249,\n",
              " 'precision': 0.7777273287601192,\n",
              " 'recall': 0.7060367454068242}"
            ]
          },
          "metadata": {},
          "execution_count": 110
        }
      ]
    },
    {
      "cell_type": "code",
      "source": [
        "# Compare model_7 to model_0_a (baseline)\n",
        "compare_baseline_to_new_model(baseline_evaluation=model_0_a_evaluation,\n",
        "                              new_model_evaluation=model_7_evaluation)"
      ],
      "metadata": {
        "colab": {
          "base_uri": "https://localhost:8080/"
        },
        "id": "cPbusWuMDwwg",
        "outputId": "30d1c30f-b0e6-4c80-8815-143f19bfe745"
      },
      "execution_count": null,
      "outputs": [
        {
          "output_type": "stream",
          "name": "stdout",
          "text": [
            "Baseline accuracy: 70.60, New_model accuracy: 77.03, Difference: 6.43\n",
            "Baseline precision: 0.78, New_model precision: 0.78, Difference: -0.00\n",
            "Baseline recall: 0.71, New_model recall: 0.77, Difference: 0.06\n",
            "Baseline f1: 0.67, New_model f1: 0.77, Difference: 0.09\n"
          ]
        }
      ]
    },
    {
      "cell_type": "markdown",
      "source": [
        "## **Final Model :**"
      ],
      "metadata": {
        "id": "EUqDs-xjB6Gs"
      }
    },
    {
      "cell_type": "markdown",
      "source": [
        "### **Comparing Model Performances**"
      ],
      "metadata": {
        "id": "zrPlPVkhGfl9"
      }
    },
    {
      "cell_type": "code",
      "source": [
        "# Combine model evaluations into a dataframe\n",
        "model_evaluations = pd.DataFrame({\"baseline\": model_0_evaluation,\n",
        "                                  \"simple_dense\": model_1_evaluation,\n",
        "                                  \"LSTM\": model_2_evaluation,\n",
        "                                  \"GRU\":model_3_evaluation,\n",
        "                                  \"bidirectional\": model_4_evaluation,\n",
        "                                  \"1D-CNN\": model_5_evaluation,\n",
        "                                  \"tf_hub_USE\": model_6_evaluation,\n",
        "                                  \"tf_hub_USE_fine_tuned\": model_6_fine_tuned_evaluation}).T\n",
        "model_evaluations"
      ],
      "metadata": {
        "id": "VXXUCYy8DG7x",
        "colab": {
          "base_uri": "https://localhost:8080/",
          "height": 300
        },
        "outputId": "1695e16b-bcfc-4bac-f10d-bae1a82abee9"
      },
      "execution_count": null,
      "outputs": [
        {
          "output_type": "execute_result",
          "data": {
            "text/plain": [
              "                        accuracy  precision    recall        f1\n",
              "baseline               79.265092   0.811139  0.792651  0.786219\n",
              "simple_dense           78.740157   0.791492  0.787402  0.784697\n",
              "LSTM                   75.065617   0.751008  0.750656  0.748927\n",
              "GRU                    76.771654   0.767545  0.767717  0.766793\n",
              "bidirectional          76.640420   0.766590  0.766404  0.765121\n",
              "1D-CNN                 77.821522   0.780752  0.778215  0.775881\n",
              "tf_hub_USE             81.233596   0.814880  0.812336  0.810687\n",
              "tf_hub_USE_fine_tuned  81.889764   0.820563  0.818898  0.817642"
            ],
            "text/html": [
              "\n",
              "  <div id=\"df-0008cd3a-c254-4784-a2c8-25b2d1e168dd\">\n",
              "    <div class=\"colab-df-container\">\n",
              "      <div>\n",
              "<style scoped>\n",
              "    .dataframe tbody tr th:only-of-type {\n",
              "        vertical-align: middle;\n",
              "    }\n",
              "\n",
              "    .dataframe tbody tr th {\n",
              "        vertical-align: top;\n",
              "    }\n",
              "\n",
              "    .dataframe thead th {\n",
              "        text-align: right;\n",
              "    }\n",
              "</style>\n",
              "<table border=\"1\" class=\"dataframe\">\n",
              "  <thead>\n",
              "    <tr style=\"text-align: right;\">\n",
              "      <th></th>\n",
              "      <th>accuracy</th>\n",
              "      <th>precision</th>\n",
              "      <th>recall</th>\n",
              "      <th>f1</th>\n",
              "    </tr>\n",
              "  </thead>\n",
              "  <tbody>\n",
              "    <tr>\n",
              "      <th>baseline</th>\n",
              "      <td>79.265092</td>\n",
              "      <td>0.811139</td>\n",
              "      <td>0.792651</td>\n",
              "      <td>0.786219</td>\n",
              "    </tr>\n",
              "    <tr>\n",
              "      <th>simple_dense</th>\n",
              "      <td>78.740157</td>\n",
              "      <td>0.791492</td>\n",
              "      <td>0.787402</td>\n",
              "      <td>0.784697</td>\n",
              "    </tr>\n",
              "    <tr>\n",
              "      <th>LSTM</th>\n",
              "      <td>75.065617</td>\n",
              "      <td>0.751008</td>\n",
              "      <td>0.750656</td>\n",
              "      <td>0.748927</td>\n",
              "    </tr>\n",
              "    <tr>\n",
              "      <th>GRU</th>\n",
              "      <td>76.771654</td>\n",
              "      <td>0.767545</td>\n",
              "      <td>0.767717</td>\n",
              "      <td>0.766793</td>\n",
              "    </tr>\n",
              "    <tr>\n",
              "      <th>bidirectional</th>\n",
              "      <td>76.640420</td>\n",
              "      <td>0.766590</td>\n",
              "      <td>0.766404</td>\n",
              "      <td>0.765121</td>\n",
              "    </tr>\n",
              "    <tr>\n",
              "      <th>1D-CNN</th>\n",
              "      <td>77.821522</td>\n",
              "      <td>0.780752</td>\n",
              "      <td>0.778215</td>\n",
              "      <td>0.775881</td>\n",
              "    </tr>\n",
              "    <tr>\n",
              "      <th>tf_hub_USE</th>\n",
              "      <td>81.233596</td>\n",
              "      <td>0.814880</td>\n",
              "      <td>0.812336</td>\n",
              "      <td>0.810687</td>\n",
              "    </tr>\n",
              "    <tr>\n",
              "      <th>tf_hub_USE_fine_tuned</th>\n",
              "      <td>81.889764</td>\n",
              "      <td>0.820563</td>\n",
              "      <td>0.818898</td>\n",
              "      <td>0.817642</td>\n",
              "    </tr>\n",
              "  </tbody>\n",
              "</table>\n",
              "</div>\n",
              "      <button class=\"colab-df-convert\" onclick=\"convertToInteractive('df-0008cd3a-c254-4784-a2c8-25b2d1e168dd')\"\n",
              "              title=\"Convert this dataframe to an interactive table.\"\n",
              "              style=\"display:none;\">\n",
              "        \n",
              "  <svg xmlns=\"http://www.w3.org/2000/svg\" height=\"24px\"viewBox=\"0 0 24 24\"\n",
              "       width=\"24px\">\n",
              "    <path d=\"M0 0h24v24H0V0z\" fill=\"none\"/>\n",
              "    <path d=\"M18.56 5.44l.94 2.06.94-2.06 2.06-.94-2.06-.94-.94-2.06-.94 2.06-2.06.94zm-11 1L8.5 8.5l.94-2.06 2.06-.94-2.06-.94L8.5 2.5l-.94 2.06-2.06.94zm10 10l.94 2.06.94-2.06 2.06-.94-2.06-.94-.94-2.06-.94 2.06-2.06.94z\"/><path d=\"M17.41 7.96l-1.37-1.37c-.4-.4-.92-.59-1.43-.59-.52 0-1.04.2-1.43.59L10.3 9.45l-7.72 7.72c-.78.78-.78 2.05 0 2.83L4 21.41c.39.39.9.59 1.41.59.51 0 1.02-.2 1.41-.59l7.78-7.78 2.81-2.81c.8-.78.8-2.07 0-2.86zM5.41 20L4 18.59l7.72-7.72 1.47 1.35L5.41 20z\"/>\n",
              "  </svg>\n",
              "      </button>\n",
              "      \n",
              "  <style>\n",
              "    .colab-df-container {\n",
              "      display:flex;\n",
              "      flex-wrap:wrap;\n",
              "      gap: 12px;\n",
              "    }\n",
              "\n",
              "    .colab-df-convert {\n",
              "      background-color: #E8F0FE;\n",
              "      border: none;\n",
              "      border-radius: 50%;\n",
              "      cursor: pointer;\n",
              "      display: none;\n",
              "      fill: #1967D2;\n",
              "      height: 32px;\n",
              "      padding: 0 0 0 0;\n",
              "      width: 32px;\n",
              "    }\n",
              "\n",
              "    .colab-df-convert:hover {\n",
              "      background-color: #E2EBFA;\n",
              "      box-shadow: 0px 1px 2px rgba(60, 64, 67, 0.3), 0px 1px 3px 1px rgba(60, 64, 67, 0.15);\n",
              "      fill: #174EA6;\n",
              "    }\n",
              "\n",
              "    [theme=dark] .colab-df-convert {\n",
              "      background-color: #3B4455;\n",
              "      fill: #D2E3FC;\n",
              "    }\n",
              "\n",
              "    [theme=dark] .colab-df-convert:hover {\n",
              "      background-color: #434B5C;\n",
              "      box-shadow: 0px 1px 3px 1px rgba(0, 0, 0, 0.15);\n",
              "      filter: drop-shadow(0px 1px 2px rgba(0, 0, 0, 0.3));\n",
              "      fill: #FFFFFF;\n",
              "    }\n",
              "  </style>\n",
              "\n",
              "      <script>\n",
              "        const buttonEl =\n",
              "          document.querySelector('#df-0008cd3a-c254-4784-a2c8-25b2d1e168dd button.colab-df-convert');\n",
              "        buttonEl.style.display =\n",
              "          google.colab.kernel.accessAllowed ? 'block' : 'none';\n",
              "\n",
              "        async function convertToInteractive(key) {\n",
              "          const element = document.querySelector('#df-0008cd3a-c254-4784-a2c8-25b2d1e168dd');\n",
              "          const dataTable =\n",
              "            await google.colab.kernel.invokeFunction('convertToInteractive',\n",
              "                                                     [key], {});\n",
              "          if (!dataTable) return;\n",
              "\n",
              "          const docLinkHtml = 'Like what you see? Visit the ' +\n",
              "            '<a target=\"_blank\" href=https://colab.research.google.com/notebooks/data_table.ipynb>data table notebook</a>'\n",
              "            + ' to learn more about interactive tables.';\n",
              "          element.innerHTML = '';\n",
              "          dataTable['output_type'] = 'display_data';\n",
              "          await google.colab.output.renderOutput(dataTable, element);\n",
              "          const docLink = document.createElement('div');\n",
              "          docLink.innerHTML = docLinkHtml;\n",
              "          element.appendChild(docLink);\n",
              "        }\n",
              "      </script>\n",
              "    </div>\n",
              "  </div>\n",
              "  "
            ]
          },
          "metadata": {},
          "execution_count": 112
        }
      ]
    },
    {
      "cell_type": "code",
      "source": [
        "# Scale the accuracy values\n",
        "model_evaluations[\"accuracy\"] = model_evaluations[\"accuracy\"]/100"
      ],
      "metadata": {
        "id": "6CZJKlPlIC1D"
      },
      "execution_count": null,
      "outputs": []
    },
    {
      "cell_type": "code",
      "source": [
        "# Plot model evaluation metrics\n",
        "model_evaluations.plot(kind=\"bar\", figsize=(10,7)).legend(bbox_to_anchor=(1,1))"
      ],
      "metadata": {
        "id": "3ztJz8_dIUyT",
        "colab": {
          "base_uri": "https://localhost:8080/",
          "height": 550
        },
        "outputId": "f88ed86c-58fc-413b-83d9-7409d03a8999"
      },
      "execution_count": null,
      "outputs": [
        {
          "output_type": "execute_result",
          "data": {
            "text/plain": [
              "<matplotlib.legend.Legend at 0x7f3f7f691490>"
            ]
          },
          "metadata": {},
          "execution_count": 114
        },
        {
          "output_type": "display_data",
          "data": {
            "text/plain": [
              "<Figure size 720x504 with 1 Axes>"
            ],
            "image/png": "[encoded data removed]"
          },
          "metadata": {
            "needs_background": "light"
          }
        }
      ]
    },
    {
      "cell_type": "code",
      "source": [
        "# Sort model evaluation by f1-score metric\n",
        "model_evaluations.sort_values(\"f1\", ascending=False)[\"f1\"].plot(kind=\"bar\", figsize=(10,7))"
      ],
      "metadata": {
        "id": "sPF6t8BhIyTl",
        "colab": {
          "base_uri": "https://localhost:8080/",
          "height": 550
        },
        "outputId": "f6e706b1-0af3-4489-ad4b-d5d188e07ca3"
      },
      "execution_count": null,
      "outputs": [
        {
          "output_type": "execute_result",
          "data": {
            "text/plain": [
              "<matplotlib.axes._subplots.AxesSubplot at 0x7f3f7f5482d0>"
            ]
          },
          "metadata": {},
          "execution_count": 115
        },
        {
          "output_type": "display_data",
          "data": {
            "text/plain": [
              "<Figure size 720x504 with 1 Axes>"
            ],
            "image/png": "[encoded data removed]"
          },
          "metadata": {
            "needs_background": "light"
          }
        }
      ]
    },
    {
      "cell_type": "markdown",
      "source": [
        "### **Model Ensembling**\n",
        "\n",
        "Model Ensembling **combines multiple different models to make a predictions**. The idea of model ensembing is that if several uncorrelated models (different type of models) agree on prediction, then a prediction must be more robust than a prediction made by a singular model. These models were all trained on the same data, and they have a different way of finding patterns in data.\n",
        "\n",
        "There are few ways to combine models in a classification problem:\n",
        "1. **Averaging** - Take the output prediction probabilities of each model for each sample, combine them and then average them.\n",
        "2. **Majority vote (mode)** - Make class predictions with each of models on all samples, the predicted class is the one in majority. For example, if three different models predict [1, 0, 1] respectively, the majority class is 1, therefore, that would be the predicted label.\n",
        "3. **Model stacking** - Take the outputs of each of your chosen models and use them as inputs to another model.\n",
        "\n",
        "Model Ensembling : baseline model (model_0), LSTM model (model_2), and TF-Hub USE model (model_6)"
      ],
      "metadata": {
        "id": "YJa-7GHdJN2s"
      }
    },
    {
      "cell_type": "markdown",
      "source": [
        "**1. Averaging Models**"
      ],
      "metadata": {
        "id": "FvReJqzDLoal"
      }
    },
    {
      "cell_type": "code",
      "source": [
        "combined_pred_probs =model_0_pred_probs + tf.squeeze(model_2_preds_probs, axis=1) + tf.squeeze(model_6_fine_tuned_preds_probs, axis=1)\n",
        "averaging_combined_preds = tf.round(combined_pred_probs/3)\n",
        "averaging_combined_preds[:10]"
      ],
      "metadata": {
        "id": "jSgOB3TcJVHi",
        "colab": {
          "base_uri": "https://localhost:8080/"
        },
        "outputId": "3296d91d-471f-4cbd-d192-a9b69b148328"
      },
      "execution_count": null,
      "outputs": [
        {
          "output_type": "execute_result",
          "data": {
            "text/plain": [
              "<tf.Tensor: shape=(10,), dtype=float32, numpy=array([0., 1., 1., 0., 0., 1., 1., 1., 1., 1.], dtype=float32)>"
            ]
          },
          "metadata": {},
          "execution_count": 116
        }
      ]
    },
    {
      "cell_type": "code",
      "source": [
        "# Model evaluation\n",
        "averaging_ensemble_026_evaluation = evaluate_prediction(y_true=val_labels, \n",
        "                                                        y_pred=averaging_combined_preds)\n",
        "averaging_ensemble_026_evaluation"
      ],
      "metadata": {
        "id": "RLJt_at3OCdU",
        "colab": {
          "base_uri": "https://localhost:8080/"
        },
        "outputId": "94fe0910-559e-42b5-e6ac-a9c8bf6f24ff"
      },
      "execution_count": null,
      "outputs": [
        {
          "output_type": "execute_result",
          "data": {
            "text/plain": [
              "{'accuracy': 78.08398950131233,\n",
              " 'f1': 0.7806452350205135,\n",
              " 'precision': 0.7805831064048222,\n",
              " 'recall': 0.7808398950131233}"
            ]
          },
          "metadata": {},
          "execution_count": 117
        }
      ]
    },
    {
      "cell_type": "code",
      "source": [
        "# Add ensemble model to model_evaluations dataframe\n",
        "model_evaluations.loc[\"averaging_esemble\"] = averaging_ensemble_026_evaluation"
      ],
      "metadata": {
        "id": "r48IMBdgbYVh"
      },
      "execution_count": null,
      "outputs": []
    },
    {
      "cell_type": "code",
      "source": [
        "# Scale the accuracy value\n",
        "model_evaluations.loc[\"averaging_esemble\"][\"accuracy\"] = (model_evaluations.loc[\"averaging_esemble\"][\"accuracy\"])/100"
      ],
      "metadata": {
        "id": "QwVz5ZxYcIDk"
      },
      "execution_count": null,
      "outputs": []
    },
    {
      "cell_type": "markdown",
      "source": [
        "**2. Majority Vote Models**"
      ],
      "metadata": {
        "id": "WH8pYb0XPucX"
      }
    },
    {
      "cell_type": "code",
      "source": [
        "pred_temp = []\n",
        "majority_vote_pred = []\n",
        "\n",
        "for i in range(len(val_sentences)):\n",
        "  pred_temp.append(model_0_preds[i])\n",
        "  pred_temp.append(int(model_2_preds[i].numpy()))\n",
        "  pred_temp.append(int(model_6_fine_tuned_preds[i].numpy()))\n",
        "  mode = max(set(pred_temp), key=pred_temp.count)\n",
        "  majority_vote_pred.append(mode)\n",
        "  pred_temp = []\n",
        "\n",
        "majority_vote_pred[:10]"
      ],
      "metadata": {
        "id": "O7MzMGCBP285",
        "colab": {
          "base_uri": "https://localhost:8080/"
        },
        "outputId": "f15bab9e-e056-41e0-cbf3-41d8e291ceda"
      },
      "execution_count": null,
      "outputs": [
        {
          "output_type": "execute_result",
          "data": {
            "text/plain": [
              "[0, 1, 1, 0, 0, 1, 1, 1, 1, 0]"
            ]
          },
          "metadata": {},
          "execution_count": 120
        }
      ]
    },
    {
      "cell_type": "code",
      "source": [
        "len(majority_vote_pred)"
      ],
      "metadata": {
        "colab": {
          "base_uri": "https://localhost:8080/"
        },
        "id": "F2cp6kTk7r7A",
        "outputId": "3c5c77de-5ae3-45d2-ecb0-298384bd4334"
      },
      "execution_count": null,
      "outputs": [
        {
          "output_type": "execute_result",
          "data": {
            "text/plain": [
              "762"
            ]
          },
          "metadata": {},
          "execution_count": 121
        }
      ]
    },
    {
      "cell_type": "code",
      "source": [
        "# Model evaluation\n",
        "majority_vote_ensemble_026_evaluation = evaluate_prediction(y_true=val_labels, \n",
        "                                                        y_pred=majority_vote_pred)\n",
        "majority_vote_ensemble_026_evaluation"
      ],
      "metadata": {
        "colab": {
          "base_uri": "https://localhost:8080/"
        },
        "id": "vHTZuPsP8AZq",
        "outputId": "4765344e-e55f-41b1-fa57-775ff89c3eab"
      },
      "execution_count": null,
      "outputs": [
        {
          "output_type": "execute_result",
          "data": {
            "text/plain": [
              "{'accuracy': 80.5774278215223,\n",
              " 'f1': 0.8021877886035522,\n",
              " 'precision': 0.8147496935474905,\n",
              " 'recall': 0.8057742782152231}"
            ]
          },
          "metadata": {},
          "execution_count": 122
        }
      ]
    },
    {
      "cell_type": "code",
      "source": [
        "# Add ensemble model to model_evaluations dataframe\n",
        "model_evaluations.loc[\"majority_vote_esemble\"] = majority_vote_ensemble_026_evaluation"
      ],
      "metadata": {
        "id": "8Rdil0Df8Uqa"
      },
      "execution_count": null,
      "outputs": []
    },
    {
      "cell_type": "code",
      "source": [
        "# Scale the accuracy value\n",
        "model_evaluations.loc[\"majority_vote_esemble\"][\"accuracy\"] = (model_evaluations.loc[\"majority_vote_esemble\"][\"accuracy\"])/100"
      ],
      "metadata": {
        "id": "mEgMNIYO8bqB"
      },
      "execution_count": null,
      "outputs": []
    },
    {
      "cell_type": "code",
      "source": [
        "model_evaluations"
      ],
      "metadata": {
        "colab": {
          "base_uri": "https://localhost:8080/",
          "height": 363
        },
        "id": "YwwDT910c0F-",
        "outputId": "84e44ae2-eae6-4c21-b7f4-ebd5dfbda7f3"
      },
      "execution_count": null,
      "outputs": [
        {
          "output_type": "execute_result",
          "data": {
            "text/plain": [
              "                       accuracy  precision    recall        f1\n",
              "baseline               0.792651   0.811139  0.792651  0.786219\n",
              "simple_dense           0.787402   0.791492  0.787402  0.784697\n",
              "LSTM                   0.750656   0.751008  0.750656  0.748927\n",
              "GRU                    0.767717   0.767545  0.767717  0.766793\n",
              "bidirectional          0.766404   0.766590  0.766404  0.765121\n",
              "1D-CNN                 0.778215   0.780752  0.778215  0.775881\n",
              "tf_hub_USE             0.812336   0.814880  0.812336  0.810687\n",
              "tf_hub_USE_fine_tuned  0.818898   0.820563  0.818898  0.817642\n",
              "averaging_esemble      0.780840   0.780583  0.780840  0.780645\n",
              "majority_vote_esemble  0.805774   0.814750  0.805774  0.802188"
            ],
            "text/html": [
              "\n",
              "  <div id=\"df-0d1b0902-2f44-44a7-92fc-ca2213fb44b2\">\n",
              "    <div class=\"colab-df-container\">\n",
              "      <div>\n",
              "<style scoped>\n",
              "    .dataframe tbody tr th:only-of-type {\n",
              "        vertical-align: middle;\n",
              "    }\n",
              "\n",
              "    .dataframe tbody tr th {\n",
              "        vertical-align: top;\n",
              "    }\n",
              "\n",
              "    .dataframe thead th {\n",
              "        text-align: right;\n",
              "    }\n",
              "</style>\n",
              "<table border=\"1\" class=\"dataframe\">\n",
              "  <thead>\n",
              "    <tr style=\"text-align: right;\">\n",
              "      <th></th>\n",
              "      <th>accuracy</th>\n",
              "      <th>precision</th>\n",
              "      <th>recall</th>\n",
              "      <th>f1</th>\n",
              "    </tr>\n",
              "  </thead>\n",
              "  <tbody>\n",
              "    <tr>\n",
              "      <th>baseline</th>\n",
              "      <td>0.792651</td>\n",
              "      <td>0.811139</td>\n",
              "      <td>0.792651</td>\n",
              "      <td>0.786219</td>\n",
              "    </tr>\n",
              "    <tr>\n",
              "      <th>simple_dense</th>\n",
              "      <td>0.787402</td>\n",
              "      <td>0.791492</td>\n",
              "      <td>0.787402</td>\n",
              "      <td>0.784697</td>\n",
              "    </tr>\n",
              "    <tr>\n",
              "      <th>LSTM</th>\n",
              "      <td>0.750656</td>\n",
              "      <td>0.751008</td>\n",
              "      <td>0.750656</td>\n",
              "      <td>0.748927</td>\n",
              "    </tr>\n",
              "    <tr>\n",
              "      <th>GRU</th>\n",
              "      <td>0.767717</td>\n",
              "      <td>0.767545</td>\n",
              "      <td>0.767717</td>\n",
              "      <td>0.766793</td>\n",
              "    </tr>\n",
              "    <tr>\n",
              "      <th>bidirectional</th>\n",
              "      <td>0.766404</td>\n",
              "      <td>0.766590</td>\n",
              "      <td>0.766404</td>\n",
              "      <td>0.765121</td>\n",
              "    </tr>\n",
              "    <tr>\n",
              "      <th>1D-CNN</th>\n",
              "      <td>0.778215</td>\n",
              "      <td>0.780752</td>\n",
              "      <td>0.778215</td>\n",
              "      <td>0.775881</td>\n",
              "    </tr>\n",
              "    <tr>\n",
              "      <th>tf_hub_USE</th>\n",
              "      <td>0.812336</td>\n",
              "      <td>0.814880</td>\n",
              "      <td>0.812336</td>\n",
              "      <td>0.810687</td>\n",
              "    </tr>\n",
              "    <tr>\n",
              "      <th>tf_hub_USE_fine_tuned</th>\n",
              "      <td>0.818898</td>\n",
              "      <td>0.820563</td>\n",
              "      <td>0.818898</td>\n",
              "      <td>0.817642</td>\n",
              "    </tr>\n",
              "    <tr>\n",
              "      <th>averaging_esemble</th>\n",
              "      <td>0.780840</td>\n",
              "      <td>0.780583</td>\n",
              "      <td>0.780840</td>\n",
              "      <td>0.780645</td>\n",
              "    </tr>\n",
              "    <tr>\n",
              "      <th>majority_vote_esemble</th>\n",
              "      <td>0.805774</td>\n",
              "      <td>0.814750</td>\n",
              "      <td>0.805774</td>\n",
              "      <td>0.802188</td>\n",
              "    </tr>\n",
              "  </tbody>\n",
              "</table>\n",
              "</div>\n",
              "      <button class=\"colab-df-convert\" onclick=\"convertToInteractive('df-0d1b0902-2f44-44a7-92fc-ca2213fb44b2')\"\n",
              "              title=\"Convert this dataframe to an interactive table.\"\n",
              "              style=\"display:none;\">\n",
              "        \n",
              "  <svg xmlns=\"http://www.w3.org/2000/svg\" height=\"24px\"viewBox=\"0 0 24 24\"\n",
              "       width=\"24px\">\n",
              "    <path d=\"M0 0h24v24H0V0z\" fill=\"none\"/>\n",
              "    <path d=\"M18.56 5.44l.94 2.06.94-2.06 2.06-.94-2.06-.94-.94-2.06-.94 2.06-2.06.94zm-11 1L8.5 8.5l.94-2.06 2.06-.94-2.06-.94L8.5 2.5l-.94 2.06-2.06.94zm10 10l.94 2.06.94-2.06 2.06-.94-2.06-.94-.94-2.06-.94 2.06-2.06.94z\"/><path d=\"M17.41 7.96l-1.37-1.37c-.4-.4-.92-.59-1.43-.59-.52 0-1.04.2-1.43.59L10.3 9.45l-7.72 7.72c-.78.78-.78 2.05 0 2.83L4 21.41c.39.39.9.59 1.41.59.51 0 1.02-.2 1.41-.59l7.78-7.78 2.81-2.81c.8-.78.8-2.07 0-2.86zM5.41 20L4 18.59l7.72-7.72 1.47 1.35L5.41 20z\"/>\n",
              "  </svg>\n",
              "      </button>\n",
              "      \n",
              "  <style>\n",
              "    .colab-df-container {\n",
              "      display:flex;\n",
              "      flex-wrap:wrap;\n",
              "      gap: 12px;\n",
              "    }\n",
              "\n",
              "    .colab-df-convert {\n",
              "      background-color: #E8F0FE;\n",
              "      border: none;\n",
              "      border-radius: 50%;\n",
              "      cursor: pointer;\n",
              "      display: none;\n",
              "      fill: #1967D2;\n",
              "      height: 32px;\n",
              "      padding: 0 0 0 0;\n",
              "      width: 32px;\n",
              "    }\n",
              "\n",
              "    .colab-df-convert:hover {\n",
              "      background-color: #E2EBFA;\n",
              "      box-shadow: 0px 1px 2px rgba(60, 64, 67, 0.3), 0px 1px 3px 1px rgba(60, 64, 67, 0.15);\n",
              "      fill: #174EA6;\n",
              "    }\n",
              "\n",
              "    [theme=dark] .colab-df-convert {\n",
              "      background-color: #3B4455;\n",
              "      fill: #D2E3FC;\n",
              "    }\n",
              "\n",
              "    [theme=dark] .colab-df-convert:hover {\n",
              "      background-color: #434B5C;\n",
              "      box-shadow: 0px 1px 3px 1px rgba(0, 0, 0, 0.15);\n",
              "      filter: drop-shadow(0px 1px 2px rgba(0, 0, 0, 0.3));\n",
              "      fill: #FFFFFF;\n",
              "    }\n",
              "  </style>\n",
              "\n",
              "      <script>\n",
              "        const buttonEl =\n",
              "          document.querySelector('#df-0d1b0902-2f44-44a7-92fc-ca2213fb44b2 button.colab-df-convert');\n",
              "        buttonEl.style.display =\n",
              "          google.colab.kernel.accessAllowed ? 'block' : 'none';\n",
              "\n",
              "        async function convertToInteractive(key) {\n",
              "          const element = document.querySelector('#df-0d1b0902-2f44-44a7-92fc-ca2213fb44b2');\n",
              "          const dataTable =\n",
              "            await google.colab.kernel.invokeFunction('convertToInteractive',\n",
              "                                                     [key], {});\n",
              "          if (!dataTable) return;\n",
              "\n",
              "          const docLinkHtml = 'Like what you see? Visit the ' +\n",
              "            '<a target=\"_blank\" href=https://colab.research.google.com/notebooks/data_table.ipynb>data table notebook</a>'\n",
              "            + ' to learn more about interactive tables.';\n",
              "          element.innerHTML = '';\n",
              "          dataTable['output_type'] = 'display_data';\n",
              "          await google.colab.output.renderOutput(dataTable, element);\n",
              "          const docLink = document.createElement('div');\n",
              "          docLink.innerHTML = docLinkHtml;\n",
              "          element.appendChild(docLink);\n",
              "        }\n",
              "      </script>\n",
              "    </div>\n",
              "  </div>\n",
              "  "
            ]
          },
          "metadata": {},
          "execution_count": 125
        }
      ]
    },
    {
      "cell_type": "markdown",
      "source": [
        "The accuracy of prediction by majority-voting the prediction probabilities of 3 models is higher than the the accuracy of predicting by averaging. However, this values still does not perform better than Fine tuned TF_Hub USE model."
      ],
      "metadata": {
        "id": "LnKfis2p0HS5"
      }
    },
    {
      "cell_type": "markdown",
      "source": [
        "## **Evaluate Final Model**"
      ],
      "metadata": {
        "id": "LnwIdLuyRSx_"
      }
    },
    {
      "cell_type": "markdown",
      "source": [
        "### **Finding the Most Wrong Predictions**"
      ],
      "metadata": {
        "id": "7lOWUYBkRe6T"
      }
    },
    {
      "cell_type": "code",
      "source": [
        "# Create dataframe of prediction result on validation set\n",
        "val_preds = pd.DataFrame({\"text\": val_sentences,\n",
        "                          \"target\": val_labels,\n",
        "                          \"pred\": model_6_fine_tuned_preds,\n",
        "                          \"pred_probs\": tf.squeeze(model_6_fine_tuned_preds_probs)})\n",
        "val_preds.head()"
      ],
      "metadata": {
        "colab": {
          "base_uri": "https://localhost:8080/",
          "height": 206
        },
        "id": "ma_zCewVnKF_",
        "outputId": "b038e4d7-aca2-4a44-8b84-5ecbe8141ed1"
      },
      "execution_count": null,
      "outputs": [
        {
          "output_type": "execute_result",
          "data": {
            "text/plain": [
              "                                                   text  target  pred  \\\n",
              "4955  DFR EP016 Monthly Meltdown - On Dnbheaven 2015...       0   0.0   \n",
              "584   FedEx no longer to transport bioterror germs i...       0   1.0   \n",
              "7411  Gunmen kill four in El Salvador bus attack: Su...       1   1.0   \n",
              "5950  @camilacabello97 Internally and externally scr...       1   0.0   \n",
              "5541  Radiation emergency #preparedness starts with ...       1   1.0   \n",
              "\n",
              "      pred_probs  \n",
              "4955    0.158055  \n",
              "584     0.774859  \n",
              "7411    0.990229  \n",
              "5950    0.200230  \n",
              "5541    0.745679  "
            ],
            "text/html": [
              "\n",
              "  <div id=\"df-b2f34596-d801-4e22-ad09-9e9d289f3985\">\n",
              "    <div class=\"colab-df-container\">\n",
              "      <div>\n",
              "<style scoped>\n",
              "    .dataframe tbody tr th:only-of-type {\n",
              "        vertical-align: middle;\n",
              "    }\n",
              "\n",
              "    .dataframe tbody tr th {\n",
              "        vertical-align: top;\n",
              "    }\n",
              "\n",
              "    .dataframe thead th {\n",
              "        text-align: right;\n",
              "    }\n",
              "</style>\n",
              "<table border=\"1\" class=\"dataframe\">\n",
              "  <thead>\n",
              "    <tr style=\"text-align: right;\">\n",
              "      <th></th>\n",
              "      <th>text</th>\n",
              "      <th>target</th>\n",
              "      <th>pred</th>\n",
              "      <th>pred_probs</th>\n",
              "    </tr>\n",
              "  </thead>\n",
              "  <tbody>\n",
              "    <tr>\n",
              "      <th>4955</th>\n",
              "      <td>DFR EP016 Monthly Meltdown - On Dnbheaven 2015...</td>\n",
              "      <td>0</td>\n",
              "      <td>0.0</td>\n",
              "      <td>0.158055</td>\n",
              "    </tr>\n",
              "    <tr>\n",
              "      <th>584</th>\n",
              "      <td>FedEx no longer to transport bioterror germs i...</td>\n",
              "      <td>0</td>\n",
              "      <td>1.0</td>\n",
              "      <td>0.774859</td>\n",
              "    </tr>\n",
              "    <tr>\n",
              "      <th>7411</th>\n",
              "      <td>Gunmen kill four in El Salvador bus attack: Su...</td>\n",
              "      <td>1</td>\n",
              "      <td>1.0</td>\n",
              "      <td>0.990229</td>\n",
              "    </tr>\n",
              "    <tr>\n",
              "      <th>5950</th>\n",
              "      <td>@camilacabello97 Internally and externally scr...</td>\n",
              "      <td>1</td>\n",
              "      <td>0.0</td>\n",
              "      <td>0.200230</td>\n",
              "    </tr>\n",
              "    <tr>\n",
              "      <th>5541</th>\n",
              "      <td>Radiation emergency #preparedness starts with ...</td>\n",
              "      <td>1</td>\n",
              "      <td>1.0</td>\n",
              "      <td>0.745679</td>\n",
              "    </tr>\n",
              "  </tbody>\n",
              "</table>\n",
              "</div>\n",
              "      <button class=\"colab-df-convert\" onclick=\"convertToInteractive('df-b2f34596-d801-4e22-ad09-9e9d289f3985')\"\n",
              "              title=\"Convert this dataframe to an interactive table.\"\n",
              "              style=\"display:none;\">\n",
              "        \n",
              "  <svg xmlns=\"http://www.w3.org/2000/svg\" height=\"24px\"viewBox=\"0 0 24 24\"\n",
              "       width=\"24px\">\n",
              "    <path d=\"M0 0h24v24H0V0z\" fill=\"none\"/>\n",
              "    <path d=\"M18.56 5.44l.94 2.06.94-2.06 2.06-.94-2.06-.94-.94-2.06-.94 2.06-2.06.94zm-11 1L8.5 8.5l.94-2.06 2.06-.94-2.06-.94L8.5 2.5l-.94 2.06-2.06.94zm10 10l.94 2.06.94-2.06 2.06-.94-2.06-.94-.94-2.06-.94 2.06-2.06.94z\"/><path d=\"M17.41 7.96l-1.37-1.37c-.4-.4-.92-.59-1.43-.59-.52 0-1.04.2-1.43.59L10.3 9.45l-7.72 7.72c-.78.78-.78 2.05 0 2.83L4 21.41c.39.39.9.59 1.41.59.51 0 1.02-.2 1.41-.59l7.78-7.78 2.81-2.81c.8-.78.8-2.07 0-2.86zM5.41 20L4 18.59l7.72-7.72 1.47 1.35L5.41 20z\"/>\n",
              "  </svg>\n",
              "      </button>\n",
              "      \n",
              "  <style>\n",
              "    .colab-df-container {\n",
              "      display:flex;\n",
              "      flex-wrap:wrap;\n",
              "      gap: 12px;\n",
              "    }\n",
              "\n",
              "    .colab-df-convert {\n",
              "      background-color: #E8F0FE;\n",
              "      border: none;\n",
              "      border-radius: 50%;\n",
              "      cursor: pointer;\n",
              "      display: none;\n",
              "      fill: #1967D2;\n",
              "      height: 32px;\n",
              "      padding: 0 0 0 0;\n",
              "      width: 32px;\n",
              "    }\n",
              "\n",
              "    .colab-df-convert:hover {\n",
              "      background-color: #E2EBFA;\n",
              "      box-shadow: 0px 1px 2px rgba(60, 64, 67, 0.3), 0px 1px 3px 1px rgba(60, 64, 67, 0.15);\n",
              "      fill: #174EA6;\n",
              "    }\n",
              "\n",
              "    [theme=dark] .colab-df-convert {\n",
              "      background-color: #3B4455;\n",
              "      fill: #D2E3FC;\n",
              "    }\n",
              "\n",
              "    [theme=dark] .colab-df-convert:hover {\n",
              "      background-color: #434B5C;\n",
              "      box-shadow: 0px 1px 3px 1px rgba(0, 0, 0, 0.15);\n",
              "      filter: drop-shadow(0px 1px 2px rgba(0, 0, 0, 0.3));\n",
              "      fill: #FFFFFF;\n",
              "    }\n",
              "  </style>\n",
              "\n",
              "      <script>\n",
              "        const buttonEl =\n",
              "          document.querySelector('#df-b2f34596-d801-4e22-ad09-9e9d289f3985 button.colab-df-convert');\n",
              "        buttonEl.style.display =\n",
              "          google.colab.kernel.accessAllowed ? 'block' : 'none';\n",
              "\n",
              "        async function convertToInteractive(key) {\n",
              "          const element = document.querySelector('#df-b2f34596-d801-4e22-ad09-9e9d289f3985');\n",
              "          const dataTable =\n",
              "            await google.colab.kernel.invokeFunction('convertToInteractive',\n",
              "                                                     [key], {});\n",
              "          if (!dataTable) return;\n",
              "\n",
              "          const docLinkHtml = 'Like what you see? Visit the ' +\n",
              "            '<a target=\"_blank\" href=https://colab.research.google.com/notebooks/data_table.ipynb>data table notebook</a>'\n",
              "            + ' to learn more about interactive tables.';\n",
              "          element.innerHTML = '';\n",
              "          dataTable['output_type'] = 'display_data';\n",
              "          await google.colab.output.renderOutput(dataTable, element);\n",
              "          const docLink = document.createElement('div');\n",
              "          docLink.innerHTML = docLinkHtml;\n",
              "          element.appendChild(docLink);\n",
              "        }\n",
              "      </script>\n",
              "    </div>\n",
              "  </div>\n",
              "  "
            ]
          },
          "metadata": {},
          "execution_count": 126
        }
      ]
    },
    {
      "cell_type": "code",
      "source": [
        "# Find the most wrong predictions\n",
        "most_wrong_preds = val_preds[val_preds[\"target\"] != val_preds[\"pred\"]].sort_values(\"pred_probs\", ascending=False)\n",
        "most_wrong_preds"
      ],
      "metadata": {
        "id": "wL6TG0Pkq67A",
        "colab": {
          "base_uri": "https://localhost:8080/",
          "height": 424
        },
        "outputId": "b33e478b-0e9b-4655-ddb9-0a0fa9e82d6c"
      },
      "execution_count": null,
      "outputs": [
        {
          "output_type": "execute_result",
          "data": {
            "text/plain": [
              "                                                   text  target  pred  \\\n",
              "1206  ? High Skies - Burning Buildings ? http://t.co...       0   1.0   \n",
              "578   FedEx will no longer transport bioterror patho...       0   1.0   \n",
              "4821  @noah_anyname That's where the concentration c...       0   1.0   \n",
              "1186  Ashes 2015: AustraliaÛªs collapse at Trent Br...       0   1.0   \n",
              "3991  @madonnamking RSPCA site multiple 7 story high...       0   1.0   \n",
              "...                                                 ...     ...   ...   \n",
              "6160  @SoonerMagic_ I mean I'm a fan but I don't nee...       1   0.0   \n",
              "6221                    I get to smoke my shit in peace       1   0.0   \n",
              "5464  Reddit Will Now QuarantineÛ_ http://t.co/pkUA...       1   0.0   \n",
              "2250  Why are you deluged with low self-image? Take ...       1   0.0   \n",
              "1861  Ron &amp; Fez - Dave's High School Crush https...       1   0.0   \n",
              "\n",
              "      pred_probs  \n",
              "1206    0.921092  \n",
              "578     0.894714  \n",
              "4821    0.867376  \n",
              "1186    0.859500  \n",
              "3991    0.851407  \n",
              "...          ...  \n",
              "6160    0.039967  \n",
              "6221    0.039265  \n",
              "5464    0.037052  \n",
              "2250    0.035882  \n",
              "1861    0.033856  \n",
              "\n",
              "[138 rows x 4 columns]"
            ],
            "text/html": [
              "\n",
              "  <div id=\"df-d7310d33-57c1-4770-8a53-e86de802d4c0\">\n",
              "    <div class=\"colab-df-container\">\n",
              "      <div>\n",
              "<style scoped>\n",
              "    .dataframe tbody tr th:only-of-type {\n",
              "        vertical-align: middle;\n",
              "    }\n",
              "\n",
              "    .dataframe tbody tr th {\n",
              "        vertical-align: top;\n",
              "    }\n",
              "\n",
              "    .dataframe thead th {\n",
              "        text-align: right;\n",
              "    }\n",
              "</style>\n",
              "<table border=\"1\" class=\"dataframe\">\n",
              "  <thead>\n",
              "    <tr style=\"text-align: right;\">\n",
              "      <th></th>\n",
              "      <th>text</th>\n",
              "      <th>target</th>\n",
              "      <th>pred</th>\n",
              "      <th>pred_probs</th>\n",
              "    </tr>\n",
              "  </thead>\n",
              "  <tbody>\n",
              "    <tr>\n",
              "      <th>1206</th>\n",
              "      <td>? High Skies - Burning Buildings ? http://t.co...</td>\n",
              "      <td>0</td>\n",
              "      <td>1.0</td>\n",
              "      <td>0.921092</td>\n",
              "    </tr>\n",
              "    <tr>\n",
              "      <th>578</th>\n",
              "      <td>FedEx will no longer transport bioterror patho...</td>\n",
              "      <td>0</td>\n",
              "      <td>1.0</td>\n",
              "      <td>0.894714</td>\n",
              "    </tr>\n",
              "    <tr>\n",
              "      <th>4821</th>\n",
              "      <td>@noah_anyname That's where the concentration c...</td>\n",
              "      <td>0</td>\n",
              "      <td>1.0</td>\n",
              "      <td>0.867376</td>\n",
              "    </tr>\n",
              "    <tr>\n",
              "      <th>1186</th>\n",
              "      <td>Ashes 2015: AustraliaÛªs collapse at Trent Br...</td>\n",
              "      <td>0</td>\n",
              "      <td>1.0</td>\n",
              "      <td>0.859500</td>\n",
              "    </tr>\n",
              "    <tr>\n",
              "      <th>3991</th>\n",
              "      <td>@madonnamking RSPCA site multiple 7 story high...</td>\n",
              "      <td>0</td>\n",
              "      <td>1.0</td>\n",
              "      <td>0.851407</td>\n",
              "    </tr>\n",
              "    <tr>\n",
              "      <th>...</th>\n",
              "      <td>...</td>\n",
              "      <td>...</td>\n",
              "      <td>...</td>\n",
              "      <td>...</td>\n",
              "    </tr>\n",
              "    <tr>\n",
              "      <th>6160</th>\n",
              "      <td>@SoonerMagic_ I mean I'm a fan but I don't nee...</td>\n",
              "      <td>1</td>\n",
              "      <td>0.0</td>\n",
              "      <td>0.039967</td>\n",
              "    </tr>\n",
              "    <tr>\n",
              "      <th>6221</th>\n",
              "      <td>I get to smoke my shit in peace</td>\n",
              "      <td>1</td>\n",
              "      <td>0.0</td>\n",
              "      <td>0.039265</td>\n",
              "    </tr>\n",
              "    <tr>\n",
              "      <th>5464</th>\n",
              "      <td>Reddit Will Now QuarantineÛ_ http://t.co/pkUA...</td>\n",
              "      <td>1</td>\n",
              "      <td>0.0</td>\n",
              "      <td>0.037052</td>\n",
              "    </tr>\n",
              "    <tr>\n",
              "      <th>2250</th>\n",
              "      <td>Why are you deluged with low self-image? Take ...</td>\n",
              "      <td>1</td>\n",
              "      <td>0.0</td>\n",
              "      <td>0.035882</td>\n",
              "    </tr>\n",
              "    <tr>\n",
              "      <th>1861</th>\n",
              "      <td>Ron &amp;amp; Fez - Dave's High School Crush https...</td>\n",
              "      <td>1</td>\n",
              "      <td>0.0</td>\n",
              "      <td>0.033856</td>\n",
              "    </tr>\n",
              "  </tbody>\n",
              "</table>\n",
              "<p>138 rows × 4 columns</p>\n",
              "</div>\n",
              "      <button class=\"colab-df-convert\" onclick=\"convertToInteractive('df-d7310d33-57c1-4770-8a53-e86de802d4c0')\"\n",
              "              title=\"Convert this dataframe to an interactive table.\"\n",
              "              style=\"display:none;\">\n",
              "        \n",
              "  <svg xmlns=\"http://www.w3.org/2000/svg\" height=\"24px\"viewBox=\"0 0 24 24\"\n",
              "       width=\"24px\">\n",
              "    <path d=\"M0 0h24v24H0V0z\" fill=\"none\"/>\n",
              "    <path d=\"M18.56 5.44l.94 2.06.94-2.06 2.06-.94-2.06-.94-.94-2.06-.94 2.06-2.06.94zm-11 1L8.5 8.5l.94-2.06 2.06-.94-2.06-.94L8.5 2.5l-.94 2.06-2.06.94zm10 10l.94 2.06.94-2.06 2.06-.94-2.06-.94-.94-2.06-.94 2.06-2.06.94z\"/><path d=\"M17.41 7.96l-1.37-1.37c-.4-.4-.92-.59-1.43-.59-.52 0-1.04.2-1.43.59L10.3 9.45l-7.72 7.72c-.78.78-.78 2.05 0 2.83L4 21.41c.39.39.9.59 1.41.59.51 0 1.02-.2 1.41-.59l7.78-7.78 2.81-2.81c.8-.78.8-2.07 0-2.86zM5.41 20L4 18.59l7.72-7.72 1.47 1.35L5.41 20z\"/>\n",
              "  </svg>\n",
              "      </button>\n",
              "      \n",
              "  <style>\n",
              "    .colab-df-container {\n",
              "      display:flex;\n",
              "      flex-wrap:wrap;\n",
              "      gap: 12px;\n",
              "    }\n",
              "\n",
              "    .colab-df-convert {\n",
              "      background-color: #E8F0FE;\n",
              "      border: none;\n",
              "      border-radius: 50%;\n",
              "      cursor: pointer;\n",
              "      display: none;\n",
              "      fill: #1967D2;\n",
              "      height: 32px;\n",
              "      padding: 0 0 0 0;\n",
              "      width: 32px;\n",
              "    }\n",
              "\n",
              "    .colab-df-convert:hover {\n",
              "      background-color: #E2EBFA;\n",
              "      box-shadow: 0px 1px 2px rgba(60, 64, 67, 0.3), 0px 1px 3px 1px rgba(60, 64, 67, 0.15);\n",
              "      fill: #174EA6;\n",
              "    }\n",
              "\n",
              "    [theme=dark] .colab-df-convert {\n",
              "      background-color: #3B4455;\n",
              "      fill: #D2E3FC;\n",
              "    }\n",
              "\n",
              "    [theme=dark] .colab-df-convert:hover {\n",
              "      background-color: #434B5C;\n",
              "      box-shadow: 0px 1px 3px 1px rgba(0, 0, 0, 0.15);\n",
              "      filter: drop-shadow(0px 1px 2px rgba(0, 0, 0, 0.3));\n",
              "      fill: #FFFFFF;\n",
              "    }\n",
              "  </style>\n",
              "\n",
              "      <script>\n",
              "        const buttonEl =\n",
              "          document.querySelector('#df-d7310d33-57c1-4770-8a53-e86de802d4c0 button.colab-df-convert');\n",
              "        buttonEl.style.display =\n",
              "          google.colab.kernel.accessAllowed ? 'block' : 'none';\n",
              "\n",
              "        async function convertToInteractive(key) {\n",
              "          const element = document.querySelector('#df-d7310d33-57c1-4770-8a53-e86de802d4c0');\n",
              "          const dataTable =\n",
              "            await google.colab.kernel.invokeFunction('convertToInteractive',\n",
              "                                                     [key], {});\n",
              "          if (!dataTable) return;\n",
              "\n",
              "          const docLinkHtml = 'Like what you see? Visit the ' +\n",
              "            '<a target=\"_blank\" href=https://colab.research.google.com/notebooks/data_table.ipynb>data table notebook</a>'\n",
              "            + ' to learn more about interactive tables.';\n",
              "          element.innerHTML = '';\n",
              "          dataTable['output_type'] = 'display_data';\n",
              "          await google.colab.output.renderOutput(dataTable, element);\n",
              "          const docLink = document.createElement('div');\n",
              "          docLink.innerHTML = docLinkHtml;\n",
              "          element.appendChild(docLink);\n",
              "        }\n",
              "      </script>\n",
              "    </div>\n",
              "  </div>\n",
              "  "
            ]
          },
          "metadata": {},
          "execution_count": 127
        }
      ]
    },
    {
      "cell_type": "code",
      "source": [
        "# Check the false positives (model predicted 1 when should've been 0)\n",
        "for row in most_wrong_preds[:10].itertuples(): # loop through the top 10 rows\n",
        "  _, text, target, pred, prob = row\n",
        "  print(f\"Target: {target}, Pred: {int(pred)}, Prob: {prob}\")\n",
        "  print(f\"Text:\\n{text}\\n\")\n",
        "  print(\"----\\n\")"
      ],
      "metadata": {
        "id": "MJIzmpr4vO--",
        "colab": {
          "base_uri": "https://localhost:8080/"
        },
        "outputId": "50b31ed4-200d-40a7-cfdb-a64ca7d4bff7"
      },
      "execution_count": null,
      "outputs": [
        {
          "output_type": "stream",
          "name": "stdout",
          "text": [
            "Target: 0, Pred: 1, Prob: 0.9210922122001648\n",
            "Text:\n",
            "? High Skies - Burning Buildings ? http://t.co/uVq41i3Kx2 #nowplaying\n",
            "\n",
            "----\n",
            "\n",
            "Target: 0, Pred: 1, Prob: 0.89471435546875\n",
            "Text:\n",
            "FedEx will no longer transport bioterror pathogens in wake of anthrax lab mishaps http://t.co/lHpgxc4b8J\n",
            "\n",
            "----\n",
            "\n",
            "Target: 0, Pred: 1, Prob: 0.8673757910728455\n",
            "Text:\n",
            "@noah_anyname That's where the concentration camps and mass murder come in. \n",
            " \n",
            "EVERY. FUCKING. TIME.\n",
            "\n",
            "----\n",
            "\n",
            "Target: 0, Pred: 1, Prob: 0.8595004081726074\n",
            "Text:\n",
            "Ashes 2015: AustraliaÛªs collapse at Trent Bridge among worst in history: England bundled out Australia for 60 ... http://t.co/t5TrhjUAU0\n",
            "\n",
            "----\n",
            "\n",
            "Target: 0, Pred: 1, Prob: 0.8514074683189392\n",
            "Text:\n",
            "@madonnamking RSPCA site multiple 7 story high rise buildings next to low density character residential in an area that floods\n",
            "\n",
            "----\n",
            "\n",
            "Target: 0, Pred: 1, Prob: 0.8391731977462769\n",
            "Text:\n",
            "@SonofLiberty357 all illuminated by the brightly burning buildings all around the town!\n",
            "\n",
            "----\n",
            "\n",
            "Target: 0, Pred: 1, Prob: 0.8361555933952332\n",
            "Text:\n",
            "[55436] 1950 LIONEL TRAINS SMOKE LOCOMOTIVES WITH MAGNE-TRACTION INSTRUCTIONS http://t.co/xEZBs3sq0y http://t.co/C2x0QoKGlY\n",
            "\n",
            "----\n",
            "\n",
            "Target: 0, Pred: 1, Prob: 0.8171494603157043\n",
            "Text:\n",
            "@AshGhebranious civil rights continued in the 60s. And what about trans-generational trauma? if anything we should listen to the Americans.\n",
            "\n",
            "----\n",
            "\n",
            "Target: 0, Pred: 1, Prob: 0.8073996901512146\n",
            "Text:\n",
            "åÈMGN-AFRICAå¨ pin:263789F4 åÈ Correction: Tent Collapse Story: Correction: Tent Collapse story åÈ http://t.co/fDJUYvZMrv @wizkidayo\n",
            "\n",
            "----\n",
            "\n",
            "Target: 0, Pred: 1, Prob: 0.7883972525596619\n",
            "Text:\n",
            "The Sound of Arson\n",
            "\n",
            "----\n",
            "\n"
          ]
        }
      ]
    },
    {
      "cell_type": "code",
      "source": [
        "# Check the most wrong false negatives (model predicted 0 when should've predict 1)\n",
        "for row in most_wrong_preds[-10:].itertuples():\n",
        "  _, text, target, pred, prob = row\n",
        "  print(f\"Target: {target}, Pred: {int(pred)}, Prob: {prob}\")\n",
        "  print(f\"Text:\\n{text}\\n\")\n",
        "  print(\"----\\n\")"
      ],
      "metadata": {
        "id": "mtSZ4CzbuSB9",
        "colab": {
          "base_uri": "https://localhost:8080/"
        },
        "outputId": "03da4549-b4cc-4cad-8d8a-bb7dd827c039"
      },
      "execution_count": null,
      "outputs": [
        {
          "output_type": "stream",
          "name": "stdout",
          "text": [
            "Target: 1, Pred: 0, Prob: 0.06411667168140411\n",
            "Text:\n",
            "VICTORINOX SWISS ARMY DATE WOMEN'S RUBBER MOP WATCH 241487 http://t.co/yFy3nkkcoH http://t.co/KNEhVvOHVK\n",
            "\n",
            "----\n",
            "\n",
            "Target: 1, Pred: 0, Prob: 0.061807479709386826\n",
            "Text:\n",
            "@willienelson We need help! Horses will die!Please RT &amp; sign petition!Take a stand &amp; be a voice for them! #gilbert23 https://t.co/e8dl1lNCVu\n",
            "\n",
            "----\n",
            "\n",
            "Target: 1, Pred: 0, Prob: 0.05916564166545868\n",
            "Text:\n",
            "'The way you move is like a full on rainstorm and I'm a house of cards'\n",
            "\n",
            "----\n",
            "\n",
            "Target: 1, Pred: 0, Prob: 0.057830989360809326\n",
            "Text:\n",
            "going to redo my nails and watch behind the scenes of desolation of smaug ayyy\n",
            "\n",
            "----\n",
            "\n",
            "Target: 1, Pred: 0, Prob: 0.045505423098802567\n",
            "Text:\n",
            "You can never escape me. Bullets don't harm me. Nothing harms me. But I know pain. I know pain. Sometimes I share it. With someone like you.\n",
            "\n",
            "----\n",
            "\n",
            "Target: 1, Pred: 0, Prob: 0.03996706381440163\n",
            "Text:\n",
            "@SoonerMagic_ I mean I'm a fan but I don't need a girl sounding off like a damn siren\n",
            "\n",
            "----\n",
            "\n",
            "Target: 1, Pred: 0, Prob: 0.03926471993327141\n",
            "Text:\n",
            "I get to smoke my shit in peace\n",
            "\n",
            "----\n",
            "\n",
            "Target: 1, Pred: 0, Prob: 0.03705187886953354\n",
            "Text:\n",
            "Reddit Will Now QuarantineÛ_ http://t.co/pkUAMXw6pm #onlinecommunities #reddit #amageddon #freespeech #Business http://t.co/PAWvNJ4sAP\n",
            "\n",
            "----\n",
            "\n",
            "Target: 1, Pred: 0, Prob: 0.03588177636265755\n",
            "Text:\n",
            "Why are you deluged with low self-image? Take the quiz: http://t.co/XsPqdOrIqj http://t.co/CQYvFR4UCy\n",
            "\n",
            "----\n",
            "\n",
            "Target: 1, Pred: 0, Prob: 0.03385636955499649\n",
            "Text:\n",
            "Ron &amp; Fez - Dave's High School Crush https://t.co/aN3W16c8F6 via @YouTube\n",
            "\n",
            "----\n",
            "\n"
          ]
        }
      ]
    },
    {
      "cell_type": "code",
      "source": [
        "# save the file\n",
        "most_wrong_preds.to_csv(\"tweets_disaster_most_wrong_prediction.csv\")"
      ],
      "metadata": {
        "id": "SnA7XfXotDZ9"
      },
      "execution_count": null,
      "outputs": []
    },
    {
      "cell_type": "markdown",
      "source": [
        "### **Confusion Matrix**\n",
        "\n",
        "Make a confusion matrix with the best performing model's predictions on the validation set and the validation ground truth labels."
      ],
      "metadata": {
        "id": "Rlf2A20_SriA"
      }
    },
    {
      "cell_type": "code",
      "source": [
        "# Plot confusion matrix\n",
        "from functions import create_confusion_matrix\n",
        "create_confusion_matrix(y_true=val_labels,\n",
        "                        y_pred=model_6_fine_tuned_preds,\n",
        "                        classes=['not_disaster','disaster'],\n",
        "                        figsize=(5,5),\n",
        "                        text_size=11,\n",
        "                        norm=False,\n",
        "                        savefig=True)"
      ],
      "metadata": {
        "id": "GN0p4Ra5tenz",
        "colab": {
          "base_uri": "https://localhost:8080/",
          "height": 370
        },
        "outputId": "2ae98d32-3715-415b-f603-f3b443ea87b1"
      },
      "execution_count": null,
      "outputs": [
        {
          "output_type": "display_data",
          "data": {
            "text/plain": [
              "<Figure size 360x360 with 2 Axes>"
            ],
            "image/png": "[encoded data removed]"
          },
          "metadata": {
            "needs_background": "light"
          }
        }
      ]
    },
    {
      "cell_type": "code",
      "source": [
        "# classification report\n",
        "\n",
        "from sklearn.metrics import classification_report\n",
        "print(classification_report(val_labels, model_6_fine_tuned_preds))"
      ],
      "metadata": {
        "id": "PvUWvjAk0ei7",
        "colab": {
          "base_uri": "https://localhost:8080/"
        },
        "outputId": "b9e73842-cb03-4499-e6b4-e895d9e67c8e"
      },
      "execution_count": null,
      "outputs": [
        {
          "output_type": "stream",
          "name": "stdout",
          "text": [
            "              precision    recall  f1-score   support\n",
            "\n",
            "           0       0.81      0.88      0.84       414\n",
            "           1       0.84      0.75      0.79       348\n",
            "\n",
            "    accuracy                           0.82       762\n",
            "   macro avg       0.82      0.81      0.82       762\n",
            "weighted avg       0.82      0.82      0.82       762\n",
            "\n"
          ]
        }
      ]
    },
    {
      "cell_type": "markdown",
      "source": [
        "### **Train Final Model on the Whole Training Set**"
      ],
      "metadata": {
        "id": "7e2BC43fQ9j8"
      }
    },
    {
      "cell_type": "code",
      "source": [
        "# Create EarlyStopping Callback\n",
        "## This callback stops training when a monitored metric has stopped improving.\n",
        "\n",
        "early_stopping = tf.keras.callbacks.EarlyStopping(monitor=\"loss\",\n",
        "                                                  patience=5) # if val_loss increases for 3 epochs, then training will be stopped"
      ],
      "metadata": {
        "id": "QugDpueC1Mmx"
      },
      "execution_count": null,
      "outputs": []
    },
    {
      "cell_type": "code",
      "source": [
        "# Create learning rate reduction callback\n",
        "reduce_lr = tf.keras.callbacks.ReduceLROnPlateau(monitor=\"loss\",\n",
        "                                                 factor=0.2,\n",
        "                                                 patience=3,\n",
        "                                                 verbose=1,\n",
        "                                                 min_lr=1e-7)"
      ],
      "metadata": {
        "id": "t2BQVuBt1Uv1"
      },
      "execution_count": null,
      "outputs": []
    },
    {
      "cell_type": "code",
      "source": [
        "# Create Tensorboard Callback \n",
        "from functions import create_tensorboard_callback\n",
        "\n",
        "checkpoint_path = \"whole_train_fine_tuned_use_model_checkpoints\" \n",
        "model_checkpoint = tf.keras.callbacks.ModelCheckpoint(checkpoint_path,\n",
        "                                                      monitor=\"acc\",\n",
        "                                                      save_best_only=True,\n",
        "                                                      save_weights_only=True,\n",
        "                                                      verbose=0)"
      ],
      "metadata": {
        "id": "YDwCGReD_5Iz"
      },
      "execution_count": null,
      "outputs": []
    },
    {
      "cell_type": "code",
      "source": [
        "whole_train_sentences = train[\"text\"]\n",
        "whole_train_labels = train[\"target\"]"
      ],
      "metadata": {
        "id": "clmll9lI_YJq"
      },
      "execution_count": null,
      "outputs": []
    },
    {
      "cell_type": "code",
      "source": [
        "# Re-Fit the model\n",
        "history_model_6_whole_train_fine_tuned = model_6.fit(whole_train_sentences,\n",
        "                              whole_train_labels,\n",
        "                              epochs=100,\n",
        "                              callbacks=[create_tensorboard_callback(\"model_logs\",\n",
        "                                                                     \"whole_train_fine_tuned_transfer_learning_use_model\"),\n",
        "                                         early_stopping,\n",
        "                                         reduce_lr])"
      ],
      "metadata": {
        "colab": {
          "base_uri": "https://localhost:8080/"
        },
        "id": "Qs5TK1ol_XUd",
        "outputId": "9f09aab7-ca53-4aa0-9e18-7e89b7b43424"
      },
      "execution_count": null,
      "outputs": [
        {
          "output_type": "stream",
          "name": "stdout",
          "text": [
            "Saving Tensorboard log files to model_logs/whole_train_fine_tuned_transfer_learning_use_model/20220717-021400\n",
            "Epoch 1/100\n",
            "238/238 [==============================] - 3s 10ms/step - loss: 0.3729 - accuracy: 0.8383 - lr: 2.0000e-05\n",
            "Epoch 2/100\n",
            "238/238 [==============================] - 2s 10ms/step - loss: 0.3727 - accuracy: 0.8374 - lr: 2.0000e-05\n",
            "Epoch 3/100\n",
            "238/238 [==============================] - 2s 10ms/step - loss: 0.3725 - accuracy: 0.8374 - lr: 2.0000e-05\n",
            "Epoch 4/100\n",
            "238/238 [==============================] - 2s 10ms/step - loss: 0.3723 - accuracy: 0.8370 - lr: 2.0000e-05\n",
            "Epoch 5/100\n",
            "238/238 [==============================] - 2s 10ms/step - loss: 0.3721 - accuracy: 0.8376 - lr: 2.0000e-05\n",
            "Epoch 6/100\n",
            "238/238 [==============================] - 2s 10ms/step - loss: 0.3719 - accuracy: 0.8382 - lr: 2.0000e-05\n",
            "Epoch 7/100\n",
            "238/238 [==============================] - 2s 10ms/step - loss: 0.3717 - accuracy: 0.8378 - lr: 2.0000e-05\n",
            "Epoch 8/100\n",
            "238/238 [==============================] - 2s 10ms/step - loss: 0.3716 - accuracy: 0.8376 - lr: 2.0000e-05\n",
            "Epoch 9/100\n",
            "238/238 [==============================] - 3s 11ms/step - loss: 0.3714 - accuracy: 0.8376 - lr: 2.0000e-05\n",
            "Epoch 10/100\n",
            "238/238 [==============================] - 3s 12ms/step - loss: 0.3712 - accuracy: 0.8378 - lr: 2.0000e-05\n",
            "Epoch 11/100\n",
            "238/238 [==============================] - 2s 10ms/step - loss: 0.3710 - accuracy: 0.8375 - lr: 2.0000e-05\n",
            "Epoch 12/100\n",
            "238/238 [==============================] - 2s 10ms/step - loss: 0.3709 - accuracy: 0.8378 - lr: 2.0000e-05\n",
            "Epoch 13/100\n",
            "238/238 [==============================] - 2s 10ms/step - loss: 0.3707 - accuracy: 0.8374 - lr: 2.0000e-05\n",
            "Epoch 14/100\n",
            "238/238 [==============================] - 2s 10ms/step - loss: 0.3705 - accuracy: 0.8373 - lr: 2.0000e-05\n",
            "Epoch 15/100\n",
            "238/238 [==============================] - 2s 10ms/step - loss: 0.3704 - accuracy: 0.8376 - lr: 2.0000e-05\n",
            "Epoch 16/100\n",
            "238/238 [==============================] - 2s 10ms/step - loss: 0.3702 - accuracy: 0.8374 - lr: 2.0000e-05\n",
            "Epoch 17/100\n",
            "238/238 [==============================] - 2s 10ms/step - loss: 0.3700 - accuracy: 0.8379 - lr: 2.0000e-05\n",
            "Epoch 18/100\n",
            "238/238 [==============================] - 2s 10ms/step - loss: 0.3699 - accuracy: 0.8378 - lr: 2.0000e-05\n",
            "Epoch 19/100\n",
            "238/238 [==============================] - 2s 10ms/step - loss: 0.3697 - accuracy: 0.8374 - lr: 2.0000e-05\n",
            "Epoch 20/100\n",
            "238/238 [==============================] - 3s 14ms/step - loss: 0.3696 - accuracy: 0.8378 - lr: 2.0000e-05\n",
            "Epoch 21/100\n",
            "238/238 [==============================] - 3s 12ms/step - loss: 0.3694 - accuracy: 0.8382 - lr: 2.0000e-05\n",
            "Epoch 22/100\n",
            "238/238 [==============================] - 2s 10ms/step - loss: 0.3693 - accuracy: 0.8376 - lr: 2.0000e-05\n",
            "Epoch 23/100\n",
            "238/238 [==============================] - 2s 10ms/step - loss: 0.3691 - accuracy: 0.8384 - lr: 2.0000e-05\n",
            "Epoch 24/100\n",
            "238/238 [==============================] - 2s 10ms/step - loss: 0.3689 - accuracy: 0.8380 - lr: 2.0000e-05\n",
            "Epoch 25/100\n",
            "238/238 [==============================] - 2s 10ms/step - loss: 0.3688 - accuracy: 0.8383 - lr: 2.0000e-05\n",
            "Epoch 26/100\n",
            "238/238 [==============================] - 2s 10ms/step - loss: 0.3687 - accuracy: 0.8383 - lr: 2.0000e-05\n",
            "Epoch 27/100\n",
            "238/238 [==============================] - 2s 10ms/step - loss: 0.3685 - accuracy: 0.8380 - lr: 2.0000e-05\n",
            "Epoch 28/100\n",
            "238/238 [==============================] - 2s 10ms/step - loss: 0.3683 - accuracy: 0.8383 - lr: 2.0000e-05\n",
            "Epoch 29/100\n",
            "238/238 [==============================] - 2s 10ms/step - loss: 0.3682 - accuracy: 0.8390 - lr: 2.0000e-05\n",
            "Epoch 30/100\n",
            "238/238 [==============================] - 2s 10ms/step - loss: 0.3680 - accuracy: 0.8391 - lr: 2.0000e-05\n",
            "Epoch 31/100\n",
            "238/238 [==============================] - 2s 10ms/step - loss: 0.3679 - accuracy: 0.8388 - lr: 2.0000e-05\n",
            "Epoch 32/100\n",
            "238/238 [==============================] - 2s 10ms/step - loss: 0.3677 - accuracy: 0.8391 - lr: 2.0000e-05\n",
            "Epoch 33/100\n",
            "238/238 [==============================] - 3s 12ms/step - loss: 0.3676 - accuracy: 0.8392 - lr: 2.0000e-05\n",
            "Epoch 34/100\n",
            "238/238 [==============================] - 2s 10ms/step - loss: 0.3675 - accuracy: 0.8395 - lr: 2.0000e-05\n",
            "Epoch 35/100\n",
            "238/238 [==============================] - 2s 10ms/step - loss: 0.3673 - accuracy: 0.8396 - lr: 2.0000e-05\n",
            "Epoch 36/100\n",
            "238/238 [==============================] - 2s 10ms/step - loss: 0.3672 - accuracy: 0.8392 - lr: 2.0000e-05\n",
            "Epoch 37/100\n",
            "238/238 [==============================] - 2s 10ms/step - loss: 0.3670 - accuracy: 0.8395 - lr: 2.0000e-05\n",
            "Epoch 38/100\n",
            "238/238 [==============================] - 2s 10ms/step - loss: 0.3669 - accuracy: 0.8396 - lr: 2.0000e-05\n",
            "Epoch 39/100\n",
            "238/238 [==============================] - 2s 10ms/step - loss: 0.3667 - accuracy: 0.8397 - lr: 2.0000e-05\n",
            "Epoch 40/100\n",
            "238/238 [==============================] - 3s 12ms/step - loss: 0.3666 - accuracy: 0.8395 - lr: 2.0000e-05\n",
            "Epoch 41/100\n",
            "238/238 [==============================] - 3s 12ms/step - loss: 0.3664 - accuracy: 0.8397 - lr: 2.0000e-05\n",
            "Epoch 42/100\n",
            "238/238 [==============================] - 2s 10ms/step - loss: 0.3663 - accuracy: 0.8399 - lr: 2.0000e-05\n",
            "Epoch 43/100\n",
            "238/238 [==============================] - 2s 10ms/step - loss: 0.3661 - accuracy: 0.8397 - lr: 2.0000e-05\n",
            "Epoch 44/100\n",
            "238/238 [==============================] - 2s 10ms/step - loss: 0.3660 - accuracy: 0.8399 - lr: 2.0000e-05\n",
            "Epoch 45/100\n",
            "238/238 [==============================] - 2s 10ms/step - loss: 0.3658 - accuracy: 0.8396 - lr: 2.0000e-05\n",
            "Epoch 46/100\n",
            "238/238 [==============================] - 2s 10ms/step - loss: 0.3657 - accuracy: 0.8399 - lr: 2.0000e-05\n",
            "Epoch 47/100\n",
            "238/238 [==============================] - 2s 10ms/step - loss: 0.3656 - accuracy: 0.8399 - lr: 2.0000e-05\n",
            "Epoch 48/100\n",
            "238/238 [==============================] - 2s 10ms/step - loss: 0.3654 - accuracy: 0.8403 - lr: 2.0000e-05\n",
            "Epoch 49/100\n",
            "238/238 [==============================] - 2s 10ms/step - loss: 0.3653 - accuracy: 0.8403 - lr: 2.0000e-05\n",
            "Epoch 50/100\n",
            "238/238 [==============================] - 2s 10ms/step - loss: 0.3652 - accuracy: 0.8404 - lr: 2.0000e-05\n",
            "Epoch 51/100\n",
            "238/238 [==============================] - 2s 10ms/step - loss: 0.3650 - accuracy: 0.8405 - lr: 2.0000e-05\n",
            "Epoch 52/100\n",
            "238/238 [==============================] - 2s 10ms/step - loss: 0.3649 - accuracy: 0.8407 - lr: 2.0000e-05\n",
            "Epoch 53/100\n",
            "238/238 [==============================] - 4s 17ms/step - loss: 0.3647 - accuracy: 0.8405 - lr: 2.0000e-05\n",
            "Epoch 54/100\n",
            "238/238 [==============================] - 2s 10ms/step - loss: 0.3646 - accuracy: 0.8405 - lr: 2.0000e-05\n",
            "Epoch 55/100\n",
            "238/238 [==============================] - 2s 10ms/step - loss: 0.3645 - accuracy: 0.8404 - lr: 2.0000e-05\n",
            "Epoch 56/100\n",
            "238/238 [==============================] - 2s 10ms/step - loss: 0.3643 - accuracy: 0.8405 - lr: 2.0000e-05\n",
            "Epoch 57/100\n",
            "238/238 [==============================] - 2s 10ms/step - loss: 0.3642 - accuracy: 0.8405 - lr: 2.0000e-05\n",
            "Epoch 58/100\n",
            "238/238 [==============================] - 2s 10ms/step - loss: 0.3641 - accuracy: 0.8411 - lr: 2.0000e-05\n",
            "Epoch 59/100\n",
            "238/238 [==============================] - 2s 10ms/step - loss: 0.3639 - accuracy: 0.8411 - lr: 2.0000e-05\n",
            "Epoch 60/100\n",
            "238/238 [==============================] - 2s 10ms/step - loss: 0.3638 - accuracy: 0.8411 - lr: 2.0000e-05\n",
            "Epoch 61/100\n",
            "238/238 [==============================] - 2s 10ms/step - loss: 0.3636 - accuracy: 0.8413 - lr: 2.0000e-05\n",
            "Epoch 62/100\n",
            "238/238 [==============================] - 2s 10ms/step - loss: 0.3635 - accuracy: 0.8413 - lr: 2.0000e-05\n",
            "Epoch 63/100\n",
            "238/238 [==============================] - 2s 10ms/step - loss: 0.3634 - accuracy: 0.8416 - lr: 2.0000e-05\n",
            "Epoch 64/100\n",
            "238/238 [==============================] - 2s 10ms/step - loss: 0.3632 - accuracy: 0.8413 - lr: 2.0000e-05\n",
            "Epoch 65/100\n",
            "238/238 [==============================] - 2s 10ms/step - loss: 0.3631 - accuracy: 0.8416 - lr: 2.0000e-05\n",
            "Epoch 66/100\n",
            "238/238 [==============================] - 2s 10ms/step - loss: 0.3630 - accuracy: 0.8412 - lr: 2.0000e-05\n",
            "Epoch 67/100\n",
            "238/238 [==============================] - 2s 10ms/step - loss: 0.3628 - accuracy: 0.8417 - lr: 2.0000e-05\n",
            "Epoch 68/100\n",
            "238/238 [==============================] - 2s 10ms/step - loss: 0.3627 - accuracy: 0.8417 - lr: 2.0000e-05\n",
            "Epoch 69/100\n",
            "238/238 [==============================] - 2s 10ms/step - loss: 0.3626 - accuracy: 0.8412 - lr: 2.0000e-05\n",
            "Epoch 70/100\n",
            "238/238 [==============================] - 2s 10ms/step - loss: 0.3624 - accuracy: 0.8417 - lr: 2.0000e-05\n",
            "Epoch 71/100\n",
            "238/238 [==============================] - 2s 10ms/step - loss: 0.3623 - accuracy: 0.8416 - lr: 2.0000e-05\n",
            "Epoch 72/100\n",
            "238/238 [==============================] - 2s 10ms/step - loss: 0.3621 - accuracy: 0.8424 - lr: 2.0000e-05\n",
            "Epoch 73/100\n",
            "238/238 [==============================] - 2s 10ms/step - loss: 0.3620 - accuracy: 0.8418 - lr: 2.0000e-05\n",
            "Epoch 74/100\n",
            "238/238 [==============================] - 2s 10ms/step - loss: 0.3619 - accuracy: 0.8420 - lr: 2.0000e-05\n",
            "Epoch 75/100\n",
            "238/238 [==============================] - 2s 10ms/step - loss: 0.3618 - accuracy: 0.8422 - lr: 2.0000e-05\n",
            "Epoch 76/100\n",
            "238/238 [==============================] - 2s 10ms/step - loss: 0.3616 - accuracy: 0.8422 - lr: 2.0000e-05\n",
            "Epoch 77/100\n",
            "238/238 [==============================] - 2s 10ms/step - loss: 0.3615 - accuracy: 0.8421 - lr: 2.0000e-05\n",
            "Epoch 78/100\n",
            "238/238 [==============================] - 2s 10ms/step - loss: 0.3614 - accuracy: 0.8424 - lr: 2.0000e-05\n",
            "Epoch 79/100\n",
            "238/238 [==============================] - 2s 10ms/step - loss: 0.3612 - accuracy: 0.8421 - lr: 2.0000e-05\n",
            "Epoch 80/100\n",
            "238/238 [==============================] - 2s 10ms/step - loss: 0.3611 - accuracy: 0.8422 - lr: 2.0000e-05\n",
            "Epoch 81/100\n",
            "238/238 [==============================] - 2s 10ms/step - loss: 0.3610 - accuracy: 0.8420 - lr: 2.0000e-05\n",
            "Epoch 82/100\n",
            "238/238 [==============================] - 2s 10ms/step - loss: 0.3608 - accuracy: 0.8428 - lr: 2.0000e-05\n",
            "Epoch 83/100\n",
            "238/238 [==============================] - 2s 10ms/step - loss: 0.3607 - accuracy: 0.8422 - lr: 2.0000e-05\n",
            "Epoch 84/100\n",
            "238/238 [==============================] - 2s 10ms/step - loss: 0.3605 - accuracy: 0.8428 - lr: 2.0000e-05\n",
            "Epoch 85/100\n",
            "238/238 [==============================] - 2s 10ms/step - loss: 0.3604 - accuracy: 0.8434 - lr: 2.0000e-05\n",
            "Epoch 86/100\n",
            "238/238 [==============================] - 4s 16ms/step - loss: 0.3603 - accuracy: 0.8428 - lr: 2.0000e-05\n",
            "Epoch 87/100\n",
            "238/238 [==============================] - 3s 11ms/step - loss: 0.3601 - accuracy: 0.8429 - lr: 2.0000e-05\n",
            "Epoch 88/100\n",
            "238/238 [==============================] - 2s 10ms/step - loss: 0.3600 - accuracy: 0.8432 - lr: 2.0000e-05\n",
            "Epoch 89/100\n",
            "238/238 [==============================] - 2s 10ms/step - loss: 0.3599 - accuracy: 0.8434 - lr: 2.0000e-05\n",
            "Epoch 90/100\n",
            "238/238 [==============================] - 2s 10ms/step - loss: 0.3597 - accuracy: 0.8432 - lr: 2.0000e-05\n",
            "Epoch 91/100\n",
            "238/238 [==============================] - 2s 10ms/step - loss: 0.3596 - accuracy: 0.8432 - lr: 2.0000e-05\n",
            "Epoch 92/100\n",
            "238/238 [==============================] - 2s 10ms/step - loss: 0.3595 - accuracy: 0.8433 - lr: 2.0000e-05\n",
            "Epoch 93/100\n",
            "238/238 [==============================] - 2s 10ms/step - loss: 0.3594 - accuracy: 0.8428 - lr: 2.0000e-05\n",
            "Epoch 94/100\n",
            "238/238 [==============================] - 2s 10ms/step - loss: 0.3592 - accuracy: 0.8436 - lr: 2.0000e-05\n",
            "Epoch 95/100\n",
            "238/238 [==============================] - 2s 10ms/step - loss: 0.3591 - accuracy: 0.8437 - lr: 2.0000e-05\n",
            "Epoch 96/100\n",
            "238/238 [==============================] - 2s 10ms/step - loss: 0.3590 - accuracy: 0.8438 - lr: 2.0000e-05\n",
            "Epoch 97/100\n",
            "238/238 [==============================] - 2s 10ms/step - loss: 0.3588 - accuracy: 0.8440 - lr: 2.0000e-05\n",
            "Epoch 98/100\n",
            "238/238 [==============================] - 2s 10ms/step - loss: 0.3587 - accuracy: 0.8434 - lr: 2.0000e-05\n",
            "Epoch 99/100\n",
            "238/238 [==============================] - 2s 10ms/step - loss: 0.3586 - accuracy: 0.8437 - lr: 2.0000e-05\n",
            "Epoch 100/100\n",
            "238/238 [==============================] - 2s 10ms/step - loss: 0.3584 - accuracy: 0.8436 - lr: 2.0000e-05\n"
          ]
        }
      ]
    },
    {
      "cell_type": "markdown",
      "source": [
        "### **Save the Model**"
      ],
      "metadata": {
        "id": "olxa2izIQ3Kc"
      }
    },
    {
      "cell_type": "code",
      "source": [
        "# Save Fine tuned TF Hub Sentence Encoder model to HDF5 format\n",
        "model_6.save(\"model_6.h5\")"
      ],
      "metadata": {
        "id": "5rprjruL5D4V"
      },
      "execution_count": null,
      "outputs": []
    },
    {
      "cell_type": "markdown",
      "source": [
        "### **Making Predictions on Testing Set**"
      ],
      "metadata": {
        "id": "86-GRpcMRkHh"
      }
    },
    {
      "cell_type": "code",
      "source": [
        "test_sentences = test[\"text\"].to_list()\n",
        "test_samples = random.sample(test_sentences, 15)\n",
        "for i in test_samples:\n",
        "  pred_prob = tf.squeeze(model_6.predict([i]))\n",
        "  pred = tf.round(pred_prob)\n",
        "  print(f\"Pred: {int(pred)}, Prob: {pred_prob}\")\n",
        "  print(f\"Text:\\n{i}\\n\")\n",
        "  print(\"-----\\n\")"
      ],
      "metadata": {
        "id": "e1arH2MdA7Nb",
        "colab": {
          "base_uri": "https://localhost:8080/"
        },
        "outputId": "5b6d26a2-164b-4e84-d965-de82a91f4b53"
      },
      "execution_count": null,
      "outputs": [
        {
          "output_type": "stream",
          "name": "stdout",
          "text": [
            "Pred: 0, Prob: 0.3417355716228485\n",
            "Text:\n",
            "@kdudakia I get that there has been a massive turn away from Labour but that does not = electoral landslide. Credits tories too much and...\n",
            "\n",
            "-----\n",
            "\n",
            "Pred: 0, Prob: 0.06624694168567657\n",
            "Text:\n",
            "People are bagging on Rousey's body? Shit I'd love to have a body like that. Those who are ridiculing her are probably dudes in skinny jeans\n",
            "\n",
            "-----\n",
            "\n",
            "Pred: 0, Prob: 0.13969890773296356\n",
            "Text:\n",
            "No one on the south shore knows how to make good coffee and I'm trapped in a living hell\n",
            "\n",
            "-----\n",
            "\n",
            "Pred: 1, Prob: 0.6715134382247925\n",
            "Text:\n",
            "Aurora Prediction: Kp: 3.33(11:16) 4.67(14:16) AK (earth 2.00) 75% Status: Low Storm\n",
            "\n",
            "-----\n",
            "\n",
            "Pred: 1, Prob: 0.9308799505233765\n",
            "Text:\n",
            "Motorcyclist bicyclist injured in Denver collision on Broadway: At least two people were taken to a localÛ_ http://t.co/PMv8ZDFnmr\n",
            "\n",
            "-----\n",
            "\n",
            "Pred: 1, Prob: 0.5323982834815979\n",
            "Text:\n",
            "pretty sure i almost drowned 26 times in the pool today thanks to abrianna\n",
            "\n",
            "-----\n",
            "\n",
            "Pred: 1, Prob: 0.6232441663742065\n",
            "Text:\n",
            "Thought it was a drought!\n",
            "\n",
            "-----\n",
            "\n",
            "Pred: 1, Prob: 0.9024044275283813\n",
            "Text:\n",
            "#Reuters #US Forest #Service says spending more than half of budget on fires http://t.co/XlpgKguhkG\n",
            "\n",
            "-----\n",
            "\n",
            "Pred: 1, Prob: 0.8646174669265747\n",
            "Text:\n",
            "Birmingham Wholesale Market is ablaze BBC News - Fire breaks out at Birmingham's Wholesale Market http://t.co/irWqCEZWEU\n",
            "\n",
            "-----\n",
            "\n",
            "Pred: 0, Prob: 0.13272987306118011\n",
            "Text:\n",
            "'If your nature appropriates it love will burn you until you become annihilated in your beloved...'  https://t.co/sMlwjunD09\n",
            "\n",
            "-----\n",
            "\n",
            "Pred: 0, Prob: 0.074005126953125\n",
            "Text:\n",
            "New Ladies Shoulder Tote Handbag Faux Leather Hobo Purse Cross Body Bag Womens - Full readÛ_ http://t.co/Rpn6pXLPiB http://t.co/l6aYlVVDZ0\n",
            "\n",
            "-----\n",
            "\n",
            "Pred: 0, Prob: 0.06402470171451569\n",
            "Text:\n",
            "Starting a GoFundMe page for a new set of rims since i demolished mine last night #helpabrotherout\n",
            "\n",
            "-----\n",
            "\n",
            "Pred: 1, Prob: 0.9811806678771973\n",
            "Text:\n",
            "a very scary thought is if 9/11 had happened today their would be teenagers taking selfies in front of the burning buildings\n",
            "\n",
            "-----\n",
            "\n",
            "Pred: 0, Prob: 0.1620253473520279\n",
            "Text:\n",
            "@R_o_M by a landslide.\n",
            "\n",
            "-----\n",
            "\n",
            "Pred: 0, Prob: 0.3227793872356415\n",
            "Text:\n",
            "@KoscielnyFC Gabriel obliterated his fibula\n",
            "\n",
            "-----\n",
            "\n"
          ]
        }
      ]
    },
    {
      "cell_type": "code",
      "source": [
        "list_pred = []\n",
        "for i, column in test.iterrows():\n",
        "  pred_prob = tf.squeeze(model_6.predict([column[\"text\"]]))\n",
        "  pred = tf.round(pred_prob).numpy()\n",
        "  list_pred.append(pred)\n",
        "\n",
        "test[\"target\"] = list_pred\n",
        "test.head()"
      ],
      "metadata": {
        "colab": {
          "base_uri": "https://localhost:8080/",
          "height": 206
        },
        "id": "wgJVlEYE4AB0",
        "outputId": "07db8716-d47b-4fcf-c42d-6c2a84e2b87d"
      },
      "execution_count": null,
      "outputs": [
        {
          "output_type": "execute_result",
          "data": {
            "text/plain": [
              "   id keyword location                                               text  \\\n",
              "0   0     NaN      NaN                 Just happened a terrible car crash   \n",
              "1   2     NaN      NaN  Heard about #earthquake is different cities, s...   \n",
              "2   3     NaN      NaN  there is a forest fire at spot pond, geese are...   \n",
              "3   9     NaN      NaN           Apocalypse lighting. #Spokane #wildfires   \n",
              "4  11     NaN      NaN      Typhoon Soudelor kills 28 in China and Taiwan   \n",
              "\n",
              "   target  \n",
              "0     1.0  \n",
              "1     1.0  \n",
              "2     1.0  \n",
              "3     1.0  \n",
              "4     1.0  "
            ],
            "text/html": [
              "\n",
              "  <div id=\"df-613d7f12-29a7-428d-934c-f6f9c7c80a22\">\n",
              "    <div class=\"colab-df-container\">\n",
              "      <div>\n",
              "<style scoped>\n",
              "    .dataframe tbody tr th:only-of-type {\n",
              "        vertical-align: middle;\n",
              "    }\n",
              "\n",
              "    .dataframe tbody tr th {\n",
              "        vertical-align: top;\n",
              "    }\n",
              "\n",
              "    .dataframe thead th {\n",
              "        text-align: right;\n",
              "    }\n",
              "</style>\n",
              "<table border=\"1\" class=\"dataframe\">\n",
              "  <thead>\n",
              "    <tr style=\"text-align: right;\">\n",
              "      <th></th>\n",
              "      <th>id</th>\n",
              "      <th>keyword</th>\n",
              "      <th>location</th>\n",
              "      <th>text</th>\n",
              "      <th>target</th>\n",
              "    </tr>\n",
              "  </thead>\n",
              "  <tbody>\n",
              "    <tr>\n",
              "      <th>0</th>\n",
              "      <td>0</td>\n",
              "      <td>NaN</td>\n",
              "      <td>NaN</td>\n",
              "      <td>Just happened a terrible car crash</td>\n",
              "      <td>1.0</td>\n",
              "    </tr>\n",
              "    <tr>\n",
              "      <th>1</th>\n",
              "      <td>2</td>\n",
              "      <td>NaN</td>\n",
              "      <td>NaN</td>\n",
              "      <td>Heard about #earthquake is different cities, s...</td>\n",
              "      <td>1.0</td>\n",
              "    </tr>\n",
              "    <tr>\n",
              "      <th>2</th>\n",
              "      <td>3</td>\n",
              "      <td>NaN</td>\n",
              "      <td>NaN</td>\n",
              "      <td>there is a forest fire at spot pond, geese are...</td>\n",
              "      <td>1.0</td>\n",
              "    </tr>\n",
              "    <tr>\n",
              "      <th>3</th>\n",
              "      <td>9</td>\n",
              "      <td>NaN</td>\n",
              "      <td>NaN</td>\n",
              "      <td>Apocalypse lighting. #Spokane #wildfires</td>\n",
              "      <td>1.0</td>\n",
              "    </tr>\n",
              "    <tr>\n",
              "      <th>4</th>\n",
              "      <td>11</td>\n",
              "      <td>NaN</td>\n",
              "      <td>NaN</td>\n",
              "      <td>Typhoon Soudelor kills 28 in China and Taiwan</td>\n",
              "      <td>1.0</td>\n",
              "    </tr>\n",
              "  </tbody>\n",
              "</table>\n",
              "</div>\n",
              "      <button class=\"colab-df-convert\" onclick=\"convertToInteractive('df-613d7f12-29a7-428d-934c-f6f9c7c80a22')\"\n",
              "              title=\"Convert this dataframe to an interactive table.\"\n",
              "              style=\"display:none;\">\n",
              "        \n",
              "  <svg xmlns=\"http://www.w3.org/2000/svg\" height=\"24px\"viewBox=\"0 0 24 24\"\n",
              "       width=\"24px\">\n",
              "    <path d=\"M0 0h24v24H0V0z\" fill=\"none\"/>\n",
              "    <path d=\"M18.56 5.44l.94 2.06.94-2.06 2.06-.94-2.06-.94-.94-2.06-.94 2.06-2.06.94zm-11 1L8.5 8.5l.94-2.06 2.06-.94-2.06-.94L8.5 2.5l-.94 2.06-2.06.94zm10 10l.94 2.06.94-2.06 2.06-.94-2.06-.94-.94-2.06-.94 2.06-2.06.94z\"/><path d=\"M17.41 7.96l-1.37-1.37c-.4-.4-.92-.59-1.43-.59-.52 0-1.04.2-1.43.59L10.3 9.45l-7.72 7.72c-.78.78-.78 2.05 0 2.83L4 21.41c.39.39.9.59 1.41.59.51 0 1.02-.2 1.41-.59l7.78-7.78 2.81-2.81c.8-.78.8-2.07 0-2.86zM5.41 20L4 18.59l7.72-7.72 1.47 1.35L5.41 20z\"/>\n",
              "  </svg>\n",
              "      </button>\n",
              "      \n",
              "  <style>\n",
              "    .colab-df-container {\n",
              "      display:flex;\n",
              "      flex-wrap:wrap;\n",
              "      gap: 12px;\n",
              "    }\n",
              "\n",
              "    .colab-df-convert {\n",
              "      background-color: #E8F0FE;\n",
              "      border: none;\n",
              "      border-radius: 50%;\n",
              "      cursor: pointer;\n",
              "      display: none;\n",
              "      fill: #1967D2;\n",
              "      height: 32px;\n",
              "      padding: 0 0 0 0;\n",
              "      width: 32px;\n",
              "    }\n",
              "\n",
              "    .colab-df-convert:hover {\n",
              "      background-color: #E2EBFA;\n",
              "      box-shadow: 0px 1px 2px rgba(60, 64, 67, 0.3), 0px 1px 3px 1px rgba(60, 64, 67, 0.15);\n",
              "      fill: #174EA6;\n",
              "    }\n",
              "\n",
              "    [theme=dark] .colab-df-convert {\n",
              "      background-color: #3B4455;\n",
              "      fill: #D2E3FC;\n",
              "    }\n",
              "\n",
              "    [theme=dark] .colab-df-convert:hover {\n",
              "      background-color: #434B5C;\n",
              "      box-shadow: 0px 1px 3px 1px rgba(0, 0, 0, 0.15);\n",
              "      filter: drop-shadow(0px 1px 2px rgba(0, 0, 0, 0.3));\n",
              "      fill: #FFFFFF;\n",
              "    }\n",
              "  </style>\n",
              "\n",
              "      <script>\n",
              "        const buttonEl =\n",
              "          document.querySelector('#df-613d7f12-29a7-428d-934c-f6f9c7c80a22 button.colab-df-convert');\n",
              "        buttonEl.style.display =\n",
              "          google.colab.kernel.accessAllowed ? 'block' : 'none';\n",
              "\n",
              "        async function convertToInteractive(key) {\n",
              "          const element = document.querySelector('#df-613d7f12-29a7-428d-934c-f6f9c7c80a22');\n",
              "          const dataTable =\n",
              "            await google.colab.kernel.invokeFunction('convertToInteractive',\n",
              "                                                     [key], {});\n",
              "          if (!dataTable) return;\n",
              "\n",
              "          const docLinkHtml = 'Like what you see? Visit the ' +\n",
              "            '<a target=\"_blank\" href=https://colab.research.google.com/notebooks/data_table.ipynb>data table notebook</a>'\n",
              "            + ' to learn more about interactive tables.';\n",
              "          element.innerHTML = '';\n",
              "          dataTable['output_type'] = 'display_data';\n",
              "          await google.colab.output.renderOutput(dataTable, element);\n",
              "          const docLink = document.createElement('div');\n",
              "          docLink.innerHTML = docLinkHtml;\n",
              "          element.appendChild(docLink);\n",
              "        }\n",
              "      </script>\n",
              "    </div>\n",
              "  </div>\n",
              "  "
            ]
          },
          "metadata": {},
          "execution_count": 143
        }
      ]
    },
    {
      "cell_type": "markdown",
      "source": [
        "**For Kaggle Competition Submission**"
      ],
      "metadata": {
        "id": "fqOI6pC3BSUI"
      }
    },
    {
      "cell_type": "code",
      "source": [
        "test.columns"
      ],
      "metadata": {
        "colab": {
          "base_uri": "https://localhost:8080/"
        },
        "id": "1hC9NfdTBqJn",
        "outputId": "f4ea7a7d-f858-4c6a-b4e7-49624993e1ce"
      },
      "execution_count": null,
      "outputs": [
        {
          "output_type": "execute_result",
          "data": {
            "text/plain": [
              "Index(['id', 'keyword', 'location', 'text', 'target'], dtype='object')"
            ]
          },
          "metadata": {},
          "execution_count": 146
        }
      ]
    },
    {
      "cell_type": "code",
      "source": [
        "submission = test[['id','target']]\n",
        "submission.head(3)"
      ],
      "metadata": {
        "colab": {
          "base_uri": "https://localhost:8080/",
          "height": 143
        },
        "id": "o1LaWQgSBaE4",
        "outputId": "b2a40f90-cc11-4751-891d-69842f2d6971"
      },
      "execution_count": null,
      "outputs": [
        {
          "output_type": "execute_result",
          "data": {
            "text/plain": [
              "   id  target\n",
              "0   0     1.0\n",
              "1   2     1.0\n",
              "2   3     1.0"
            ],
            "text/html": [
              "\n",
              "  <div id=\"df-a36ad83c-ae07-4c31-a0ff-69b0f47da139\">\n",
              "    <div class=\"colab-df-container\">\n",
              "      <div>\n",
              "<style scoped>\n",
              "    .dataframe tbody tr th:only-of-type {\n",
              "        vertical-align: middle;\n",
              "    }\n",
              "\n",
              "    .dataframe tbody tr th {\n",
              "        vertical-align: top;\n",
              "    }\n",
              "\n",
              "    .dataframe thead th {\n",
              "        text-align: right;\n",
              "    }\n",
              "</style>\n",
              "<table border=\"1\" class=\"dataframe\">\n",
              "  <thead>\n",
              "    <tr style=\"text-align: right;\">\n",
              "      <th></th>\n",
              "      <th>id</th>\n",
              "      <th>target</th>\n",
              "    </tr>\n",
              "  </thead>\n",
              "  <tbody>\n",
              "    <tr>\n",
              "      <th>0</th>\n",
              "      <td>0</td>\n",
              "      <td>1.0</td>\n",
              "    </tr>\n",
              "    <tr>\n",
              "      <th>1</th>\n",
              "      <td>2</td>\n",
              "      <td>1.0</td>\n",
              "    </tr>\n",
              "    <tr>\n",
              "      <th>2</th>\n",
              "      <td>3</td>\n",
              "      <td>1.0</td>\n",
              "    </tr>\n",
              "  </tbody>\n",
              "</table>\n",
              "</div>\n",
              "      <button class=\"colab-df-convert\" onclick=\"convertToInteractive('df-a36ad83c-ae07-4c31-a0ff-69b0f47da139')\"\n",
              "              title=\"Convert this dataframe to an interactive table.\"\n",
              "              style=\"display:none;\">\n",
              "        \n",
              "  <svg xmlns=\"http://www.w3.org/2000/svg\" height=\"24px\"viewBox=\"0 0 24 24\"\n",
              "       width=\"24px\">\n",
              "    <path d=\"M0 0h24v24H0V0z\" fill=\"none\"/>\n",
              "    <path d=\"M18.56 5.44l.94 2.06.94-2.06 2.06-.94-2.06-.94-.94-2.06-.94 2.06-2.06.94zm-11 1L8.5 8.5l.94-2.06 2.06-.94-2.06-.94L8.5 2.5l-.94 2.06-2.06.94zm10 10l.94 2.06.94-2.06 2.06-.94-2.06-.94-.94-2.06-.94 2.06-2.06.94z\"/><path d=\"M17.41 7.96l-1.37-1.37c-.4-.4-.92-.59-1.43-.59-.52 0-1.04.2-1.43.59L10.3 9.45l-7.72 7.72c-.78.78-.78 2.05 0 2.83L4 21.41c.39.39.9.59 1.41.59.51 0 1.02-.2 1.41-.59l7.78-7.78 2.81-2.81c.8-.78.8-2.07 0-2.86zM5.41 20L4 18.59l7.72-7.72 1.47 1.35L5.41 20z\"/>\n",
              "  </svg>\n",
              "      </button>\n",
              "      \n",
              "  <style>\n",
              "    .colab-df-container {\n",
              "      display:flex;\n",
              "      flex-wrap:wrap;\n",
              "      gap: 12px;\n",
              "    }\n",
              "\n",
              "    .colab-df-convert {\n",
              "      background-color: #E8F0FE;\n",
              "      border: none;\n",
              "      border-radius: 50%;\n",
              "      cursor: pointer;\n",
              "      display: none;\n",
              "      fill: #1967D2;\n",
              "      height: 32px;\n",
              "      padding: 0 0 0 0;\n",
              "      width: 32px;\n",
              "    }\n",
              "\n",
              "    .colab-df-convert:hover {\n",
              "      background-color: #E2EBFA;\n",
              "      box-shadow: 0px 1px 2px rgba(60, 64, 67, 0.3), 0px 1px 3px 1px rgba(60, 64, 67, 0.15);\n",
              "      fill: #174EA6;\n",
              "    }\n",
              "\n",
              "    [theme=dark] .colab-df-convert {\n",
              "      background-color: #3B4455;\n",
              "      fill: #D2E3FC;\n",
              "    }\n",
              "\n",
              "    [theme=dark] .colab-df-convert:hover {\n",
              "      background-color: #434B5C;\n",
              "      box-shadow: 0px 1px 3px 1px rgba(0, 0, 0, 0.15);\n",
              "      filter: drop-shadow(0px 1px 2px rgba(0, 0, 0, 0.3));\n",
              "      fill: #FFFFFF;\n",
              "    }\n",
              "  </style>\n",
              "\n",
              "      <script>\n",
              "        const buttonEl =\n",
              "          document.querySelector('#df-a36ad83c-ae07-4c31-a0ff-69b0f47da139 button.colab-df-convert');\n",
              "        buttonEl.style.display =\n",
              "          google.colab.kernel.accessAllowed ? 'block' : 'none';\n",
              "\n",
              "        async function convertToInteractive(key) {\n",
              "          const element = document.querySelector('#df-a36ad83c-ae07-4c31-a0ff-69b0f47da139');\n",
              "          const dataTable =\n",
              "            await google.colab.kernel.invokeFunction('convertToInteractive',\n",
              "                                                     [key], {});\n",
              "          if (!dataTable) return;\n",
              "\n",
              "          const docLinkHtml = 'Like what you see? Visit the ' +\n",
              "            '<a target=\"_blank\" href=https://colab.research.google.com/notebooks/data_table.ipynb>data table notebook</a>'\n",
              "            + ' to learn more about interactive tables.';\n",
              "          element.innerHTML = '';\n",
              "          dataTable['output_type'] = 'display_data';\n",
              "          await google.colab.output.renderOutput(dataTable, element);\n",
              "          const docLink = document.createElement('div');\n",
              "          docLink.innerHTML = docLinkHtml;\n",
              "          element.appendChild(docLink);\n",
              "        }\n",
              "      </script>\n",
              "    </div>\n",
              "  </div>\n",
              "  "
            ]
          },
          "metadata": {},
          "execution_count": 147
        }
      ]
    },
    {
      "cell_type": "code",
      "source": [
        "len(submission)"
      ],
      "metadata": {
        "colab": {
          "base_uri": "https://localhost:8080/"
        },
        "id": "wsyasMAYCPB9",
        "outputId": "6447adb6-ccd9-4f30-8ad4-f019a7f78c56"
      },
      "execution_count": null,
      "outputs": [
        {
          "output_type": "execute_result",
          "data": {
            "text/plain": [
              "3263"
            ]
          },
          "metadata": {},
          "execution_count": 149
        }
      ]
    },
    {
      "cell_type": "code",
      "source": [
        "submission['target'].value_counts()"
      ],
      "metadata": {
        "colab": {
          "base_uri": "https://localhost:8080/"
        },
        "id": "ftKkQbe_DXjQ",
        "outputId": "ec23a268-9839-43d3-cf41-7c88cfad1094"
      },
      "execution_count": null,
      "outputs": [
        {
          "output_type": "execute_result",
          "data": {
            "text/plain": [
              "0.0    2031\n",
              "1.0    1232\n",
              "Name: target, dtype: int64"
            ]
          },
          "metadata": {},
          "execution_count": 152
        }
      ]
    },
    {
      "cell_type": "code",
      "source": [
        "submission.to_csv('submission.csv')"
      ],
      "metadata": {
        "id": "WF7dDtAtBzKX"
      },
      "execution_count": null,
      "outputs": []
    },
    {
      "cell_type": "markdown",
      "source": [
        "### **Predictiong on Unseen Tweets**"
      ],
      "metadata": {
        "id": "gI0FTxq9RyV1"
      }
    },
    {
      "cell_type": "code",
      "source": [
        "# Make a function to predict\n",
        "\n",
        "def predict_on_sentence(model, sentence):\n",
        "  \"\"\"\n",
        "  Uses model to make a prediction (not real disaster/ real disaster) on sentence.\n",
        "\n",
        "  Returns the sentence, the predicted label, and the prediction probability\n",
        "  \"\"\"\n",
        "  pred_prob = model.predict([sentence])\n",
        "  pred_label = tf.squeeze(tf.round(pred_prob)).numpy()\n",
        "  print(f\"Pred: {pred_label}\", \"(real disaster)\" if pred_label > 0 else \"(not real disaster)\", f\"Prob: {pred_prob[0][0]}\")\n",
        "  print(f\"Text:\\n{sentence}\")"
      ],
      "metadata": {
        "id": "kjSY9bwKDujH"
      },
      "execution_count": null,
      "outputs": []
    },
    {
      "cell_type": "code",
      "source": [
        "# Tweet source : https://twitter.com/NowMyNews/status/1548031290204491777\n",
        "tweet_1 = \"Video shows fireworks drama in France: two dead after explosion in crowd\"\n",
        "\n",
        "# Tweet source : https://twitter.com/WeAreProtestors/status/1546127265029050368\n",
        "tweet_2 = \"The manufactured energy crisis rolls on with a massive explosion at a natural gas plant in Oklahoma.\"\n",
        "\n",
        "# Tweet source : https://twitter.com/vinnie82d/status/1548019292372750339\n",
        "tweet_3 = \"@IKEAUSA Thank you very much. Your glass desk exploded. Not only will this be a pain to clean up, I now have a million+ shards of glass in my carpet.\""
      ],
      "metadata": {
        "id": "HrnVegUJDhXQ"
      },
      "execution_count": null,
      "outputs": []
    },
    {
      "cell_type": "code",
      "source": [
        "# Predict on diaster Tweet 1\n",
        "predict_on_sentence(model=model_6, \n",
        "                    sentence=tweet_1)"
      ],
      "metadata": {
        "id": "asF3SIVlF8wi",
        "colab": {
          "base_uri": "https://localhost:8080/"
        },
        "outputId": "1e4d78e3-7d28-409b-bed7-d74810cd9f89"
      },
      "execution_count": null,
      "outputs": [
        {
          "output_type": "stream",
          "name": "stdout",
          "text": [
            "Pred: 1.0 (real disaster) Prob: 0.9877524375915527\n",
            "Text:\n",
            "Video shows fireworks drama in France: two dead after explosion in crowd\n"
          ]
        }
      ]
    },
    {
      "cell_type": "code",
      "source": [
        "# Predict on diaster Tweet 2\n",
        "predict_on_sentence(model=model_6, \n",
        "                    sentence=tweet_2)"
      ],
      "metadata": {
        "id": "4ljb1BPPGA2-",
        "colab": {
          "base_uri": "https://localhost:8080/"
        },
        "outputId": "eb6f28c4-61b9-4b11-a119-10e27c9ce511"
      },
      "execution_count": null,
      "outputs": [
        {
          "output_type": "stream",
          "name": "stdout",
          "text": [
            "Pred: 1.0 (real disaster) Prob: 0.9872179627418518\n",
            "Text:\n",
            "The manufactured energy crisis rolls on with a massive explosion at a natural gas plant in Oklahoma.\n"
          ]
        }
      ]
    },
    {
      "cell_type": "code",
      "source": [
        "# Predict on diaster Tweet 3\n",
        "predict_on_sentence(model=model_6, \n",
        "                    sentence=tweet_3)"
      ],
      "metadata": {
        "id": "TPvEub91Gnkc",
        "colab": {
          "base_uri": "https://localhost:8080/"
        },
        "outputId": "a23dc8b8-66a9-4814-8301-bdba9a496d3e"
      },
      "execution_count": null,
      "outputs": [
        {
          "output_type": "stream",
          "name": "stdout",
          "text": [
            "Pred: 0.0 (not real disaster) Prob: 0.11066947132349014\n",
            "Text:\n",
            "@IKEAUSA Thank you very much. Your glass desk exploded. Not only will this be a pain to clean up, I now have a million+ shards of glass in my carpet.\n"
          ]
        }
      ]
    },
    {
      "cell_type": "markdown",
      "source": [
        "Prediction on unseen tweets results 3 out of 3 predictions are correct."
      ],
      "metadata": {
        "id": "5pjHGAHOzcnp"
      }
    },
    {
      "cell_type": "markdown",
      "source": [
        "### **Finding the Speed/Score Trade Off**"
      ],
      "metadata": {
        "id": "KH9BU9TwSHWK"
      }
    },
    {
      "cell_type": "code",
      "source": [
        "# Calculate the time of predictions\n",
        "import time\n",
        "\n",
        "def pred_timer(model, samples):\n",
        "  \"\"\"\n",
        "  Calculates how long a model could make predictions on samples.\n",
        "\n",
        "  Args:\n",
        "    model : a trained model\n",
        "    samples : a list of samples\n",
        "  \n",
        "  Returns:\n",
        "    total_time : total elapsed time for model to make predictions on samples\n",
        "    time_per_pred : time in second per single sample\n",
        "  \"\"\"\n",
        "  start_time = time.perf_counter()\n",
        "  model.predict(samples)\n",
        "  end_time = time.perf_counter()\n",
        "  total_time = end_time - start_time\n",
        "  time_per_pred = total_time/len(val_sentences)\n",
        "  return total_time, time_per_pred"
      ],
      "metadata": {
        "id": "x5vADN5CLtC7"
      },
      "execution_count": null,
      "outputs": []
    },
    {
      "cell_type": "code",
      "source": [
        "# Calculate TF-Hub USE Model (model_6) prediction time\n",
        "model_6_total_pred_time, model_6_time_per_pred = pred_timer(model_6, val_sentences)\n",
        "model_6_total_pred_time, model_6_time_per_pred"
      ],
      "metadata": {
        "id": "CFaCEPRFM-z-",
        "colab": {
          "base_uri": "https://localhost:8080/"
        },
        "outputId": "b6dcf299-3806-4d63-c7d8-ae3010116f6c"
      },
      "execution_count": null,
      "outputs": [
        {
          "output_type": "execute_result",
          "data": {
            "text/plain": [
              "(0.235118625000041, 0.0003085546259843058)"
            ]
          },
          "metadata": {},
          "execution_count": 174
        }
      ]
    },
    {
      "cell_type": "code",
      "source": [
        "# Calculate Baseline Model (model_0) prediction time\n",
        "model_0_total_pred_time, model_0_time_per_pred = pred_timer(model_0, val_sentences)\n",
        "model_0_total_pred_time, model_0_time_per_pred"
      ],
      "metadata": {
        "id": "EqAUD6TUNVhn",
        "colab": {
          "base_uri": "https://localhost:8080/"
        },
        "outputId": "a3adda64-b10e-4b98-c983-676e89f8b333"
      },
      "execution_count": null,
      "outputs": [
        {
          "output_type": "execute_result",
          "data": {
            "text/plain": [
              "(0.02175747000001138, 2.855311023623541e-05)"
            ]
          },
          "metadata": {},
          "execution_count": 175
        }
      ]
    },
    {
      "cell_type": "code",
      "source": [
        "# Visualize time per prediction and f1_score\n",
        "import matplotlib.pyplot as plt\n",
        "\n",
        "plt.figure(figsize=(10,7))\n",
        "plt.scatter(model_0_time_per_pred, model_0_evaluation[\"f1\"], label=\"baseline\")\n",
        "plt.scatter(model_6_time_per_pred, model_6_fine_tuned_evaluation[\"f1\"], label=\"tf_hub_use\")\n",
        "plt.legend()\n",
        "plt.title(\"The Speed-Score Trade Off\")\n",
        "plt.xlabel(\"Time per Prediction\")\n",
        "plt.ylabel(\"F1-Score\")"
      ],
      "metadata": {
        "id": "2D8cfsYPNfRU",
        "colab": {
          "base_uri": "https://localhost:8080/",
          "height": 475
        },
        "outputId": "a54394d5-3879-4fe4-af1c-1a286dc860df"
      },
      "execution_count": null,
      "outputs": [
        {
          "output_type": "execute_result",
          "data": {
            "text/plain": [
              "Text(0, 0.5, 'F1-Score')"
            ]
          },
          "metadata": {},
          "execution_count": 177
        },
        {
          "output_type": "display_data",
          "data": {
            "text/plain": [
              "<Figure size 720x504 with 1 Axes>"
            ],
            "image/png": "[encoded data removed]"
          },
          "metadata": {
            "needs_background": "light"
          }
        }
      ]
    },
    {
      "cell_type": "markdown",
      "source": [
        "According to plot above, the best performing model takes time 11x longer per prediction, in turn results F1-Score 0.032 higher than baseline model."
      ],
      "metadata": {
        "id": "VpwiRbU2wqc5"
      }
    }
  ]
}